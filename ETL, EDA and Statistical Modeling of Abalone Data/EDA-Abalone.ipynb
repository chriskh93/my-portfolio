{
 "cells": [
  {
   "cell_type": "markdown",
   "metadata": {
    "colab_type": "text",
    "id": "K5OfYhJP1pqB"
   },
   "source": [
    "# ETL, EDA, and Statistical Modeling of Abalone Data\n"
   ]
  },
  {
   "cell_type": "markdown",
   "metadata": {
    "colab_type": "text",
    "id": "qWXq2FnU1pqE"
   },
   "source": [
    "## Abalone Data\n",
    "\n",
    "\n",
    "\n",
    "```\n",
    "Description of fields in abalone data.\n",
    "\n",
    "Name            Data Type    Meas.    Description\n",
    "----            ---------    -----    -----------\n",
    "Sex             nominal               M, F, and I (infant)\n",
    "Length          continuous    mm      Longest shell measurement\n",
    "Diameter        continuous    mm      perpendicular to length\n",
    "Height          continuous    mm      with meat in shell\n",
    "Whole weight    continuous    grams   whole abalone\n",
    "Shucked weight  continuous    grams   weight of meat\n",
    "Viscera weight  continuous    grams   gut weight (after bleeding)\n",
    "Shell weight    continuous    grams   after being dried\n",
    "Rings           integer               +1.5 gives the age in years\n",
    "```\n",
    "\n",
    "The target variable is Rings because it is a predictor of age. You can take this as your problem, \"How do we estimate the age of an abalone from the available data?\"\n",
    "\n",
    "At a high level you have:\n",
    "\n",
    "1. Question/Problem\n",
    "2. ETL\n",
    "3. EDA\n",
    "4. Statistical and Mathematical Modeling.\n",
    "\n",
    "Of necessity, there is very little ETL here except to verify that the data has loaded correctly and with the correct types. For the EDA and Modeling parts, follow the guidelines in *Fundamentals*. Do not use regression as it had not been covered yet; you may only use single value models (mean) or mathematical distributions.\n",
    "\n",
    "**Begin**"
   ]
  },
  {
   "cell_type": "markdown",
   "metadata": {
    "colab_type": "text",
    "id": "S1AVoqwQ2rP0"
   },
   "source": [
    "## 1.1 Statement of the Problem\n",
    "\n",
    "Discuss your approach to estimating the age of the abalone from the available data."
   ]
  },
  {
   "cell_type": "markdown",
   "metadata": {
    "colab_type": "text",
    "id": "lhAZG84l3hzG"
   },
   "source": [
    "**Our approach in estimating the age of the abalone from the available data is as follows:**\n",
    "\n",
    " - ETL (Extract, Transform, and Load) the data\n",
    " - Perform single variable EDA to understand the distribution of each of the variables along the dataset. This step gives us a larger understanding into the dataset and its variables.\n",
    " - Perform pairwise EDA to test the correlation between our different features and our target (Rings in this case) \n",
    " - Find the feature with the highest correlation\n",
    " - Mathematically model the distribution of our target variable (Rings) along the dataset\n",
    " "
   ]
  },
  {
   "cell_type": "markdown",
   "metadata": {
    "colab_type": "text",
    "id": "VhUOc0Bw2xOj"
   },
   "source": [
    "## 1.2 (ETL) Extract, Transform, Load the Data"
   ]
  },
  {
   "cell_type": "code",
   "execution_count": 1,
   "metadata": {},
   "outputs": [
    {
     "name": "stderr",
     "output_type": "stream",
     "text": [
      "UsageError: Line magic function `%` not found.\n"
     ]
    }
   ],
   "source": [
    "% matplotlib inline"
   ]
  },
  {
   "cell_type": "code",
   "execution_count": 7,
   "metadata": {},
   "outputs": [],
   "source": [
    "import numpy as np\n",
    "import random as py_random\n",
    "import numpy.random as np_random\n",
    "import time\n",
    "import seaborn as sns\n",
    "import matplotlib.pyplot as plt\n",
    "import pandas as pd\n",
    "import scipy.stats as stats\n",
    "import statsmodels.api as sm"
   ]
  },
  {
   "cell_type": "code",
   "execution_count": 8,
   "metadata": {
    "colab": {},
    "colab_type": "code",
    "id": "uVoZBXNm1pqG"
   },
   "outputs": [
    {
     "data": {
      "text/html": [
       "<div>\n",
       "<style scoped>\n",
       "    .dataframe tbody tr th:only-of-type {\n",
       "        vertical-align: middle;\n",
       "    }\n",
       "\n",
       "    .dataframe tbody tr th {\n",
       "        vertical-align: top;\n",
       "    }\n",
       "\n",
       "    .dataframe thead th {\n",
       "        text-align: right;\n",
       "    }\n",
       "</style>\n",
       "<table border=\"1\" class=\"dataframe\">\n",
       "  <thead>\n",
       "    <tr style=\"text-align: right;\">\n",
       "      <th></th>\n",
       "      <th>0</th>\n",
       "      <th>1</th>\n",
       "      <th>2</th>\n",
       "      <th>3</th>\n",
       "      <th>4</th>\n",
       "      <th>5</th>\n",
       "      <th>6</th>\n",
       "      <th>7</th>\n",
       "      <th>8</th>\n",
       "    </tr>\n",
       "  </thead>\n",
       "  <tbody>\n",
       "    <tr>\n",
       "      <th>0</th>\n",
       "      <td>M</td>\n",
       "      <td>91</td>\n",
       "      <td>73</td>\n",
       "      <td>19</td>\n",
       "      <td>102.8</td>\n",
       "      <td>44.9</td>\n",
       "      <td>20.2</td>\n",
       "      <td>30.0</td>\n",
       "      <td>15</td>\n",
       "    </tr>\n",
       "    <tr>\n",
       "      <th>1</th>\n",
       "      <td>M</td>\n",
       "      <td>70</td>\n",
       "      <td>53</td>\n",
       "      <td>18</td>\n",
       "      <td>45.1</td>\n",
       "      <td>19.9</td>\n",
       "      <td>9.7</td>\n",
       "      <td>14.0</td>\n",
       "      <td>7</td>\n",
       "    </tr>\n",
       "    <tr>\n",
       "      <th>2</th>\n",
       "      <td>F</td>\n",
       "      <td>106</td>\n",
       "      <td>84</td>\n",
       "      <td>27</td>\n",
       "      <td>135.4</td>\n",
       "      <td>51.3</td>\n",
       "      <td>28.3</td>\n",
       "      <td>42.0</td>\n",
       "      <td>9</td>\n",
       "    </tr>\n",
       "    <tr>\n",
       "      <th>3</th>\n",
       "      <td>M</td>\n",
       "      <td>88</td>\n",
       "      <td>73</td>\n",
       "      <td>25</td>\n",
       "      <td>103.2</td>\n",
       "      <td>43.1</td>\n",
       "      <td>22.8</td>\n",
       "      <td>31.0</td>\n",
       "      <td>10</td>\n",
       "    </tr>\n",
       "    <tr>\n",
       "      <th>4</th>\n",
       "      <td>I</td>\n",
       "      <td>66</td>\n",
       "      <td>51</td>\n",
       "      <td>16</td>\n",
       "      <td>41.0</td>\n",
       "      <td>17.9</td>\n",
       "      <td>7.9</td>\n",
       "      <td>11.0</td>\n",
       "      <td>7</td>\n",
       "    </tr>\n",
       "  </tbody>\n",
       "</table>\n",
       "</div>"
      ],
      "text/plain": [
       "   0    1   2   3      4     5     6     7   8\n",
       "0  M   91  73  19  102.8  44.9  20.2  30.0  15\n",
       "1  M   70  53  18   45.1  19.9   9.7  14.0   7\n",
       "2  F  106  84  27  135.4  51.3  28.3  42.0   9\n",
       "3  M   88  73  25  103.2  43.1  22.8  31.0  10\n",
       "4  I   66  51  16   41.0  17.9   7.9  11.0   7"
      ]
     },
     "execution_count": 8,
     "metadata": {},
     "output_type": "execute_result"
    }
   ],
   "source": [
    "# You can load the dataset directly from a URL in Pandas\n",
    "import pandas as pd\n",
    "df = pd.read_csv(\"https://raw.githubusercontent.com/fundamentals-of-data-science/datasets/master/abalone.original.csv\",header=None)\n",
    "df.head()"
   ]
  },
  {
   "cell_type": "markdown",
   "metadata": {},
   "source": [
    "As shown on the dataframe above, the columns are not labeled"
   ]
  },
  {
   "cell_type": "code",
   "execution_count": 9,
   "metadata": {},
   "outputs": [
    {
     "data": {
      "text/html": [
       "<div>\n",
       "<style scoped>\n",
       "    .dataframe tbody tr th:only-of-type {\n",
       "        vertical-align: middle;\n",
       "    }\n",
       "\n",
       "    .dataframe tbody tr th {\n",
       "        vertical-align: top;\n",
       "    }\n",
       "\n",
       "    .dataframe thead th {\n",
       "        text-align: right;\n",
       "    }\n",
       "</style>\n",
       "<table border=\"1\" class=\"dataframe\">\n",
       "  <thead>\n",
       "    <tr style=\"text-align: right;\">\n",
       "      <th></th>\n",
       "      <th>Sex</th>\n",
       "      <th>Length</th>\n",
       "      <th>Diameter</th>\n",
       "      <th>Height</th>\n",
       "      <th>Whole weight</th>\n",
       "      <th>Shucked weight</th>\n",
       "      <th>Viscera weight</th>\n",
       "      <th>Shell weight</th>\n",
       "      <th>Rings</th>\n",
       "    </tr>\n",
       "  </thead>\n",
       "  <tbody>\n",
       "    <tr>\n",
       "      <th>0</th>\n",
       "      <td>M</td>\n",
       "      <td>91</td>\n",
       "      <td>73</td>\n",
       "      <td>19</td>\n",
       "      <td>102.8</td>\n",
       "      <td>44.9</td>\n",
       "      <td>20.2</td>\n",
       "      <td>30.0</td>\n",
       "      <td>15</td>\n",
       "    </tr>\n",
       "    <tr>\n",
       "      <th>1</th>\n",
       "      <td>M</td>\n",
       "      <td>70</td>\n",
       "      <td>53</td>\n",
       "      <td>18</td>\n",
       "      <td>45.1</td>\n",
       "      <td>19.9</td>\n",
       "      <td>9.7</td>\n",
       "      <td>14.0</td>\n",
       "      <td>7</td>\n",
       "    </tr>\n",
       "    <tr>\n",
       "      <th>2</th>\n",
       "      <td>F</td>\n",
       "      <td>106</td>\n",
       "      <td>84</td>\n",
       "      <td>27</td>\n",
       "      <td>135.4</td>\n",
       "      <td>51.3</td>\n",
       "      <td>28.3</td>\n",
       "      <td>42.0</td>\n",
       "      <td>9</td>\n",
       "    </tr>\n",
       "    <tr>\n",
       "      <th>3</th>\n",
       "      <td>M</td>\n",
       "      <td>88</td>\n",
       "      <td>73</td>\n",
       "      <td>25</td>\n",
       "      <td>103.2</td>\n",
       "      <td>43.1</td>\n",
       "      <td>22.8</td>\n",
       "      <td>31.0</td>\n",
       "      <td>10</td>\n",
       "    </tr>\n",
       "    <tr>\n",
       "      <th>4</th>\n",
       "      <td>I</td>\n",
       "      <td>66</td>\n",
       "      <td>51</td>\n",
       "      <td>16</td>\n",
       "      <td>41.0</td>\n",
       "      <td>17.9</td>\n",
       "      <td>7.9</td>\n",
       "      <td>11.0</td>\n",
       "      <td>7</td>\n",
       "    </tr>\n",
       "  </tbody>\n",
       "</table>\n",
       "</div>"
      ],
      "text/plain": [
       "  Sex  Length  Diameter  Height  Whole weight  Shucked weight  Viscera weight  \\\n",
       "0   M      91        73      19         102.8            44.9            20.2   \n",
       "1   M      70        53      18          45.1            19.9             9.7   \n",
       "2   F     106        84      27         135.4            51.3            28.3   \n",
       "3   M      88        73      25         103.2            43.1            22.8   \n",
       "4   I      66        51      16          41.0            17.9             7.9   \n",
       "\n",
       "   Shell weight  Rings  \n",
       "0          30.0     15  \n",
       "1          14.0      7  \n",
       "2          42.0      9  \n",
       "3          31.0     10  \n",
       "4          11.0      7  "
      ]
     },
     "execution_count": 9,
     "metadata": {},
     "output_type": "execute_result"
    }
   ],
   "source": [
    "df.columns=['Sex','Length','Diameter','Height','Whole weight','Shucked weight','Viscera weight','Shell weight','Rings']\n",
    "df.head()"
   ]
  },
  {
   "cell_type": "markdown",
   "metadata": {
    "colab_type": "text",
    "id": "lmK3roDw3eqg"
   },
   "source": [
    "After sucesfully naming our columns, we can proceed to the EDA"
   ]
  },
  {
   "cell_type": "markdown",
   "metadata": {
    "colab_type": "text",
    "id": "MlBjJXqx2z1I"
   },
   "source": [
    "## 1.3 (EDA) Exploratory Data Analysis"
   ]
  },
  {
   "cell_type": "markdown",
   "metadata": {},
   "source": [
    "The dataset provided is of abalone data.\n",
    "\n",
    "We'll start off by reading and understanding the dataset, looking into the different features and variables it consists of:"
   ]
  },
  {
   "cell_type": "code",
   "execution_count": 10,
   "metadata": {},
   "outputs": [
    {
     "data": {
      "text/html": [
       "<div>\n",
       "<style scoped>\n",
       "    .dataframe tbody tr th:only-of-type {\n",
       "        vertical-align: middle;\n",
       "    }\n",
       "\n",
       "    .dataframe tbody tr th {\n",
       "        vertical-align: top;\n",
       "    }\n",
       "\n",
       "    .dataframe thead th {\n",
       "        text-align: right;\n",
       "    }\n",
       "</style>\n",
       "<table border=\"1\" class=\"dataframe\">\n",
       "  <thead>\n",
       "    <tr style=\"text-align: right;\">\n",
       "      <th></th>\n",
       "      <th>Length</th>\n",
       "      <th>Diameter</th>\n",
       "      <th>Height</th>\n",
       "      <th>Whole weight</th>\n",
       "      <th>Shucked weight</th>\n",
       "      <th>Viscera weight</th>\n",
       "      <th>Shell weight</th>\n",
       "      <th>Rings</th>\n",
       "    </tr>\n",
       "  </thead>\n",
       "  <tbody>\n",
       "    <tr>\n",
       "      <th>count</th>\n",
       "      <td>4177.000000</td>\n",
       "      <td>4177.000000</td>\n",
       "      <td>4177.000000</td>\n",
       "      <td>4177.000000</td>\n",
       "      <td>4177.000000</td>\n",
       "      <td>4177.000000</td>\n",
       "      <td>4177.000000</td>\n",
       "      <td>4177.000000</td>\n",
       "    </tr>\n",
       "    <tr>\n",
       "      <th>mean</th>\n",
       "      <td>104.798420</td>\n",
       "      <td>81.576251</td>\n",
       "      <td>27.903280</td>\n",
       "      <td>165.748432</td>\n",
       "      <td>71.873498</td>\n",
       "      <td>36.118722</td>\n",
       "      <td>47.766172</td>\n",
       "      <td>9.933684</td>\n",
       "    </tr>\n",
       "    <tr>\n",
       "      <th>std</th>\n",
       "      <td>24.018583</td>\n",
       "      <td>19.847973</td>\n",
       "      <td>8.365411</td>\n",
       "      <td>98.077804</td>\n",
       "      <td>44.392590</td>\n",
       "      <td>21.922850</td>\n",
       "      <td>27.840534</td>\n",
       "      <td>3.224169</td>\n",
       "    </tr>\n",
       "    <tr>\n",
       "      <th>min</th>\n",
       "      <td>15.000000</td>\n",
       "      <td>11.000000</td>\n",
       "      <td>0.000000</td>\n",
       "      <td>0.400000</td>\n",
       "      <td>0.200000</td>\n",
       "      <td>0.100000</td>\n",
       "      <td>0.300000</td>\n",
       "      <td>1.000000</td>\n",
       "    </tr>\n",
       "    <tr>\n",
       "      <th>25%</th>\n",
       "      <td>90.000000</td>\n",
       "      <td>70.000000</td>\n",
       "      <td>23.000000</td>\n",
       "      <td>88.300000</td>\n",
       "      <td>37.200000</td>\n",
       "      <td>18.700000</td>\n",
       "      <td>26.000000</td>\n",
       "      <td>8.000000</td>\n",
       "    </tr>\n",
       "    <tr>\n",
       "      <th>50%</th>\n",
       "      <td>109.000000</td>\n",
       "      <td>85.000000</td>\n",
       "      <td>28.000000</td>\n",
       "      <td>159.900000</td>\n",
       "      <td>67.200000</td>\n",
       "      <td>34.200000</td>\n",
       "      <td>46.800000</td>\n",
       "      <td>9.000000</td>\n",
       "    </tr>\n",
       "    <tr>\n",
       "      <th>75%</th>\n",
       "      <td>123.000000</td>\n",
       "      <td>96.000000</td>\n",
       "      <td>33.000000</td>\n",
       "      <td>230.600000</td>\n",
       "      <td>100.400000</td>\n",
       "      <td>50.600000</td>\n",
       "      <td>65.800000</td>\n",
       "      <td>11.000000</td>\n",
       "    </tr>\n",
       "    <tr>\n",
       "      <th>max</th>\n",
       "      <td>163.000000</td>\n",
       "      <td>130.000000</td>\n",
       "      <td>226.000000</td>\n",
       "      <td>565.100000</td>\n",
       "      <td>297.600000</td>\n",
       "      <td>152.000000</td>\n",
       "      <td>201.000000</td>\n",
       "      <td>29.000000</td>\n",
       "    </tr>\n",
       "  </tbody>\n",
       "</table>\n",
       "</div>"
      ],
      "text/plain": [
       "            Length     Diameter       Height  Whole weight  Shucked weight  \\\n",
       "count  4177.000000  4177.000000  4177.000000   4177.000000     4177.000000   \n",
       "mean    104.798420    81.576251    27.903280    165.748432       71.873498   \n",
       "std      24.018583    19.847973     8.365411     98.077804       44.392590   \n",
       "min      15.000000    11.000000     0.000000      0.400000        0.200000   \n",
       "25%      90.000000    70.000000    23.000000     88.300000       37.200000   \n",
       "50%     109.000000    85.000000    28.000000    159.900000       67.200000   \n",
       "75%     123.000000    96.000000    33.000000    230.600000      100.400000   \n",
       "max     163.000000   130.000000   226.000000    565.100000      297.600000   \n",
       "\n",
       "       Viscera weight  Shell weight        Rings  \n",
       "count     4177.000000   4177.000000  4177.000000  \n",
       "mean        36.118722     47.766172     9.933684  \n",
       "std         21.922850     27.840534     3.224169  \n",
       "min          0.100000      0.300000     1.000000  \n",
       "25%         18.700000     26.000000     8.000000  \n",
       "50%         34.200000     46.800000     9.000000  \n",
       "75%         50.600000     65.800000    11.000000  \n",
       "max        152.000000    201.000000    29.000000  "
      ]
     },
     "execution_count": 10,
     "metadata": {},
     "output_type": "execute_result"
    }
   ],
   "source": [
    "df.describe()"
   ]
  },
  {
   "cell_type": "code",
   "execution_count": 11,
   "metadata": {
    "scrolled": true
   },
   "outputs": [
    {
     "name": "stdout",
     "output_type": "stream",
     "text": [
      "<class 'pandas.core.frame.DataFrame'>\n",
      "RangeIndex: 4177 entries, 0 to 4176\n",
      "Data columns (total 9 columns):\n",
      "Sex               4177 non-null object\n",
      "Length            4177 non-null int64\n",
      "Diameter          4177 non-null int64\n",
      "Height            4177 non-null int64\n",
      "Whole weight      4177 non-null float64\n",
      "Shucked weight    4177 non-null float64\n",
      "Viscera weight    4177 non-null float64\n",
      "Shell weight      4177 non-null float64\n",
      "Rings             4177 non-null int64\n",
      "dtypes: float64(4), int64(4), object(1)\n",
      "memory usage: 293.8+ KB\n"
     ]
    }
   ],
   "source": [
    "df.info()"
   ]
  },
  {
   "cell_type": "markdown",
   "metadata": {},
   "source": [
    "As shown in the table above, there are a total of 4,177 rows. The features do not have any null values, nor do they have any illogical values."
   ]
  },
  {
   "cell_type": "markdown",
   "metadata": {},
   "source": [
    "## Abalone - Single Variables\n",
    "\n",
    "We start with the single variable EDA of all the features provided in the data."
   ]
  },
  {
   "cell_type": "markdown",
   "metadata": {},
   "source": [
    "### Height\n",
    "\n",
    "`Height` is the height of the abalone with the meat in shell in mm. \n",
    "\n",
    "We'll start off by understanding the distribution of Heights within the dataset:"
   ]
  },
  {
   "cell_type": "code",
   "execution_count": 12,
   "metadata": {},
   "outputs": [
    {
     "data": {
      "image/png": "[encoded data removed]",
      "text/plain": [
       "<Figure size 1440x432 with 1 Axes>"
      ]
     },
     "metadata": {
      "needs_background": "light"
     },
     "output_type": "display_data"
    }
   ],
   "source": [
    "figure = plt.figure(figsize=(20, 6))\n",
    "\n",
    "axes = figure.add_subplot(1, 1, 1)\n",
    "axes.hist(df[ \"Height\"], color=\"DimGray\")\n",
    "axes.set_xlabel( \"Height\")\n",
    "axes.set_ylabel( \"Count\")\n",
    "axes.set_title(\"Count Histogram of Height; default bins\")\n",
    "\n",
    "plt.show()\n",
    "plt.close()"
   ]
  },
  {
   "cell_type": "markdown",
   "metadata": {},
   "source": [
    "Based on the histogram above, it seems that there are a few extreme outliers which may effect our data analysis. We'll define the box plot function and then plot a box plot of height in order to further localize the outliers:"
   ]
  },
  {
   "cell_type": "code",
   "execution_count": 13,
   "metadata": {},
   "outputs": [],
   "source": [
    "def restyle_boxplot(patch):\n",
    "    # change color and linewidth of the whiskers\n",
    "    for whisker in patch['whiskers']:\n",
    "        whisker.set(color='#000000', linewidth=1)\n",
    "\n",
    "    # change color and linewidth of the caps\n",
    "    for cap in patch['caps']:\n",
    "        cap.set(color='#000000', linewidth=1)\n",
    "\n",
    "    # change color and linewidth of the medians\n",
    "    for median in patch['medians']:\n",
    "        median.set(color='#000000', linewidth=2)\n",
    "\n",
    "    # change the style of fliers and their fill\n",
    "    for flier in patch['fliers']:\n",
    "        flier.set(marker='o', color='#000000', alpha=0.2)\n",
    "\n",
    "    for box in patch[\"boxes\"]:\n",
    "        box.set(facecolor='#FFFFFF', alpha=0.5)\n"
   ]
  },
  {
   "cell_type": "code",
   "execution_count": 14,
   "metadata": {
    "scrolled": true
   },
   "outputs": [
    {
     "data": {
      "image/png": "[encoded data removed]",
      "text/plain": [
       "<Figure size 1440x432 with 1 Axes>"
      ]
     },
     "metadata": {
      "needs_background": "light"
     },
     "output_type": "display_data"
    }
   ],
   "source": [
    "figure = plt.figure(figsize=(20, 6))\n",
    "\n",
    "axes = figure.add_subplot(1, 1, 1)\n",
    "patch = axes.boxplot(df[ \"Height\"], labels=[''], showfliers=True, patch_artist=True, zorder=1)\n",
    "restyle_boxplot( patch)\n",
    "axes.set_title(\"Distribution of Abalone Heights\")\n",
    "axes.set_ylabel(\"Height\")\n",
    "x = np.random.normal(1, 0.001, size=len(df[\"Height\"]))\n",
    "axes.plot(x, df[\"Height\"], 'o', alpha=0.4, color=\"DimGray\", zorder=2)\n",
    "\n",
    "plt.show()\n",
    "plt.close()"
   ]
  },
  {
   "cell_type": "markdown",
   "metadata": {},
   "source": [
    "It seems anything after around 50 mm height is considred an outlier:"
   ]
  },
  {
   "cell_type": "code",
   "execution_count": 15,
   "metadata": {},
   "outputs": [],
   "source": [
    "df_1=df[df['Height']<75]\n",
    "df_1=df_1.reset_index(drop=True)"
   ]
  },
  {
   "cell_type": "code",
   "execution_count": 16,
   "metadata": {},
   "outputs": [
    {
     "data": {
      "image/png": "[encoded data removed]",
      "text/plain": [
       "<Figure size 1440x432 with 1 Axes>"
      ]
     },
     "metadata": {
      "needs_background": "light"
     },
     "output_type": "display_data"
    }
   ],
   "source": [
    "figure = plt.figure(figsize=(20, 6))\n",
    "\n",
    "axes = figure.add_subplot(1, 1, 1)\n",
    "axes.hist(df_1[ \"Height\"], color=\"DimGray\")\n",
    "axes.set_xlabel( \"Height\")\n",
    "axes.set_ylabel( \"Count\")\n",
    "axes.set_title(\"Count Histogram of Height; default bins\")\n",
    "\n",
    "plt.show()\n",
    "plt.close()"
   ]
  },
  {
   "cell_type": "code",
   "execution_count": 17,
   "metadata": {},
   "outputs": [
    {
     "data": {
      "image/png": "[encoded data removed]",
      "text/plain": [
       "<Figure size 1440x432 with 1 Axes>"
      ]
     },
     "metadata": {
      "needs_background": "light"
     },
     "output_type": "display_data"
    }
   ],
   "source": [
    "figure = plt.figure(figsize=(20, 6))\n",
    "\n",
    "axes = figure.add_subplot(1, 1, 1)\n",
    "patch = axes.boxplot(df_1[ \"Height\"], labels=[''], showfliers=True, patch_artist=True, zorder=1)\n",
    "restyle_boxplot( patch)\n",
    "axes.set_title(\"Distribution of Abalone Heights\")\n",
    "axes.set_ylabel(\"Height\")\n",
    "x = np.random.normal(1, 0.001, size=len(df_1[\"Height\"]))\n",
    "axes.plot(x, df_1[\"Height\"], 'o', alpha=0.4, color=\"DimGray\", zorder=2)\n",
    "\n",
    "plt.show()\n",
    "plt.close()"
   ]
  },
  {
   "cell_type": "markdown",
   "metadata": {},
   "source": [
    "As shown on the charts above, after removing the outliers we can localize the bulk of our data to be between 0 and around 50 mm."
   ]
  },
  {
   "cell_type": "markdown",
   "metadata": {},
   "source": [
    "### Sex\n",
    "\n",
    "`Sex` is the sex of the abalone. \n",
    "\n",
    "The distribution of sexes within the dataset is as follows:"
   ]
  },
  {
   "cell_type": "code",
   "execution_count": 18,
   "metadata": {},
   "outputs": [
    {
     "data": {
      "text/html": [
       "<div>\n",
       "<style scoped>\n",
       "    .dataframe tbody tr th:only-of-type {\n",
       "        vertical-align: middle;\n",
       "    }\n",
       "\n",
       "    .dataframe tbody tr th {\n",
       "        vertical-align: top;\n",
       "    }\n",
       "\n",
       "    .dataframe thead th {\n",
       "        text-align: right;\n",
       "    }\n",
       "</style>\n",
       "<table border=\"1\" class=\"dataframe\">\n",
       "  <thead>\n",
       "    <tr style=\"text-align: right;\">\n",
       "      <th></th>\n",
       "      <th>Sex</th>\n",
       "    </tr>\n",
       "  </thead>\n",
       "  <tbody>\n",
       "    <tr>\n",
       "      <th>F</th>\n",
       "      <td>1306</td>\n",
       "    </tr>\n",
       "    <tr>\n",
       "      <th>I</th>\n",
       "      <td>1342</td>\n",
       "    </tr>\n",
       "    <tr>\n",
       "      <th>M</th>\n",
       "      <td>1527</td>\n",
       "    </tr>\n",
       "  </tbody>\n",
       "</table>\n",
       "</div>"
      ],
      "text/plain": [
       "    Sex\n",
       "F  1306\n",
       "I  1342\n",
       "M  1527"
      ]
     },
     "execution_count": 18,
     "metadata": {},
     "output_type": "execute_result"
    }
   ],
   "source": [
    "pd.DataFrame(df_1[\"Sex\"].value_counts().sort_index())"
   ]
  },
  {
   "cell_type": "markdown",
   "metadata": {},
   "source": [
    "The abalone `Sex` feature could take a value of M (Male) ,F (Female), or I (Infant). \n",
    "\n",
    "They are more or less equally distributed with Males having a slightly higher quantity of data."
   ]
  },
  {
   "cell_type": "markdown",
   "metadata": {},
   "source": [
    "### Length\n",
    "\n",
    "`Length` is the longest shell measure of the abalone in mm. \n",
    "\n",
    "The distribution of Lengths within the dataset is as follows:"
   ]
  },
  {
   "cell_type": "code",
   "execution_count": 19,
   "metadata": {},
   "outputs": [
    {
     "data": {
      "text/html": [
       "<div>\n",
       "<style scoped>\n",
       "    .dataframe tbody tr th:only-of-type {\n",
       "        vertical-align: middle;\n",
       "    }\n",
       "\n",
       "    .dataframe tbody tr th {\n",
       "        vertical-align: top;\n",
       "    }\n",
       "\n",
       "    .dataframe thead th {\n",
       "        text-align: right;\n",
       "    }\n",
       "</style>\n",
       "<table border=\"1\" class=\"dataframe\">\n",
       "  <thead>\n",
       "    <tr style=\"text-align: right;\">\n",
       "      <th></th>\n",
       "      <th>Length</th>\n",
       "    </tr>\n",
       "  </thead>\n",
       "  <tbody>\n",
       "    <tr>\n",
       "      <th>15</th>\n",
       "      <td>1</td>\n",
       "    </tr>\n",
       "    <tr>\n",
       "      <th>22</th>\n",
       "      <td>1</td>\n",
       "    </tr>\n",
       "    <tr>\n",
       "      <th>26</th>\n",
       "      <td>2</td>\n",
       "    </tr>\n",
       "    <tr>\n",
       "      <th>27</th>\n",
       "      <td>1</td>\n",
       "    </tr>\n",
       "    <tr>\n",
       "      <th>28</th>\n",
       "      <td>2</td>\n",
       "    </tr>\n",
       "    <tr>\n",
       "      <th>...</th>\n",
       "      <td>...</td>\n",
       "    </tr>\n",
       "    <tr>\n",
       "      <th>154</th>\n",
       "      <td>3</td>\n",
       "    </tr>\n",
       "    <tr>\n",
       "      <th>155</th>\n",
       "      <td>2</td>\n",
       "    </tr>\n",
       "    <tr>\n",
       "      <th>156</th>\n",
       "      <td>2</td>\n",
       "    </tr>\n",
       "    <tr>\n",
       "      <th>160</th>\n",
       "      <td>1</td>\n",
       "    </tr>\n",
       "    <tr>\n",
       "      <th>163</th>\n",
       "      <td>1</td>\n",
       "    </tr>\n",
       "  </tbody>\n",
       "</table>\n",
       "<p>134 rows × 1 columns</p>\n",
       "</div>"
      ],
      "text/plain": [
       "     Length\n",
       "15        1\n",
       "22        1\n",
       "26        2\n",
       "27        1\n",
       "28        2\n",
       "..      ...\n",
       "154       3\n",
       "155       2\n",
       "156       2\n",
       "160       1\n",
       "163       1\n",
       "\n",
       "[134 rows x 1 columns]"
      ]
     },
     "execution_count": 19,
     "metadata": {},
     "output_type": "execute_result"
    }
   ],
   "source": [
    "pd.DataFrame(df_1[\"Length\"].value_counts().sort_index())"
   ]
  },
  {
   "cell_type": "code",
   "execution_count": 20,
   "metadata": {},
   "outputs": [
    {
     "data": {
      "image/png": "[encoded data removed]",
      "text/plain": [
       "<Figure size 1440x432 with 1 Axes>"
      ]
     },
     "metadata": {
      "needs_background": "light"
     },
     "output_type": "display_data"
    }
   ],
   "source": [
    "figure = plt.figure(figsize=(20, 6))\n",
    "\n",
    "axes = figure.add_subplot(1, 1, 1)\n",
    "axes.hist(df_1[ \"Length\"], color=\"DimGray\")\n",
    "axes.set_xlabel( \"Lengths\")\n",
    "axes.set_ylabel( \"Count\")\n",
    "axes.set_title(\"Count Histogram of Lengths; default bins\")\n",
    "\n",
    "plt.show()\n",
    "plt.close()"
   ]
  },
  {
   "cell_type": "markdown",
   "metadata": {},
   "source": [
    "### Diameter\n",
    "\n",
    "`Diameter` is the diameter of the dimension of the longest shell measure of the abalone in mm (perpendicular to length). \n",
    "\n",
    "The distribution of Diameters within the dataset is as follows:"
   ]
  },
  {
   "cell_type": "code",
   "execution_count": 21,
   "metadata": {},
   "outputs": [
    {
     "data": {
      "image/png": "[encoded data removed]",
      "text/plain": [
       "<Figure size 1440x432 with 1 Axes>"
      ]
     },
     "metadata": {
      "needs_background": "light"
     },
     "output_type": "display_data"
    }
   ],
   "source": [
    "figure = plt.figure(figsize=(20, 6))\n",
    "\n",
    "axes = figure.add_subplot(1, 1, 1)\n",
    "axes.hist(df_1[ \"Diameter\"], color=\"DimGray\")\n",
    "axes.set_xlabel( \"Diameter\")\n",
    "axes.set_ylabel( \"Count\")\n",
    "axes.set_title(\"Count Histogram of Diameter; default bins\")\n",
    "\n",
    "plt.show()\n",
    "plt.close()"
   ]
  },
  {
   "cell_type": "markdown",
   "metadata": {},
   "source": [
    "### Whole weight\n",
    "\n",
    "`Whole weight` is the weight of the whole abalone in grams. \n",
    "\n",
    "The distribution of Whole weights within the dataset is as follows:"
   ]
  },
  {
   "cell_type": "code",
   "execution_count": 22,
   "metadata": {},
   "outputs": [
    {
     "data": {
      "image/png": "[encoded data removed]",
      "text/plain": [
       "<Figure size 1440x432 with 1 Axes>"
      ]
     },
     "metadata": {
      "needs_background": "light"
     },
     "output_type": "display_data"
    }
   ],
   "source": [
    "figure = plt.figure(figsize=(20, 6))\n",
    "\n",
    "axes = figure.add_subplot(1, 1, 1)\n",
    "axes.hist(df_1[ \"Whole weight\"], color=\"DimGray\",bins=30)\n",
    "axes.set_xlabel( \"Whole weight\")\n",
    "axes.set_ylabel( \"Count\")\n",
    "axes.set_title(\"Count Histogram of Whole Weight; default bins\")\n",
    "\n",
    "plt.show()\n",
    "plt.close()"
   ]
  },
  {
   "cell_type": "markdown",
   "metadata": {},
   "source": [
    "It seems that we have a few outliers, a box plot will show them more clearly:"
   ]
  },
  {
   "cell_type": "code",
   "execution_count": 23,
   "metadata": {},
   "outputs": [
    {
     "data": {
      "image/png": "[encoded data removed]",
      "text/plain": [
       "<Figure size 1440x432 with 1 Axes>"
      ]
     },
     "metadata": {
      "needs_background": "light"
     },
     "output_type": "display_data"
    }
   ],
   "source": [
    "figure = plt.figure(figsize=(20, 6))\n",
    "\n",
    "axes = figure.add_subplot(1, 1, 1)\n",
    "patch = axes.boxplot(df_1[ \"Whole weight\"], labels=[''], showfliers=True, patch_artist=True, zorder=1)\n",
    "restyle_boxplot( patch)\n",
    "axes.set_title(\"Distribution of Abalone Whole weights\")\n",
    "axes.set_ylabel(\"Whole weight (g)\")\n",
    "x = np.random.normal(1, 0.001, size=len(df_1[\"Whole weight\"]))\n",
    "axes.plot(x, df_1[\"Whole weight\"], 'o', alpha=0.4, color=\"DimGray\", zorder=2)\n",
    "\n",
    "plt.show()\n",
    "plt.close()"
   ]
  },
  {
   "cell_type": "markdown",
   "metadata": {},
   "source": [
    "As shown on the box plot, the outliers are the Whole weight values above 450 grams:"
   ]
  },
  {
   "cell_type": "code",
   "execution_count": 24,
   "metadata": {},
   "outputs": [],
   "source": [
    "df_1=df_1[df_1['Whole weight']<=450].reset_index(drop=True)"
   ]
  },
  {
   "cell_type": "code",
   "execution_count": 25,
   "metadata": {},
   "outputs": [
    {
     "data": {
      "image/png": "[encoded data removed]",
      "text/plain": [
       "<Figure size 1440x432 with 1 Axes>"
      ]
     },
     "metadata": {
      "needs_background": "light"
     },
     "output_type": "display_data"
    }
   ],
   "source": [
    "figure = plt.figure(figsize=(20, 6))\n",
    "\n",
    "axes = figure.add_subplot(1, 1, 1)\n",
    "axes.hist(df_1[ \"Whole weight\"], color=\"DimGray\",bins=30)\n",
    "axes.set_xlabel( \"Whole weight\")\n",
    "axes.set_ylabel( \"Count\")\n",
    "axes.set_title(\"Count Histogram of Whole Weight; default bins\")\n",
    "\n",
    "plt.show()\n",
    "plt.close()"
   ]
  },
  {
   "cell_type": "code",
   "execution_count": 26,
   "metadata": {},
   "outputs": [
    {
     "data": {
      "image/png": "[encoded data removed]",
      "text/plain": [
       "<Figure size 1440x432 with 1 Axes>"
      ]
     },
     "metadata": {
      "needs_background": "light"
     },
     "output_type": "display_data"
    }
   ],
   "source": [
    "figure = plt.figure(figsize=(20, 6))\n",
    "\n",
    "axes = figure.add_subplot(1, 1, 1)\n",
    "patch = axes.boxplot(df_1[ \"Whole weight\"], labels=[''], showfliers=True, patch_artist=True, zorder=1)\n",
    "restyle_boxplot( patch)\n",
    "axes.set_title(\"Distribution of Abalone Whole weights\")\n",
    "axes.set_ylabel(\"Whole weight (g)\")\n",
    "x = np.random.normal(1, 0.001, size=len(df_1[\"Whole weight\"]))\n",
    "axes.plot(x, df_1[\"Whole weight\"], 'o', alpha=0.4, color=\"DimGray\", zorder=2)\n",
    "\n",
    "plt.show()\n",
    "plt.close()"
   ]
  },
  {
   "cell_type": "markdown",
   "metadata": {},
   "source": [
    "As shown on the charts above, after removing the outliers we can localize the bulk of our data to be between 0 and around 450 g."
   ]
  },
  {
   "cell_type": "markdown",
   "metadata": {},
   "source": [
    "### Shucked weight\n",
    "\n",
    "`Shucked weight` is the weight of the abalone meat in grams. \n",
    "\n",
    "The distribution of Shucked weights within the dataset is as follows:"
   ]
  },
  {
   "cell_type": "code",
   "execution_count": 27,
   "metadata": {},
   "outputs": [
    {
     "data": {
      "image/png": "[encoded data removed]",
      "text/plain": [
       "<Figure size 1440x432 with 1 Axes>"
      ]
     },
     "metadata": {
      "needs_background": "light"
     },
     "output_type": "display_data"
    }
   ],
   "source": [
    "figure = plt.figure(figsize=(20, 6))\n",
    "\n",
    "axes = figure.add_subplot(1, 1, 1)\n",
    "axes.hist(df_1[ \"Shucked weight\"], color=\"DimGray\",bins=30)\n",
    "axes.set_xlabel( \"Shucked weight\")\n",
    "axes.set_ylabel( \"Count\")\n",
    "axes.set_title(\"Count Histogram of Shucked Weight; default bins\")\n",
    "\n",
    "plt.show()\n",
    "plt.close()"
   ]
  },
  {
   "cell_type": "code",
   "execution_count": 28,
   "metadata": {},
   "outputs": [
    {
     "data": {
      "image/png": "[encoded data removed]",
      "text/plain": [
       "<Figure size 1440x432 with 1 Axes>"
      ]
     },
     "metadata": {
      "needs_background": "light"
     },
     "output_type": "display_data"
    }
   ],
   "source": [
    "figure = plt.figure(figsize=(20, 6))\n",
    "\n",
    "axes = figure.add_subplot(1, 1, 1)\n",
    "patch = axes.boxplot(df_1[ \"Shucked weight\"], labels=[''], showfliers=True, patch_artist=True, zorder=1)\n",
    "restyle_boxplot( patch)\n",
    "axes.set_title(\"Distribution of Abalone Shucked weights\")\n",
    "axes.set_ylabel(\"Shucked weight (g)\")\n",
    "x = np.random.normal(1, 0.001, size=len(df_1[\"Shucked weight\"]))\n",
    "axes.plot(x, df_1[\"Shucked weight\"], 'o', alpha=0.4, color=\"DimGray\", zorder=2)\n",
    "\n",
    "plt.show()\n",
    "plt.close()"
   ]
  },
  {
   "cell_type": "markdown",
   "metadata": {},
   "source": [
    "As shown on the charts above, we have outliers at Shucked weight values of over 230 grams."
   ]
  },
  {
   "cell_type": "code",
   "execution_count": 29,
   "metadata": {},
   "outputs": [],
   "source": [
    "df_1=df_1[df_1['Shucked weight']<=230].reset_index(drop=True)"
   ]
  },
  {
   "cell_type": "code",
   "execution_count": 30,
   "metadata": {},
   "outputs": [
    {
     "data": {
      "image/png": "[encoded data removed]",
      "text/plain": [
       "<Figure size 1440x432 with 1 Axes>"
      ]
     },
     "metadata": {
      "needs_background": "light"
     },
     "output_type": "display_data"
    }
   ],
   "source": [
    "figure = plt.figure(figsize=(20, 6))\n",
    "\n",
    "axes = figure.add_subplot(1, 1, 1)\n",
    "axes.hist(df_1[ \"Shucked weight\"], color=\"DimGray\",bins=30)\n",
    "axes.set_xlabel( \"Shucked weight\")\n",
    "axes.set_ylabel( \"Count\")\n",
    "axes.set_title(\"Count Histogram of Shucked Weight; default bins\")\n",
    "\n",
    "plt.show()\n",
    "plt.close()"
   ]
  },
  {
   "cell_type": "code",
   "execution_count": 31,
   "metadata": {},
   "outputs": [
    {
     "data": {
      "image/png": "[encoded data removed]",
      "text/plain": [
       "<Figure size 1440x432 with 1 Axes>"
      ]
     },
     "metadata": {
      "needs_background": "light"
     },
     "output_type": "display_data"
    }
   ],
   "source": [
    "figure = plt.figure(figsize=(20, 6))\n",
    "\n",
    "axes = figure.add_subplot(1, 1, 1)\n",
    "patch = axes.boxplot(df_1[ \"Shucked weight\"], labels=[''], showfliers=True, patch_artist=True, zorder=1)\n",
    "restyle_boxplot( patch)\n",
    "axes.set_title(\"Distribution of Abalone Shucked weights\")\n",
    "axes.set_ylabel(\"Shucked weight (g)\")\n",
    "x = np.random.normal(1, 0.001, size=len(df_1[\"Shucked weight\"]))\n",
    "axes.plot(x, df_1[\"Shucked weight\"], 'o', alpha=0.4, color=\"DimGray\", zorder=2)\n",
    "\n",
    "plt.show()\n",
    "plt.close()"
   ]
  },
  {
   "cell_type": "markdown",
   "metadata": {},
   "source": [
    "As shown on the charts above, after removing the outliers we can localize the bulk of our data to be between 0 and around 230 g."
   ]
  },
  {
   "cell_type": "markdown",
   "metadata": {},
   "source": [
    "### Viscera weight\n",
    "\n",
    "`Viscera weight` is the gut weight of the abalone after bleeding in grams. \n",
    "\n",
    "The distribution of Viscera weights within the dataset is as follows:"
   ]
  },
  {
   "cell_type": "code",
   "execution_count": 32,
   "metadata": {},
   "outputs": [
    {
     "data": {
      "image/png": "[encoded data removed]",
      "text/plain": [
       "<Figure size 1440x432 with 1 Axes>"
      ]
     },
     "metadata": {
      "needs_background": "light"
     },
     "output_type": "display_data"
    }
   ],
   "source": [
    "figure = plt.figure(figsize=(20, 6))\n",
    "\n",
    "axes = figure.add_subplot(1, 1, 1)\n",
    "axes.hist(df_1[ \"Viscera weight\"], color=\"DimGray\",bins=30)\n",
    "axes.set_xlabel( \"Viscera weight\")\n",
    "axes.set_ylabel( \"Count\")\n",
    "axes.set_title(\"Count Histogram of Viscera Weight; default bins\")\n",
    "\n",
    "plt.show()\n",
    "plt.close()"
   ]
  },
  {
   "cell_type": "markdown",
   "metadata": {},
   "source": [
    "### Shell weight\n",
    "\n",
    "`Shell weight` is the weight of the abalone after being dryed in grams. \n",
    "\n",
    "The distribution of Shell weights within the dataset is as follows:"
   ]
  },
  {
   "cell_type": "code",
   "execution_count": 33,
   "metadata": {},
   "outputs": [
    {
     "data": {
      "image/png": "[encoded data removed]",
      "text/plain": [
       "<Figure size 1440x432 with 1 Axes>"
      ]
     },
     "metadata": {
      "needs_background": "light"
     },
     "output_type": "display_data"
    }
   ],
   "source": [
    "figure = plt.figure(figsize=(20, 6))\n",
    "\n",
    "axes = figure.add_subplot(1, 1, 1)\n",
    "axes.hist(df_1[ \"Shell weight\"], color=\"DimGray\",bins=30)\n",
    "axes.set_xlabel( \"Shell weight\")\n",
    "axes.set_ylabel( \"Count\")\n",
    "axes.set_title(\"Count Histogram of Shell Weight; default bins\")\n",
    "\n",
    "plt.show()\n",
    "plt.close()"
   ]
  },
  {
   "cell_type": "code",
   "execution_count": 34,
   "metadata": {
    "scrolled": true
   },
   "outputs": [
    {
     "data": {
      "image/png": "[encoded data removed]",
      "text/plain": [
       "<Figure size 1440x432 with 1 Axes>"
      ]
     },
     "metadata": {
      "needs_background": "light"
     },
     "output_type": "display_data"
    }
   ],
   "source": [
    "figure = plt.figure(figsize=(20, 6))\n",
    "\n",
    "axes = figure.add_subplot(1, 1, 1)\n",
    "patch = axes.boxplot(df_1[ \"Shell weight\"], labels=[''], showfliers=True, patch_artist=True, zorder=1)\n",
    "restyle_boxplot( patch)\n",
    "axes.set_title(\"Distribution of Abalone Shell weights\")\n",
    "axes.set_ylabel(\"Shell weight (g)\")\n",
    "x = np.random.normal(1, 0.001, size=len(df_1[\"Shell weight\"]))\n",
    "axes.plot(x, df_1[\"Shell weight\"], 'o', alpha=0.4, color=\"DimGray\", zorder=2)\n",
    "\n",
    "plt.show()\n",
    "plt.close()"
   ]
  },
  {
   "cell_type": "markdown",
   "metadata": {},
   "source": [
    "Outliers exist after around 150 g"
   ]
  },
  {
   "cell_type": "code",
   "execution_count": 35,
   "metadata": {},
   "outputs": [],
   "source": [
    "df_1=df_1[df_1['Shell weight']<=150].reset_index(drop=True)"
   ]
  },
  {
   "cell_type": "code",
   "execution_count": 36,
   "metadata": {},
   "outputs": [
    {
     "data": {
      "image/png": "[encoded data removed]",
      "text/plain": [
       "<Figure size 1440x432 with 1 Axes>"
      ]
     },
     "metadata": {
      "needs_background": "light"
     },
     "output_type": "display_data"
    }
   ],
   "source": [
    "figure = plt.figure(figsize=(20, 6))\n",
    "\n",
    "axes = figure.add_subplot(1, 1, 1)\n",
    "axes.hist(df_1[ \"Shell weight\"], color=\"DimGray\",bins=30)\n",
    "axes.set_xlabel( \"Shell weight\")\n",
    "axes.set_ylabel( \"Count\")\n",
    "axes.set_title(\"Count Histogram of Shell Weight; default bins\")\n",
    "\n",
    "plt.show()\n",
    "plt.close()"
   ]
  },
  {
   "cell_type": "code",
   "execution_count": 37,
   "metadata": {
    "scrolled": true
   },
   "outputs": [
    {
     "data": {
      "image/png": "[encoded data removed]",
      "text/plain": [
       "<Figure size 1440x432 with 1 Axes>"
      ]
     },
     "metadata": {
      "needs_background": "light"
     },
     "output_type": "display_data"
    }
   ],
   "source": [
    "figure = plt.figure(figsize=(20, 6))\n",
    "\n",
    "axes = figure.add_subplot(1, 1, 1)\n",
    "patch = axes.boxplot(df_1[ \"Shell weight\"], labels=[''], showfliers=True, patch_artist=True, zorder=1)\n",
    "restyle_boxplot( patch)\n",
    "axes.set_title(\"Distribution of Abalone Shell weights\")\n",
    "axes.set_ylabel(\"Shell weight (g)\")\n",
    "x = np.random.normal(1, 0.001, size=len(df_1[\"Shell weight\"]))\n",
    "axes.plot(x, df_1[\"Shell weight\"], 'o', alpha=0.4, color=\"DimGray\", zorder=2)\n",
    "\n",
    "plt.show()\n",
    "plt.close()"
   ]
  },
  {
   "cell_type": "markdown",
   "metadata": {},
   "source": [
    "After removing all those outliers, we re-run the describe function on the dataframe to see how much of the data is remaining:"
   ]
  },
  {
   "cell_type": "code",
   "execution_count": 38,
   "metadata": {},
   "outputs": [
    {
     "data": {
      "text/html": [
       "<div>\n",
       "<style scoped>\n",
       "    .dataframe tbody tr th:only-of-type {\n",
       "        vertical-align: middle;\n",
       "    }\n",
       "\n",
       "    .dataframe tbody tr th {\n",
       "        vertical-align: top;\n",
       "    }\n",
       "\n",
       "    .dataframe thead th {\n",
       "        text-align: right;\n",
       "    }\n",
       "</style>\n",
       "<table border=\"1\" class=\"dataframe\">\n",
       "  <thead>\n",
       "    <tr style=\"text-align: right;\">\n",
       "      <th></th>\n",
       "      <th>Length</th>\n",
       "      <th>Diameter</th>\n",
       "      <th>Height</th>\n",
       "      <th>Whole weight</th>\n",
       "      <th>Shucked weight</th>\n",
       "      <th>Viscera weight</th>\n",
       "      <th>Shell weight</th>\n",
       "      <th>Rings</th>\n",
       "    </tr>\n",
       "  </thead>\n",
       "  <tbody>\n",
       "    <tr>\n",
       "      <th>count</th>\n",
       "      <td>4140.000000</td>\n",
       "      <td>4140.000000</td>\n",
       "      <td>4140.000000</td>\n",
       "      <td>4140.000000</td>\n",
       "      <td>4140.000000</td>\n",
       "      <td>4140.000000</td>\n",
       "      <td>4140.000000</td>\n",
       "      <td>4140.000000</td>\n",
       "    </tr>\n",
       "    <tr>\n",
       "      <th>mean</th>\n",
       "      <td>104.433333</td>\n",
       "      <td>81.270773</td>\n",
       "      <td>27.716667</td>\n",
       "      <td>163.138865</td>\n",
       "      <td>70.687609</td>\n",
       "      <td>35.628164</td>\n",
       "      <td>47.043937</td>\n",
       "      <td>9.900966</td>\n",
       "    </tr>\n",
       "    <tr>\n",
       "      <th>std</th>\n",
       "      <td>23.788259</td>\n",
       "      <td>19.650949</td>\n",
       "      <td>7.606419</td>\n",
       "      <td>94.292917</td>\n",
       "      <td>42.527262</td>\n",
       "      <td>21.295033</td>\n",
       "      <td>26.724343</td>\n",
       "      <td>3.198415</td>\n",
       "    </tr>\n",
       "    <tr>\n",
       "      <th>min</th>\n",
       "      <td>15.000000</td>\n",
       "      <td>11.000000</td>\n",
       "      <td>0.000000</td>\n",
       "      <td>0.400000</td>\n",
       "      <td>0.200000</td>\n",
       "      <td>0.100000</td>\n",
       "      <td>0.300000</td>\n",
       "      <td>1.000000</td>\n",
       "    </tr>\n",
       "    <tr>\n",
       "      <th>25%</th>\n",
       "      <td>90.000000</td>\n",
       "      <td>69.000000</td>\n",
       "      <td>23.000000</td>\n",
       "      <td>88.000000</td>\n",
       "      <td>36.975000</td>\n",
       "      <td>18.500000</td>\n",
       "      <td>26.000000</td>\n",
       "      <td>8.000000</td>\n",
       "    </tr>\n",
       "    <tr>\n",
       "      <th>50%</th>\n",
       "      <td>108.000000</td>\n",
       "      <td>84.500000</td>\n",
       "      <td>28.000000</td>\n",
       "      <td>158.950000</td>\n",
       "      <td>66.800000</td>\n",
       "      <td>33.800000</td>\n",
       "      <td>46.000000</td>\n",
       "      <td>9.000000</td>\n",
       "    </tr>\n",
       "    <tr>\n",
       "      <th>75%</th>\n",
       "      <td>123.000000</td>\n",
       "      <td>96.000000</td>\n",
       "      <td>33.000000</td>\n",
       "      <td>228.400000</td>\n",
       "      <td>99.500000</td>\n",
       "      <td>49.900000</td>\n",
       "      <td>65.000000</td>\n",
       "      <td>11.000000</td>\n",
       "    </tr>\n",
       "    <tr>\n",
       "      <th>max</th>\n",
       "      <td>155.000000</td>\n",
       "      <td>121.000000</td>\n",
       "      <td>50.000000</td>\n",
       "      <td>447.700000</td>\n",
       "      <td>229.100000</td>\n",
       "      <td>112.800000</td>\n",
       "      <td>145.000000</td>\n",
       "      <td>29.000000</td>\n",
       "    </tr>\n",
       "  </tbody>\n",
       "</table>\n",
       "</div>"
      ],
      "text/plain": [
       "            Length     Diameter       Height  Whole weight  Shucked weight  \\\n",
       "count  4140.000000  4140.000000  4140.000000   4140.000000     4140.000000   \n",
       "mean    104.433333    81.270773    27.716667    163.138865       70.687609   \n",
       "std      23.788259    19.650949     7.606419     94.292917       42.527262   \n",
       "min      15.000000    11.000000     0.000000      0.400000        0.200000   \n",
       "25%      90.000000    69.000000    23.000000     88.000000       36.975000   \n",
       "50%     108.000000    84.500000    28.000000    158.950000       66.800000   \n",
       "75%     123.000000    96.000000    33.000000    228.400000       99.500000   \n",
       "max     155.000000   121.000000    50.000000    447.700000      229.100000   \n",
       "\n",
       "       Viscera weight  Shell weight        Rings  \n",
       "count     4140.000000   4140.000000  4140.000000  \n",
       "mean        35.628164     47.043937     9.900966  \n",
       "std         21.295033     26.724343     3.198415  \n",
       "min          0.100000      0.300000     1.000000  \n",
       "25%         18.500000     26.000000     8.000000  \n",
       "50%         33.800000     46.000000     9.000000  \n",
       "75%         49.900000     65.000000    11.000000  \n",
       "max        112.800000    145.000000    29.000000  "
      ]
     },
     "execution_count": 38,
     "metadata": {},
     "output_type": "execute_result"
    }
   ],
   "source": [
    "df_1.describe()"
   ]
  },
  {
   "cell_type": "markdown",
   "metadata": {},
   "source": [
    "We initially started with 4177 data points, and as shown on the table above we have a remaining 4140.\n",
    "\n",
    "Around 0.9% of the data was removed."
   ]
  },
  {
   "cell_type": "markdown",
   "metadata": {},
   "source": [
    "### Rings\n",
    "\n",
    "`Rings` is the number of rings on the abalone. This value +1.5 returns the age of the abalone. This is our target variable. \n",
    "\n",
    "The distribution of Rings within the dataset is as follows:"
   ]
  },
  {
   "cell_type": "code",
   "execution_count": 39,
   "metadata": {},
   "outputs": [
    {
     "data": {
      "image/png": "[encoded data removed]",
      "text/plain": [
       "<Figure size 1440x432 with 1 Axes>"
      ]
     },
     "metadata": {
      "needs_background": "light"
     },
     "output_type": "display_data"
    }
   ],
   "source": [
    "figure = plt.figure(figsize=(20, 6))\n",
    "\n",
    "axes = figure.add_subplot(1, 1, 1)\n",
    "axes.hist(df_1[ \"Rings\"], color=\"DimGray\",bins=30)\n",
    "axes.set_xlabel( \"Rings\")\n",
    "axes.set_ylabel( \"Count\")\n",
    "axes.set_title(\"Count Histogram of Rings; default bins\")\n",
    "\n",
    "plt.show()\n",
    "plt.close()"
   ]
  },
  {
   "cell_type": "markdown",
   "metadata": {},
   "source": [
    "We have a gap in our histogram at around 14 rings."
   ]
  },
  {
   "cell_type": "markdown",
   "metadata": {},
   "source": [
    "## Pairwise EDA\n",
    "\n",
    "\n",
    "Since we don't have given research questions, we are going to create our own and form our own guide for pairwise EDA.\n",
    "\n",
    "1.  What is the correlation between `Sex` and `Rings` \n",
    "\n",
    "\n",
    "2.  What is the correlation between `Length` and `Rings` \n",
    "\n",
    "\n",
    "3.  What is the correlation between `Diameter` and `Rings` \n",
    "\n",
    "\n",
    "4.  What is the correlation between `Height` and `Rings` \n",
    "\n",
    "\n",
    "5.  What is the correlation between `Whole weight` and `Rings` \n",
    "\n",
    "\n",
    "6.  What is the correlation between `Shucked weight` and `Rings` \n",
    "\n",
    "\n",
    "7.  What is the correlation between `Viscera weight` and `Rings` \n",
    "\n",
    "\n",
    "8.  What is the correlation between `Shell weight` and `Rings` \n",
    "\n",
    "\n",
    "Below are some helper functions for this specific EDA problem.\n",
    "\n",
    "`correlation` prints out $\\rho$ and $r$ for two variables."
   ]
  },
  {
   "cell_type": "code",
   "execution_count": 40,
   "metadata": {},
   "outputs": [],
   "source": [
    "def correlation(data, x, y):\n",
    "    print(\"Correlation coefficients:\")\n",
    "    print( \"r   =\", stats.pearsonr(data[x], data[y])[0])\n",
    "    print( \"rho =\", stats.spearmanr(data[x], data[y])[0])"
   ]
  },
  {
   "cell_type": "markdown",
   "metadata": {},
   "source": [
    "`describe_by_category` will show descriptive statistics for a numerical variable by each value of the categorical variable."
   ]
  },
  {
   "cell_type": "code",
   "execution_count": 41,
   "metadata": {},
   "outputs": [],
   "source": [
    "def describe_by_category(data, numeric, categorical):\n",
    "    grouped = data.groupby(categorical)\n",
    "    grouped_y = grouped[numeric].describe()\n",
    "    print(grouped_y)"
   ]
  },
  {
   "cell_type": "code",
   "execution_count": 42,
   "metadata": {},
   "outputs": [],
   "source": [
    "def lowess_scatter(data, x, y, jitter=0.0, skip_lowess=False):\n",
    "\n",
    "    if skip_lowess:\n",
    "        fit = np.polyfit(data[x], data[y], 1)\n",
    "        line_x = np.linspace(data[x].min(), data[x].max(), 10)\n",
    "        line = np.poly1d(fit)\n",
    "        line_y = list(map(line, line_x))\n",
    "    else:\n",
    "        lowess = sm.nonparametric.lowess(data[y], data[x], frac=.3)\n",
    "        line_x = list(zip(*lowess))[0]\n",
    "        line_y = list(zip(*lowess))[1]\n",
    "\n",
    "    figure = plt.figure(figsize=(10, 6))\n",
    "\n",
    "    axes = figure.add_subplot(1, 1, 1)\n",
    "\n",
    "    xs = data[x]\n",
    "    if jitter > 0.0:\n",
    "        xs = data[x] + stats.norm.rvs( 0, 0.5, data[x].size)\n",
    "\n",
    "    axes.scatter(xs, data[y], marker=\"o\", color=\"DimGray\", alpha=0.5)\n",
    "    axes.plot(line_x, line_y, color=\"DarkRed\")\n",
    "\n",
    "    title = \"Plot of {0} v. {1}\".format(x, y)\n",
    "    if not skip_lowess:\n",
    "        title += \" with LOWESS\"\n",
    "    axes.set_title(title)\n",
    "    axes.set_xlabel(x)\n",
    "    axes.set_ylabel(y)\n",
    "\n",
    "    plt.show()\n",
    "    plt.close()"
   ]
  },
  {
   "cell_type": "markdown",
   "metadata": {},
   "source": [
    "### Sex and Rings\n",
    "\n",
    "Since `Sex` is a categorical variable, we have to create binary features in order to test the correlation.\n",
    "\n",
    "`sex_M`,`sex_F` , and `sex_I` will be created where, by default, each of these have a value of 0 and take a value of 1 when the Sex is Male, Female, or Infant respectively."
   ]
  },
  {
   "cell_type": "code",
   "execution_count": 43,
   "metadata": {},
   "outputs": [
    {
     "data": {
      "text/html": [
       "<div>\n",
       "<style scoped>\n",
       "    .dataframe tbody tr th:only-of-type {\n",
       "        vertical-align: middle;\n",
       "    }\n",
       "\n",
       "    .dataframe tbody tr th {\n",
       "        vertical-align: top;\n",
       "    }\n",
       "\n",
       "    .dataframe thead th {\n",
       "        text-align: right;\n",
       "    }\n",
       "</style>\n",
       "<table border=\"1\" class=\"dataframe\">\n",
       "  <thead>\n",
       "    <tr style=\"text-align: right;\">\n",
       "      <th></th>\n",
       "      <th>Sex</th>\n",
       "      <th>Length</th>\n",
       "      <th>Diameter</th>\n",
       "      <th>Height</th>\n",
       "      <th>Whole weight</th>\n",
       "      <th>Shucked weight</th>\n",
       "      <th>Viscera weight</th>\n",
       "      <th>Shell weight</th>\n",
       "      <th>Rings</th>\n",
       "      <th>sex_M</th>\n",
       "      <th>sex_F</th>\n",
       "      <th>sex_I</th>\n",
       "    </tr>\n",
       "  </thead>\n",
       "  <tbody>\n",
       "    <tr>\n",
       "      <th>0</th>\n",
       "      <td>M</td>\n",
       "      <td>91</td>\n",
       "      <td>73</td>\n",
       "      <td>19</td>\n",
       "      <td>102.8</td>\n",
       "      <td>44.9</td>\n",
       "      <td>20.2</td>\n",
       "      <td>30.0</td>\n",
       "      <td>15</td>\n",
       "      <td>1</td>\n",
       "      <td>0</td>\n",
       "      <td>0</td>\n",
       "    </tr>\n",
       "    <tr>\n",
       "      <th>1</th>\n",
       "      <td>M</td>\n",
       "      <td>70</td>\n",
       "      <td>53</td>\n",
       "      <td>18</td>\n",
       "      <td>45.1</td>\n",
       "      <td>19.9</td>\n",
       "      <td>9.7</td>\n",
       "      <td>14.0</td>\n",
       "      <td>7</td>\n",
       "      <td>1</td>\n",
       "      <td>0</td>\n",
       "      <td>0</td>\n",
       "    </tr>\n",
       "    <tr>\n",
       "      <th>2</th>\n",
       "      <td>F</td>\n",
       "      <td>106</td>\n",
       "      <td>84</td>\n",
       "      <td>27</td>\n",
       "      <td>135.4</td>\n",
       "      <td>51.3</td>\n",
       "      <td>28.3</td>\n",
       "      <td>42.0</td>\n",
       "      <td>9</td>\n",
       "      <td>0</td>\n",
       "      <td>1</td>\n",
       "      <td>0</td>\n",
       "    </tr>\n",
       "    <tr>\n",
       "      <th>3</th>\n",
       "      <td>M</td>\n",
       "      <td>88</td>\n",
       "      <td>73</td>\n",
       "      <td>25</td>\n",
       "      <td>103.2</td>\n",
       "      <td>43.1</td>\n",
       "      <td>22.8</td>\n",
       "      <td>31.0</td>\n",
       "      <td>10</td>\n",
       "      <td>1</td>\n",
       "      <td>0</td>\n",
       "      <td>0</td>\n",
       "    </tr>\n",
       "    <tr>\n",
       "      <th>4</th>\n",
       "      <td>I</td>\n",
       "      <td>66</td>\n",
       "      <td>51</td>\n",
       "      <td>16</td>\n",
       "      <td>41.0</td>\n",
       "      <td>17.9</td>\n",
       "      <td>7.9</td>\n",
       "      <td>11.0</td>\n",
       "      <td>7</td>\n",
       "      <td>0</td>\n",
       "      <td>0</td>\n",
       "      <td>1</td>\n",
       "    </tr>\n",
       "  </tbody>\n",
       "</table>\n",
       "</div>"
      ],
      "text/plain": [
       "  Sex  Length  Diameter  Height  Whole weight  Shucked weight  Viscera weight  \\\n",
       "0   M      91        73      19         102.8            44.9            20.2   \n",
       "1   M      70        53      18          45.1            19.9             9.7   \n",
       "2   F     106        84      27         135.4            51.3            28.3   \n",
       "3   M      88        73      25         103.2            43.1            22.8   \n",
       "4   I      66        51      16          41.0            17.9             7.9   \n",
       "\n",
       "   Shell weight  Rings  sex_M  sex_F  sex_I  \n",
       "0          30.0     15      1      0      0  \n",
       "1          14.0      7      1      0      0  \n",
       "2          42.0      9      0      1      0  \n",
       "3          31.0     10      1      0      0  \n",
       "4          11.0      7      0      0      1  "
      ]
     },
     "execution_count": 43,
     "metadata": {},
     "output_type": "execute_result"
    }
   ],
   "source": [
    "df_1['sex_M']=0\n",
    "df_1['sex_F']=0\n",
    "df_1['sex_I']=0\n",
    "for index,row in df_1.iterrows():\n",
    "    if(df_1.iloc[index,0]==\"M\"):\n",
    "        df_1.iloc[index,9]=1\n",
    "    elif(df_1.iloc[index,0]==\"F\"):\n",
    "        df_1.iloc[index,10]=1\n",
    "    else:\n",
    "        df_1.iloc[index,11]=1\n",
    "df_1.head()"
   ]
  },
  {
   "cell_type": "markdown",
   "metadata": {},
   "source": [
    "After doing that we can now run our correlation function on each of `sex_M`,`sex_F`, and `sex_I`.:"
   ]
  },
  {
   "cell_type": "code",
   "execution_count": 44,
   "metadata": {
    "scrolled": false
   },
   "outputs": [
    {
     "name": "stdout",
     "output_type": "stream",
     "text": [
      "Correlation coefficients:\n",
      "r   = 0.18026784762945589\n",
      "rho = 0.21642730839599134\n"
     ]
    }
   ],
   "source": [
    "correlation(df_1, \"sex_M\", \"Rings\")"
   ]
  },
  {
   "cell_type": "code",
   "execution_count": 45,
   "metadata": {},
   "outputs": [
    {
     "name": "stdout",
     "output_type": "stream",
     "text": [
      "Correlation coefficients:\n",
      "r   = 0.2526216096261947\n",
      "rho = 0.2865874006043335\n"
     ]
    }
   ],
   "source": [
    "correlation(df_1, \"sex_F\", \"Rings\")"
   ]
  },
  {
   "cell_type": "code",
   "execution_count": 46,
   "metadata": {},
   "outputs": [
    {
     "name": "stdout",
     "output_type": "stream",
     "text": [
      "Correlation coefficients:\n",
      "r   = -0.43538650941843193\n",
      "rho = -0.5061775104499248\n"
     ]
    }
   ],
   "source": [
    "correlation(df_1, \"sex_I\", \"Rings\")"
   ]
  },
  {
   "cell_type": "markdown",
   "metadata": {},
   "source": [
    "`sex_M` and `sex_I` do not have strong correlations with Rings. \n",
    "\n",
    "`sex_I` on the otherhand has a relatively stronger correlation.\n",
    "\n",
    "We can present these correlation by using the describe_by_category function defined above:"
   ]
  },
  {
   "cell_type": "code",
   "execution_count": 47,
   "metadata": {},
   "outputs": [
    {
     "name": "stdout",
     "output_type": "stream",
     "text": [
      "      count       mean       std  min  25%   50%   75%   max\n",
      "Sex                                                         \n",
      "F    1293.0  11.099768  3.076191  5.0  9.0  10.0  12.0  29.0\n",
      "I    1342.0   7.890462  2.511554  1.0  6.0   8.0   9.0  21.0\n",
      "M    1505.0  10.663787  2.995772  3.0  9.0  10.0  12.0  26.0\n"
     ]
    }
   ],
   "source": [
    "describe_by_category(df_1, \"Rings\", \"Sex\")"
   ]
  },
  {
   "cell_type": "markdown",
   "metadata": {},
   "source": [
    "F and M have around the same descriptive statistics, whereas I is relatievly different. This goes in line with what we found out with the correlation function."
   ]
  },
  {
   "cell_type": "markdown",
   "metadata": {},
   "source": [
    "### Length and Rings\n",
    "\n",
    "Our initial assumption is that the larger the Length the higher the Rings. This makes sense due to the fact that an older abalone had more time to grow than a younger one.\n",
    "\n",
    "Running the correlation function on Length and Rings:"
   ]
  },
  {
   "cell_type": "code",
   "execution_count": 48,
   "metadata": {
    "scrolled": false
   },
   "outputs": [
    {
     "name": "stdout",
     "output_type": "stream",
     "text": [
      "Correlation coefficients:\n",
      "r   = 0.553628189567747\n",
      "rho = 0.6008849295798827\n"
     ]
    }
   ],
   "source": [
    "correlation(df_1, \"Length\", \"Rings\")"
   ]
  },
  {
   "cell_type": "markdown",
   "metadata": {},
   "source": [
    "That's a pretty high correlation.\n",
    "\n",
    "r=0.55 suggests that the correlation could be linear.\n",
    "\n",
    "We can conclude that our initial assumption is correct."
   ]
  },
  {
   "cell_type": "markdown",
   "metadata": {},
   "source": [
    "### Diameter and Rings\n",
    "\n",
    "Our initial assumption is that the larger the Diameter the higher the Rings. This makes sense due to the fact that an older abalone had more time to grow than a younger one.\n",
    "\n",
    "Running the correlation function on Diameter and Rings:"
   ]
  },
  {
   "cell_type": "code",
   "execution_count": 49,
   "metadata": {
    "scrolled": true
   },
   "outputs": [
    {
     "name": "stdout",
     "output_type": "stream",
     "text": [
      "Correlation coefficients:\n",
      "r   = 0.5719793987688263\n",
      "rho = 0.6196071643258237\n"
     ]
    }
   ],
   "source": [
    "correlation(df_1, \"Diameter\", \"Rings\")"
   ]
  },
  {
   "cell_type": "markdown",
   "metadata": {},
   "source": [
    "That's a pretty high correlation.\n",
    "\n",
    "r=0.57 suggests that the correlation could be linear.\n",
    "\n",
    "Furthermore, the rho value is ~ 0.62 which is an indicator that this correlation is even stronger than the Length, and more linear.\n",
    "\n",
    "We can conclude that our initial assumption is correct."
   ]
  },
  {
   "cell_type": "markdown",
   "metadata": {},
   "source": [
    "### Height and Rings\n",
    "\n",
    "Our initial assumption is that the larger the Height the higher the Rings. This makes sense due to the fact that an older abalone had more time to grow than a younger one.\n",
    "\n",
    "Running the correlation function on Height and Rings:"
   ]
  },
  {
   "cell_type": "code",
   "execution_count": 50,
   "metadata": {
    "scrolled": false
   },
   "outputs": [
    {
     "name": "stdout",
     "output_type": "stream",
     "text": [
      "Correlation coefficients:\n",
      "r   = 0.6073137839304048\n",
      "rho = 0.6557690294576977\n"
     ]
    }
   ],
   "source": [
    "correlation(df_1, \"Height\", \"Rings\")"
   ]
  },
  {
   "cell_type": "markdown",
   "metadata": {},
   "source": [
    "That's a pretty high correlation.\n",
    "\n",
    "r=0.61 suggests that the correlation is linear.\n",
    "\n",
    "Furthermore, the rho value is ~ 0.66 which is an indicator that this correlation is even stronger than the previous ones tested so far, and more linear.\n",
    "\n",
    "We can conclude that our initial assumption is correct."
   ]
  },
  {
   "cell_type": "markdown",
   "metadata": {},
   "source": [
    "### Whole weight and Rings\n",
    "\n",
    "Our initial assumption is that the larger the Whole weight the higher the Rings. This makes sense due to the fact that an older abalone had more time to grow than a younger one.\n",
    "\n",
    "Running the correlation function on Whole weight and Rings:"
   ]
  },
  {
   "cell_type": "code",
   "execution_count": 51,
   "metadata": {
    "scrolled": true
   },
   "outputs": [
    {
     "name": "stdout",
     "output_type": "stream",
     "text": [
      "Correlation coefficients:\n",
      "r   = 0.5390538394039652\n",
      "rho = 0.6275998490597332\n"
     ]
    }
   ],
   "source": [
    "correlation(df_1, \"Whole weight\", \"Rings\")"
   ]
  },
  {
   "cell_type": "markdown",
   "metadata": {},
   "source": [
    "That's a good correlation.\n",
    "\n",
    "The rho value is ~ 0.63 which puts this correlation stronger than Diameter and Length but weaker than the Height. \n",
    "\n",
    "We can conclude that our initial assumption is correct."
   ]
  },
  {
   "cell_type": "markdown",
   "metadata": {},
   "source": [
    "### Shucked weight and Rings\n",
    "\n",
    "Our initial assumption is that the larger the Shucked weight the higher the Rings. This makes sense due to the fact that an older abalone had more time to grow than a younger one.\n",
    "\n",
    "Running the correlation function on Shucked weight and Rings:"
   ]
  },
  {
   "cell_type": "code",
   "execution_count": 52,
   "metadata": {
    "scrolled": true
   },
   "outputs": [
    {
     "name": "stdout",
     "output_type": "stream",
     "text": [
      "Correlation coefficients:\n",
      "r   = 0.41957020348371465\n",
      "rho = 0.5351601281690728\n"
     ]
    }
   ],
   "source": [
    "correlation(df_1, \"Shucked weight\", \"Rings\")"
   ]
  },
  {
   "cell_type": "markdown",
   "metadata": {},
   "source": [
    "There is a correlation but it is not very strong.\n",
    "\n",
    "The Whole weight resulted in a stronger correlation than the Shucked weight, so we can conclude that our initial assumption that there is a correlation between the Shucked weight and the number of rings, but it is not the main driving feature that resulted in the relatively high correlation of the Whole weight."
   ]
  },
  {
   "cell_type": "markdown",
   "metadata": {},
   "source": [
    "### Viscera weight and Rings\n",
    "\n",
    "Our initial assumption is that the larger the Viscera weight the higher the Rings. This makes sense due to the fact that an older abalone had more time to grow than a younger one.\n",
    "\n",
    "Running the correlation function on Viscera weight and Rings:"
   ]
  },
  {
   "cell_type": "code",
   "execution_count": 53,
   "metadata": {
    "scrolled": false
   },
   "outputs": [
    {
     "name": "stdout",
     "output_type": "stream",
     "text": [
      "Correlation coefficients:\n",
      "r   = 0.5018617789040158\n",
      "rho = 0.6113044444492483\n"
     ]
    }
   ],
   "source": [
    "correlation(df_1, \"Viscera weight\", \"Rings\")"
   ]
  },
  {
   "cell_type": "markdown",
   "metadata": {},
   "source": [
    "There is a correlation.\n",
    "\n",
    "The Whole weight resulted in a stronger correlation than the Viscera weight, so we can conclude that our initial assumption that there is a correlation between the Viscera weight and the number of rings, but it is not the main driving feature that resulted in the relatively high correlation of the Whole weight."
   ]
  },
  {
   "cell_type": "markdown",
   "metadata": {},
   "source": [
    "### Shell weight and Rings\n",
    "\n",
    "Our initial assumption is that the larger the Shell weight the higher the Rings. This makes sense due to the fact that an older abalone had more time to grow than a younger one.\n",
    "\n",
    "Running the correlation function on Shell weight and Rings:"
   ]
  },
  {
   "cell_type": "code",
   "execution_count": 54,
   "metadata": {},
   "outputs": [
    {
     "name": "stdout",
     "output_type": "stream",
     "text": [
      "Correlation coefficients:\n",
      "r   = 0.6250391466929885\n",
      "rho = 0.6900136464222016\n"
     ]
    }
   ],
   "source": [
    "correlation(df_1, \"Shell weight\", \"Rings\")"
   ]
  },
  {
   "cell_type": "markdown",
   "metadata": {},
   "source": [
    "That is the strongest correlation we've seen so far.\n",
    "\n",
    "r value of 0.625 suggests that the relationship is highly linear.\n",
    "\n",
    "rho value of 0.69 suggests that comparing to the other variables this is the highest rank correlation.\n",
    "\n",
    "We can conclude that there is indeed a correlation between the Shell weight and the number of Rings. In addition, given that this correlation is even higher than the correlation of Whole weight, we can conclude that the Shell weight is the cause of the high Whole weight correlation.\n",
    "\n",
    "Plotting a lowess scatter plot of Shell weight vs Rings:"
   ]
  },
  {
   "cell_type": "code",
   "execution_count": 55,
   "metadata": {},
   "outputs": [
    {
     "data": {
      "image/png": "[encoded data removed]",
      "text/plain": [
       "<Figure size 720x432 with 1 Axes>"
      ]
     },
     "metadata": {
      "needs_background": "light"
     },
     "output_type": "display_data"
    }
   ],
   "source": [
    "lowess_scatter(df_1, \"Shell weight\", \"Rings\", jitter=0.01, skip_lowess=True)"
   ]
  },
  {
   "cell_type": "markdown",
   "metadata": {
    "colab_type": "text",
    "id": "VYRVa9cu3fGA"
   },
   "source": [
    "The plot above confirms our assumption and correlative findings."
   ]
  },
  {
   "cell_type": "markdown",
   "metadata": {},
   "source": [
    "### Summary\n",
    "\n",
    "\n",
    "Regarding the answers of the following questions:\n",
    "\n",
    "1.  What is the correlation between `Sex` and `Rings` \n",
    "\n",
    "    No correlation with the adult abalones and rings (male/female). \n",
    "    \n",
    "    But a correlation found between Infants and Rings, r~-0.44\n",
    "\n",
    "\n",
    "2.  What is the correlation between `Length` and `Rings` \n",
    "\n",
    "    Correlation found. r~0.55\n",
    "\n",
    "\n",
    "3.  What is the correlation between `Diameter` and `Rings` \n",
    "\n",
    "    Correlation found. r~0.57\n",
    "\n",
    "\n",
    "4.  What is the correlation between `Height` and `Rings` \n",
    "\n",
    "    Correlation found. r~0.61\n",
    "\n",
    "\n",
    "5.  What is the correlation between `Whole weight` and `Rings` \n",
    "\n",
    "    Correlation found. r~0.54\n",
    "\n",
    "\n",
    "6.  What is the correlation between `Shucked weight` and `Rings` \n",
    "\n",
    "    Correlation found. r~0.42\n",
    "\n",
    "\n",
    "7.  What is the correlation between `Viscera weight` and `Rings` \n",
    "\n",
    "    Correlation found. r~0.50\n",
    "\n",
    "\n",
    "8.  What is the correlation between `Shell weight` and `Rings` \n",
    "\n",
    "    Strongest correlation. r~0.63"
   ]
  },
  {
   "cell_type": "markdown",
   "metadata": {
    "colab_type": "text",
    "id": "rWHPdbNj216s"
   },
   "source": [
    "## 1.4 Statistical and Mathematical Modeling"
   ]
  },
  {
   "cell_type": "markdown",
   "metadata": {},
   "source": [
    "Below, we're going to mathemtically model the distribution of `Rings` within the dataset.\n",
    "\n",
    "We will begin with the poisson distribution:"
   ]
  },
  {
   "cell_type": "code",
   "execution_count": 56,
   "metadata": {},
   "outputs": [],
   "source": [
    "from scipy.stats import poisson\n"
   ]
  },
  {
   "cell_type": "code",
   "execution_count": 57,
   "metadata": {
    "scrolled": true
   },
   "outputs": [
    {
     "data": {
      "image/png": "[encoded data removed]",
      "text/plain": [
       "<Figure size 720x432 with 1 Axes>"
      ]
     },
     "metadata": {
      "needs_background": "light"
     },
     "output_type": "display_data"
    }
   ],
   "source": [
    "proportions = df_1[\"Rings\"].value_counts(normalize=True).sort_index()\n",
    "xs = range( len( proportions))\n",
    "width = 1/1.5\n",
    "lamb = np.mean(df_1[\"Rings\"]) # m1\n",
    "ys = [poisson.pmf( x, lamb, 0) for x in xs]\n",
    "figure = plt.figure(figsize=(10, 6))\n",
    "axes = figure.add_subplot(1, 1, 1)\n",
    "axes.bar(xs, proportions, width, color=\"dimgray\", align=\"center\")\n",
    "axes.set_xlabel(\"Rings\")\n",
    "axes.set_xticks(xs)\n",
    "axes.set_xticklabels(proportions.axes[0])\n",
    "axes.set_title( \"Relative Frequency of Rings\")\n",
    "axes.set_ylabel( \"Percent\")\n",
    "axes.xaxis.grid(False)\n",
    "axes.plot( xs, ys, color=\"darkred\", marker=\"o\")\n",
    "plt.show()\n",
    "plt.close()"
   ]
  },
  {
   "cell_type": "markdown",
   "metadata": {},
   "source": [
    "The poisson model over-estimates the number of Rings after 11 Rings, but corrects itself at around 18 rings.\n",
    "\n",
    "Modeling the distribution using a normal distribution model:"
   ]
  },
  {
   "cell_type": "code",
   "execution_count": 58,
   "metadata": {},
   "outputs": [],
   "source": [
    "from scipy.stats import norm"
   ]
  },
  {
   "cell_type": "code",
   "execution_count": 59,
   "metadata": {},
   "outputs": [
    {
     "data": {
      "image/png": "[encoded data removed]",
      "text/plain": [
       "<Figure size 720x432 with 1 Axes>"
      ]
     },
     "metadata": {
      "needs_background": "light"
     },
     "output_type": "display_data"
    }
   ],
   "source": [
    "proportions = df_1[\"Rings\"].value_counts(normalize=True).sort_index()\n",
    "xs = range( len( proportions))\n",
    "width = 1/1.5\n",
    "mean = np.mean(df_1[\"Rings\"])\n",
    "std = np.std(df_1[\"Rings\"])\n",
    "ys = [norm.pdf( k, loc=mean, scale=std) for k in xs]\n",
    "figure = plt.figure(figsize=(10, 6))\n",
    "axes = figure.add_subplot(1, 1, 1)\n",
    "axes.bar(xs, proportions, width, color=\"dimgray\", align=\"center\")\n",
    "axes.set_xlabel(\"Rings\")\n",
    "axes.set_xticks(xs)\n",
    "axes.set_xticklabels(proportions.axes[0])\n",
    "axes.set_title( \"Relative Frequency of Rings\")\n",
    "axes.set_ylabel( \"Percent\")\n",
    "axes.xaxis.grid(False)\n",
    "axes.plot( xs, ys, color=\"darkred\", marker=\"o\")\n",
    "plt.show()\n",
    "plt.close()\n",
    "\n",
    "\n"
   ]
  },
  {
   "cell_type": "markdown",
   "metadata": {},
   "source": [
    "Similarily, anything above 11 rings is over estimated but corrects itself at around 18 rings."
   ]
  }
 ],
 "metadata": {
  "colab": {
   "name": "Problem Set 3.ipynb",
   "provenance": [],
   "toc_visible": true
  },
  "kernelspec": {
   "display_name": "Python 3",
   "language": "python",
   "name": "python3"
  },
  "language_info": {
   "codemirror_mode": {
    "name": "ipython",
    "version": 3
   },
   "file_extension": ".py",
   "mimetype": "text/x-python",
   "name": "python",
   "nbconvert_exporter": "python",
   "pygments_lexer": "ipython3",
   "version": "3.7.5"
  },
  "toc": {
   "colors": {
    "hover_highlight": "#DAA520",
    "navigate_num": "#000000",
    "navigate_text": "#333333",
    "running_highlight": "#FF0000",
    "selected_highlight": "#FFD700",
    "sidebar_border": "#EEEEEE",
    "wrapper_background": "#FFFFFF"
   },
   "moveMenuLeft": true,
   "nav_menu": {
    "height": "66px",
    "width": "252px"
   },
   "navigate_menu": true,
   "number_sections": true,
   "sideBar": true,
   "threshold": 4,
   "toc_cell": false,
   "toc_section_display": "block",
   "toc_window_display": false,
   "widenNotebook": false
  }
 },
 "nbformat": 4,
 "nbformat_minor": 1
}
