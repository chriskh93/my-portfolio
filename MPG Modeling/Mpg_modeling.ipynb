{
 "cells": [
  {
   "cell_type": "code",
   "execution_count": 1,
   "metadata": {
    "colab": {},
    "colab_type": "code",
    "id": "sEoeCQMC_CQd"
   },
   "outputs": [],
   "source": [
    "%matplotlib inline"
   ]
  },
  {
   "cell_type": "code",
   "execution_count": 2,
   "metadata": {
    "colab": {},
    "colab_type": "code",
    "id": "6bYohDRI_CQo"
   },
   "outputs": [
    {
     "name": "stderr",
     "output_type": "stream",
     "text": [
      "D:\\Users\\CHRIS\\Anaconda3\\lib\\site-packages\\statsmodels\\tools\\_testing.py:19: FutureWarning: pandas.util.testing is deprecated. Use the functions in the public API at pandas.testing instead.\n",
      "  import pandas.util.testing as tm\n"
     ]
    }
   ],
   "source": [
    "import numpy as np\n",
    "import time\n",
    "import seaborn as sns\n",
    "import matplotlib.pyplot as plt\n",
    "import scipy.stats as stats\n",
    "\n",
    "sns.set(style=\"whitegrid\")\n",
    "\n",
    "# You may load the dataset from URL (instead of the local file) if you wish\n",
    "auto_mpg_data = \"https://raw.githubusercontent.com/fundamentals-of-data-science/datasets/master/auto-mpg.data.txt\"\n",
    "auto_mpg_names = \"https://raw.githubusercontent.com/fundamentals-of-data-science/datasets/master/auto-mpg.names.txt\""
   ]
  },
  {
   "cell_type": "markdown",
   "metadata": {
    "colab_type": "text",
    "id": "ZsABfrDu_CQz"
   },
   "source": [
    "# Building a predictive model for mpg from vehicle data\n"
   ]
  },
  {
   "cell_type": "markdown",
   "metadata": {},
   "source": [
    "# Table of Contents:\n",
    "\n",
    "   ### 1.1 [ETL](#etl)\n",
    "   \n",
    "   ### 1.2 [EDA](#eda)\n",
    "   \n",
    "   ### 1.3 [Build the model](#build)\n",
    "   \n",
    "   ### 1.4 [Describe the model](#describe)\n",
    "   \n",
    "   ### 1.5 [Use the model](#use)"
   ]
  },
  {
   "cell_type": "markdown",
   "metadata": {
    "colab_type": "text",
    "id": "FofBSkjuFtTZ"
   },
   "source": [
    "<a id=\"etl\"></a> \n",
    "## 1.1 - ETL\n"
   ]
  },
  {
   "cell_type": "markdown",
   "metadata": {
    "colab_type": "text",
    "id": "J_R3teL9Fv0S"
   },
   "source": [
    "The dataframe contains data about city-cycle fuel consumption in miles per gallon (mpg) as well as some vehicle info.\n",
    "\n",
    "The variables are:\n",
    "\n",
    "* [mpg](#mpg)\n",
    "* [cylinders](#cylinders)\n",
    "* [displacement](#displacement)\n",
    "* [horsepower](#horsepower)\n",
    "* [weight](#weight)\n",
    "* [acceleration](#acceleration)\n",
    "* [model_year](#model_year)\n",
    "* [origin](#origin)\n",
    "* [car_name](#car_name)\n",
    "\n",
    "\n",
    "We'll start by loading the data:"
   ]
  },
  {
   "cell_type": "code",
   "execution_count": 3,
   "metadata": {},
   "outputs": [],
   "source": [
    "import pandas as pd"
   ]
  },
  {
   "cell_type": "code",
   "execution_count": 4,
   "metadata": {},
   "outputs": [],
   "source": [
    "df = pd.read_fwf(auto_mpg_data,header=None)"
   ]
  },
  {
   "cell_type": "code",
   "execution_count": 5,
   "metadata": {},
   "outputs": [],
   "source": [
    "df.columns=['mpg','cylinders','displacement','horsepower','weight','acceleration','model_year','origin','car_name']\n"
   ]
  },
  {
   "cell_type": "markdown",
   "metadata": {
    "colab_type": "text",
    "id": "FPDyEaJOFwIo"
   },
   "source": [
    "<a id=\"eda\"></a> \n",
    "## 1.2 - EDA\n"
   ]
  },
  {
   "cell_type": "markdown",
   "metadata": {
    "colab_type": "text",
    "id": "x7aocAadFy6f"
   },
   "source": [
    "The question or problem is to build a predictive model for mpg. This exploratory data analysis is just the first step. We will first look at the patterns in each individual variable and then look to see if there are any patterns between mpg and any of the other variables.\n",
    "\n",
    "We'll look at the overall characteristics of the data to make sure it loaded correctly. First, let's get the basic data frame info:"
   ]
  },
  {
   "cell_type": "code",
   "execution_count": 6,
   "metadata": {},
   "outputs": [
    {
     "name": "stdout",
     "output_type": "stream",
     "text": [
      "<class 'pandas.core.frame.DataFrame'>\n",
      "RangeIndex: 398 entries, 0 to 397\n",
      "Data columns (total 9 columns):\n",
      " #   Column        Non-Null Count  Dtype  \n",
      "---  ------        --------------  -----  \n",
      " 0   mpg           398 non-null    float64\n",
      " 1   cylinders     398 non-null    int64  \n",
      " 2   displacement  398 non-null    float64\n",
      " 3   horsepower    398 non-null    object \n",
      " 4   weight        398 non-null    float64\n",
      " 5   acceleration  398 non-null    float64\n",
      " 6   model_year    398 non-null    int64  \n",
      " 7   origin        398 non-null    int64  \n",
      " 8   car_name      398 non-null    object \n",
      "dtypes: float64(4), int64(3), object(2)\n",
      "memory usage: 28.1+ KB\n"
     ]
    }
   ],
   "source": [
    "df.info()"
   ]
  },
  {
   "cell_type": "markdown",
   "metadata": {},
   "source": [
    "There are 398 records (or observations) for each variable. horsepower is supposed to be a float64 variable type, however our info fucntion returned a datatype of object, indicating possible missing values.  \n",
    "\n",
    "Removing the rows with missing values:"
   ]
  },
  {
   "cell_type": "code",
   "execution_count": 7,
   "metadata": {
    "scrolled": false
   },
   "outputs": [],
   "source": [
    "df_1=df[df['horsepower']!='?'].reset_index(drop=True)"
   ]
  },
  {
   "cell_type": "code",
   "execution_count": 8,
   "metadata": {},
   "outputs": [],
   "source": [
    "df_1['horsepower']=df_1['horsepower'].astype(float)"
   ]
  },
  {
   "cell_type": "markdown",
   "metadata": {},
   "source": [
    "Let's look at the first few rows:"
   ]
  },
  {
   "cell_type": "code",
   "execution_count": 9,
   "metadata": {
    "scrolled": true
   },
   "outputs": [
    {
     "data": {
      "text/html": [
       "<div>\n",
       "<style scoped>\n",
       "    .dataframe tbody tr th:only-of-type {\n",
       "        vertical-align: middle;\n",
       "    }\n",
       "\n",
       "    .dataframe tbody tr th {\n",
       "        vertical-align: top;\n",
       "    }\n",
       "\n",
       "    .dataframe thead th {\n",
       "        text-align: right;\n",
       "    }\n",
       "</style>\n",
       "<table border=\"1\" class=\"dataframe\">\n",
       "  <thead>\n",
       "    <tr style=\"text-align: right;\">\n",
       "      <th></th>\n",
       "      <th>mpg</th>\n",
       "      <th>cylinders</th>\n",
       "      <th>displacement</th>\n",
       "      <th>horsepower</th>\n",
       "      <th>weight</th>\n",
       "      <th>acceleration</th>\n",
       "      <th>model_year</th>\n",
       "      <th>origin</th>\n",
       "      <th>car_name</th>\n",
       "    </tr>\n",
       "  </thead>\n",
       "  <tbody>\n",
       "    <tr>\n",
       "      <th>0</th>\n",
       "      <td>18.0</td>\n",
       "      <td>8</td>\n",
       "      <td>307.0</td>\n",
       "      <td>130.0</td>\n",
       "      <td>3504.0</td>\n",
       "      <td>12.0</td>\n",
       "      <td>70</td>\n",
       "      <td>1</td>\n",
       "      <td>\"chevrolet chevelle malibu\"</td>\n",
       "    </tr>\n",
       "    <tr>\n",
       "      <th>1</th>\n",
       "      <td>15.0</td>\n",
       "      <td>8</td>\n",
       "      <td>350.0</td>\n",
       "      <td>165.0</td>\n",
       "      <td>3693.0</td>\n",
       "      <td>11.5</td>\n",
       "      <td>70</td>\n",
       "      <td>1</td>\n",
       "      <td>\"buick skylark 320\"</td>\n",
       "    </tr>\n",
       "    <tr>\n",
       "      <th>2</th>\n",
       "      <td>18.0</td>\n",
       "      <td>8</td>\n",
       "      <td>318.0</td>\n",
       "      <td>150.0</td>\n",
       "      <td>3436.0</td>\n",
       "      <td>11.0</td>\n",
       "      <td>70</td>\n",
       "      <td>1</td>\n",
       "      <td>\"plymouth satellite\"</td>\n",
       "    </tr>\n",
       "    <tr>\n",
       "      <th>3</th>\n",
       "      <td>16.0</td>\n",
       "      <td>8</td>\n",
       "      <td>304.0</td>\n",
       "      <td>150.0</td>\n",
       "      <td>3433.0</td>\n",
       "      <td>12.0</td>\n",
       "      <td>70</td>\n",
       "      <td>1</td>\n",
       "      <td>\"amc rebel sst\"</td>\n",
       "    </tr>\n",
       "    <tr>\n",
       "      <th>4</th>\n",
       "      <td>17.0</td>\n",
       "      <td>8</td>\n",
       "      <td>302.0</td>\n",
       "      <td>140.0</td>\n",
       "      <td>3449.0</td>\n",
       "      <td>10.5</td>\n",
       "      <td>70</td>\n",
       "      <td>1</td>\n",
       "      <td>\"ford torino\"</td>\n",
       "    </tr>\n",
       "  </tbody>\n",
       "</table>\n",
       "</div>"
      ],
      "text/plain": [
       "    mpg  cylinders  displacement  horsepower  weight  acceleration  \\\n",
       "0  18.0          8         307.0       130.0  3504.0          12.0   \n",
       "1  15.0          8         350.0       165.0  3693.0          11.5   \n",
       "2  18.0          8         318.0       150.0  3436.0          11.0   \n",
       "3  16.0          8         304.0       150.0  3433.0          12.0   \n",
       "4  17.0          8         302.0       140.0  3449.0          10.5   \n",
       "\n",
       "   model_year  origin                     car_name  \n",
       "0          70       1  \"chevrolet chevelle malibu\"  \n",
       "1          70       1          \"buick skylark 320\"  \n",
       "2          70       1         \"plymouth satellite\"  \n",
       "3          70       1              \"amc rebel sst\"  \n",
       "4          70       1                \"ford torino\"  "
      ]
     },
     "execution_count": 9,
     "metadata": {},
     "output_type": "execute_result"
    }
   ],
   "source": [
    "df_1.head()"
   ]
  },
  {
   "cell_type": "markdown",
   "metadata": {},
   "source": [
    "<a id=\"mpg\"></a> \n",
    "\n",
    "## MPG\n",
    "\n",
    "mpg is the main variable of interest and represents the city-cycle fuel consumption in miles per gallon (mpg) by the cars in the database. \n",
    "\n",
    "We would expect the distribution to be right-skewed as car manufacturers would tend to manufacture cars to have as low of an mpg in order for it to be feasibile to the consumer.\n",
    "\n",
    "\n",
    "We'll start by looking at the summary statistics:"
   ]
  },
  {
   "cell_type": "code",
   "execution_count": 10,
   "metadata": {},
   "outputs": [
    {
     "data": {
      "text/plain": [
       "count    392.000000\n",
       "mean      23.445918\n",
       "std        7.805007\n",
       "min        9.000000\n",
       "25%       17.000000\n",
       "50%       22.750000\n",
       "75%       29.000000\n",
       "max       46.600000\n",
       "Name: mpg, dtype: float64"
      ]
     },
     "execution_count": 10,
     "metadata": {},
     "output_type": "execute_result"
    }
   ],
   "source": [
    "df_1.mpg.describe()"
   ]
  },
  {
   "cell_type": "markdown",
   "metadata": {},
   "source": [
    "The variable is right skewed. The mean is 23.44 and the median is 22.75. The minimum value is 9 , and the first quartile is at 17 wich is not that much of a difference as compared to the difference between the 3rd quartile of 29 and the maximum value of 46.6. \n",
    "\n",
    "Let's plot a histogram of the data: \n"
   ]
  },
  {
   "cell_type": "code",
   "execution_count": 11,
   "metadata": {},
   "outputs": [
    {
     "data": {
      "image/png": "[encoded data removed]",
      "text/plain": [
       "<Figure size 720x432 with 1 Axes>"
      ]
     },
     "metadata": {},
     "output_type": "display_data"
    }
   ],
   "source": [
    "figure = plt.figure(figsize=(10, 6))\n",
    "\n",
    "axes = figure.add_subplot(1, 1, 1)\n",
    "axes.hist(df_1.mpg, color=\"darkslategray\")\n",
    "axes.set_title(\"Distribution of mpg\")\n",
    "axes.set_xlabel(\"mpg\")\n",
    "\n",
    "plt.show()\n",
    "plt.close()"
   ]
  },
  {
   "cell_type": "markdown",
   "metadata": {},
   "source": [
    "The data looks skewed to the right which makes sense. \n",
    "\n",
    "The mpg cannot be too low and car manufacturers aim to keep it as low as they can.\n",
    "\n",
    "Looking at the rawest resolution of the data with a bin size of 1:"
   ]
  },
  {
   "cell_type": "code",
   "execution_count": 12,
   "metadata": {},
   "outputs": [
    {
     "data": {
      "image/png": "[encoded data removed]",
      "text/plain": [
       "<Figure size 720x432 with 1 Axes>"
      ]
     },
     "metadata": {},
     "output_type": "display_data"
    }
   ],
   "source": [
    "mn = int(df_1.mpg.min())\n",
    "mx = int(df_1.mpg.max())\n",
    "bins = [i for i in range(mn, mx, 1)]\n",
    "\n",
    "figure = plt.figure(figsize=(10, 6))\n",
    "\n",
    "axes = figure.add_subplot(1, 1, 1)\n",
    "axes.hist(df_1.mpg,bins=bins, color=\"darkslategray\")\n",
    "axes.set_title(\"Distribution of MPG (1 unit Bins)\")\n",
    "axes.set_xlabel(\"MPG\")\n",
    "\n",
    "plt.show()\n",
    "plt.close()"
   ]
  },
  {
   "cell_type": "markdown",
   "metadata": {},
   "source": [
    "The distribution doesn't look very regular. There may be a number of factors influencing subgroups of mpg that is creating a mixture of distributions. "
   ]
  },
  {
   "cell_type": "markdown",
   "metadata": {},
   "source": [
    "<a id=\"cylinders\"></a>\n",
    "## Cylinders\n",
    "\n",
    "Cylinders is the number of cylinders the car's engine has. \n",
    "\n",
    "Let's first see the summary statistics:\n"
   ]
  },
  {
   "cell_type": "code",
   "execution_count": 13,
   "metadata": {
    "scrolled": true
   },
   "outputs": [
    {
     "data": {
      "text/plain": [
       "count    392.000000\n",
       "mean       5.471939\n",
       "std        1.705783\n",
       "min        3.000000\n",
       "25%        4.000000\n",
       "50%        4.000000\n",
       "75%        8.000000\n",
       "max        8.000000\n",
       "Name: cylinders, dtype: float64"
      ]
     },
     "execution_count": 13,
     "metadata": {},
     "output_type": "execute_result"
    }
   ],
   "source": [
    "df_1.cylinders.describe()"
   ]
  },
  {
   "cell_type": "markdown",
   "metadata": {},
   "source": [
    "Although we can't see the distribution here, the first two quartiles includes 4 cylinders so at least 50% of the cars in the data have 4 cylinders.\n",
    "\n",
    "The statistics would seem to suggest that the number of cylinders is right-skewed because the mean is greater than the median. \n",
    "\n",
    "Because the number of children is so small, we can treat the data like a discrete, categorical variable:"
   ]
  },
  {
   "cell_type": "code",
   "execution_count": 14,
   "metadata": {
    "scrolled": true
   },
   "outputs": [
    {
     "data": {
      "text/plain": [
       "3    0.010204\n",
       "4    0.507653\n",
       "5    0.007653\n",
       "6    0.211735\n",
       "8    0.262755\n",
       "Name: cylinders, dtype: float64"
      ]
     },
     "execution_count": 14,
     "metadata": {},
     "output_type": "execute_result"
    }
   ],
   "source": [
    "df_1.cylinders.value_counts(normalize=True).sort_index()"
   ]
  },
  {
   "cell_type": "markdown",
   "metadata": {},
   "source": [
    "Graphically:"
   ]
  },
  {
   "cell_type": "code",
   "execution_count": 15,
   "metadata": {},
   "outputs": [
    {
     "data": {
      "image/png": "[encoded data removed]",
      "text/plain": [
       "<Figure size 720x432 with 1 Axes>"
      ]
     },
     "metadata": {},
     "output_type": "display_data"
    }
   ],
   "source": [
    "data = df.cylinders.value_counts(normalize=True).sort_index()\n",
    "x = range( len( data))\n",
    "width = 1/1.5\n",
    "\n",
    "figure = plt.figure(figsize=(10, 6))\n",
    "\n",
    "axes = figure.add_subplot(1, 1, 1)\n",
    "axes.bar(x, data, width, align=\"center\", color=\"darkslategray\")\n",
    "axes.set_xticks([0, 1, 2, 3, 4, 5])\n",
    "axes.set_xticklabels(data.axes[0])\n",
    "axes.set_title( \"Distribution of Cylinders\")\n",
    "axes.set_xlabel(\"Number of Cylinders\")\n",
    "axes.set_ylabel( \"Percent\")\n",
    "axes.xaxis.grid(False)\n",
    "\n",
    "plt.show()\n",
    "plt.close()"
   ]
  },
  {
   "cell_type": "markdown",
   "metadata": {},
   "source": [
    "As expected the data is right skewed with 50%< of the data on 4 cylinders, 2% of the total data on 3 and 5 cylinders, and the remaining distributed between 6 and 8 cylinders."
   ]
  },
  {
   "cell_type": "markdown",
   "metadata": {},
   "source": [
    "<a id=\"displacement\"></a>\n",
    "\n",
    "## Displacement\n",
    "\n",
    "Engine displacement is the combined swept volume of the pistons inside the cylinders of an engine. It is calculated from the bore (diameter of the cylinders), stroke (distance the piston travels), and number of cylinders.\n",
    "\n",
    "It is a numeric variable. We expect that the data will be distributed about the same as the number of cylinders, so to the right.\n",
    "\n",
    "Let's first look at the summary statistics for Displacement to get a sense for the range actually covered."
   ]
  },
  {
   "cell_type": "code",
   "execution_count": 16,
   "metadata": {},
   "outputs": [
    {
     "data": {
      "text/plain": [
       "count    392.000000\n",
       "mean     194.411990\n",
       "std      104.644004\n",
       "min       68.000000\n",
       "25%      105.000000\n",
       "50%      151.000000\n",
       "75%      275.750000\n",
       "max      455.000000\n",
       "Name: displacement, dtype: float64"
      ]
     },
     "execution_count": 16,
     "metadata": {},
     "output_type": "execute_result"
    }
   ],
   "source": [
    "df_1.displacement.describe()"
   ]
  },
  {
   "cell_type": "markdown",
   "metadata": {},
   "source": [
    "As expected, the mean is significantly greater than the median, and the difference between the third quartile and the max value is significant.\n",
    "\n",
    "The data will definitely be right-skewed.\n",
    "\n",
    "Showing this graphically:"
   ]
  },
  {
   "cell_type": "code",
   "execution_count": 17,
   "metadata": {
    "scrolled": true
   },
   "outputs": [
    {
     "data": {
      "image/png": "[encoded data removed]",
      "text/plain": [
       "<Figure size 720x432 with 1 Axes>"
      ]
     },
     "metadata": {},
     "output_type": "display_data"
    }
   ],
   "source": [
    "figure = plt.figure(figsize=(10, 6))\n",
    "\n",
    "axes = figure.add_subplot(1, 1, 1)\n",
    "axes.hist(df_1.displacement, color=\"darkslategray\")\n",
    "axes.set_title(\"Distribution of Displacement\")\n",
    "axes.set_xlabel(\"Displacement\")\n",
    "\n",
    "plt.show()\n",
    "plt.close()"
   ]
  },
  {
   "cell_type": "markdown",
   "metadata": {},
   "source": [
    "<a id=\"horsepower\"></a>\n",
    "\n",
    "## Horsepower\n",
    "\n",
    "Horsepower is a measurement of the power of the engine.\n",
    "\n",
    "Engine displacement is a determining factor in the horsepower and torque that an engine produces, as well as how much fuel that engine consumes.\n",
    "\n",
    "Horsepower is a numeric variable. We expect that the data will be distributed about the same as the displacement and mpg, so to the right.\n",
    "\n",
    "Let's first look at the summary statistics to get a sense for the range actually covered."
   ]
  },
  {
   "cell_type": "code",
   "execution_count": 18,
   "metadata": {},
   "outputs": [
    {
     "data": {
      "text/plain": [
       "count    392.000000\n",
       "mean     104.469388\n",
       "std       38.491160\n",
       "min       46.000000\n",
       "25%       75.000000\n",
       "50%       93.500000\n",
       "75%      126.000000\n",
       "max      230.000000\n",
       "Name: horsepower, dtype: float64"
      ]
     },
     "execution_count": 18,
     "metadata": {},
     "output_type": "execute_result"
    }
   ],
   "source": [
    "df_1.horsepower.describe()"
   ]
  },
  {
   "cell_type": "markdown",
   "metadata": {},
   "source": [
    "The mean is greater than the median.\n",
    "\n",
    "The min value is much less than the first quartile and the max value is double the third quartile.\n",
    "\n",
    "Therefore, we would expect the the distribution is definitely right skewed, with a quantity of extreme variables showing before the peak.\n",
    "\n",
    "Plotting the distribution:"
   ]
  },
  {
   "cell_type": "code",
   "execution_count": 19,
   "metadata": {},
   "outputs": [
    {
     "data": {
      "image/png": "[encoded data removed]",
      "text/plain": [
       "<Figure size 720x432 with 1 Axes>"
      ]
     },
     "metadata": {},
     "output_type": "display_data"
    }
   ],
   "source": [
    "figure = plt.figure(figsize=(10, 6))\n",
    "\n",
    "axes = figure.add_subplot(1, 1, 1)\n",
    "axes.hist(df_1.horsepower, color=\"darkslategray\")\n",
    "axes.set_title(\"Distribution of horsepower\")\n",
    "axes.set_xlabel(\"horsepower\")\n",
    "\n",
    "plt.show()\n",
    "plt.close()"
   ]
  },
  {
   "cell_type": "markdown",
   "metadata": {},
   "source": [
    "As expected, we have a quantity of values in the first bin that are less than 62.5, with most of the values lying between 75-126."
   ]
  },
  {
   "cell_type": "markdown",
   "metadata": {},
   "source": [
    "<a id=\"weight\"></a>\n",
    "\n",
    "## Weight\n",
    "\n",
    "Weight is a measurement of the weight of the car in lbs.\n",
    "\n",
    "Weight is a numeric variable.\n",
    "\n",
    "Let's first look at the summary statistics:"
   ]
  },
  {
   "cell_type": "code",
   "execution_count": 20,
   "metadata": {},
   "outputs": [
    {
     "data": {
      "text/plain": [
       "count     392.000000\n",
       "mean     2977.584184\n",
       "std       849.402560\n",
       "min      1613.000000\n",
       "25%      2225.250000\n",
       "50%      2803.500000\n",
       "75%      3614.750000\n",
       "max      5140.000000\n",
       "Name: weight, dtype: float64"
      ]
     },
     "execution_count": 20,
     "metadata": {},
     "output_type": "execute_result"
    }
   ],
   "source": [
    "df_1.weight.describe()"
   ]
  },
  {
   "cell_type": "markdown",
   "metadata": {},
   "source": [
    "Although the mean and median are very close, taking a look at the quartiles, there is a small difference between the first and second quartile as compared to the third.\n",
    "\n",
    "This suggests a right skewed distribution.\n",
    "\n",
    "Showing this graphically:"
   ]
  },
  {
   "cell_type": "code",
   "execution_count": 21,
   "metadata": {},
   "outputs": [
    {
     "data": {
      "image/png": "[encoded data removed]",
      "text/plain": [
       "<Figure size 720x432 with 1 Axes>"
      ]
     },
     "metadata": {},
     "output_type": "display_data"
    }
   ],
   "source": [
    "figure = plt.figure(figsize=(10, 6))\n",
    "\n",
    "axes = figure.add_subplot(1, 1, 1)\n",
    "axes.hist(df_1.weight, color=\"darkslategray\")\n",
    "axes.set_title(\"Distribution of weight\")\n",
    "axes.set_xlabel(\"Weight\")\n",
    "\n",
    "plt.show()\n",
    "plt.close()"
   ]
  },
  {
   "cell_type": "markdown",
   "metadata": {},
   "source": [
    "<a id=\"acceleration\"></a>\n",
    "\n",
    "## Acceleration\n",
    "\n",
    "Acceleration is a measurement of the cars acceleration, \n",
    "\n",
    "The data does not provide how exactly the acceleration is measured whether it is 0-60 mph 0-100 kmh.\n",
    "\n",
    "Let's first look at the summary statistics:"
   ]
  },
  {
   "cell_type": "code",
   "execution_count": 22,
   "metadata": {},
   "outputs": [
    {
     "data": {
      "text/plain": [
       "count    392.000000\n",
       "mean      15.541327\n",
       "std        2.758864\n",
       "min        8.000000\n",
       "25%       13.775000\n",
       "50%       15.500000\n",
       "75%       17.025000\n",
       "max       24.800000\n",
       "Name: acceleration, dtype: float64"
      ]
     },
     "execution_count": 22,
     "metadata": {},
     "output_type": "execute_result"
    }
   ],
   "source": [
    "df_1.acceleration.describe()"
   ]
  },
  {
   "cell_type": "markdown",
   "metadata": {},
   "source": [
    "The mean and median are almost equal with the first and third quartile almost equidistant from the mean/median.\n",
    "\n",
    "Therefore suggesting that the data is normally distributed.\n",
    "\n",
    "Plotting the distribution:"
   ]
  },
  {
   "cell_type": "code",
   "execution_count": 23,
   "metadata": {},
   "outputs": [
    {
     "data": {
      "image/png": "[encoded data removed]",
      "text/plain": [
       "<Figure size 720x432 with 1 Axes>"
      ]
     },
     "metadata": {},
     "output_type": "display_data"
    }
   ],
   "source": [
    "figure = plt.figure(figsize=(10, 6))\n",
    "\n",
    "axes = figure.add_subplot(1, 1, 1)\n",
    "axes.hist(df_1.acceleration, color=\"darkslategray\")\n",
    "axes.set_title(\"Distribution of acceleration\")\n",
    "axes.set_xlabel(\"acceleration\")\n",
    "\n",
    "plt.show()\n",
    "plt.close()"
   ]
  },
  {
   "cell_type": "markdown",
   "metadata": {},
   "source": [
    "The data is indeed normal."
   ]
  },
  {
   "cell_type": "markdown",
   "metadata": {},
   "source": [
    "<a id=\"model_year\"></a>\n",
    "## Model Year\n",
    "\n",
    "Model Year is the year that the car was manfactured. \n",
    "\n",
    "Let's first see the summary statistics:\n"
   ]
  },
  {
   "cell_type": "code",
   "execution_count": 24,
   "metadata": {
    "scrolled": true
   },
   "outputs": [
    {
     "data": {
      "text/plain": [
       "count    392.000000\n",
       "mean      75.979592\n",
       "std        3.683737\n",
       "min       70.000000\n",
       "25%       73.000000\n",
       "50%       76.000000\n",
       "75%       79.000000\n",
       "max       82.000000\n",
       "Name: model_year, dtype: float64"
      ]
     },
     "execution_count": 24,
     "metadata": {},
     "output_type": "execute_result"
    }
   ],
   "source": [
    "df_1.model_year.describe()"
   ]
  },
  {
   "cell_type": "markdown",
   "metadata": {},
   "source": [
    "Vieweing the normalized value counts of model_year:"
   ]
  },
  {
   "cell_type": "code",
   "execution_count": 25,
   "metadata": {},
   "outputs": [
    {
     "data": {
      "text/plain": [
       "73    0.102041\n",
       "78    0.091837\n",
       "76    0.086735\n",
       "82    0.076531\n",
       "75    0.076531\n",
       "79    0.073980\n",
       "70    0.073980\n",
       "81    0.071429\n",
       "77    0.071429\n",
       "72    0.071429\n",
       "80    0.068878\n",
       "71    0.068878\n",
       "74    0.066327\n",
       "Name: model_year, dtype: float64"
      ]
     },
     "execution_count": 25,
     "metadata": {},
     "output_type": "execute_result"
    }
   ],
   "source": [
    "df_1.model_year.value_counts(normalize=True,sort=True)"
   ]
  },
  {
   "cell_type": "markdown",
   "metadata": {},
   "source": [
    "Most of the years have an equal number of cars more or less with the exception of the years of 73,76,and 78 which have slightly more."
   ]
  },
  {
   "cell_type": "markdown",
   "metadata": {},
   "source": [
    "<a id=\"origin\"></a>\n",
    "## Origin\n",
    "\n",
    "Origin is the region where the car was manfactured.\n",
    "\n",
    "This is a categorical variable.\n",
    "\n",
    "Let's first see the summary statistics:\n"
   ]
  },
  {
   "cell_type": "code",
   "execution_count": 26,
   "metadata": {
    "scrolled": true
   },
   "outputs": [
    {
     "data": {
      "text/plain": [
       "count    392.000000\n",
       "mean       1.576531\n",
       "std        0.805518\n",
       "min        1.000000\n",
       "25%        1.000000\n",
       "50%        1.000000\n",
       "75%        2.000000\n",
       "max        3.000000\n",
       "Name: origin, dtype: float64"
      ]
     },
     "execution_count": 26,
     "metadata": {},
     "output_type": "execute_result"
    }
   ],
   "source": [
    "df_1.origin.describe()"
   ]
  },
  {
   "cell_type": "code",
   "execution_count": 27,
   "metadata": {
    "scrolled": true
   },
   "outputs": [
    {
     "data": {
      "text/plain": [
       "1    0.625000\n",
       "2    0.173469\n",
       "3    0.201531\n",
       "Name: origin, dtype: float64"
      ]
     },
     "execution_count": 27,
     "metadata": {},
     "output_type": "execute_result"
    }
   ],
   "source": [
    "df_1.origin.value_counts(normalize=True).sort_index()"
   ]
  },
  {
   "cell_type": "markdown",
   "metadata": {},
   "source": [
    "origin can take a value of 1,2 and 3.\n",
    "\n",
    "Lets get determine what they stand for:"
   ]
  },
  {
   "cell_type": "code",
   "execution_count": 28,
   "metadata": {},
   "outputs": [
    {
     "data": {
      "text/html": [
       "<div>\n",
       "<style scoped>\n",
       "    .dataframe tbody tr th:only-of-type {\n",
       "        vertical-align: middle;\n",
       "    }\n",
       "\n",
       "    .dataframe tbody tr th {\n",
       "        vertical-align: top;\n",
       "    }\n",
       "\n",
       "    .dataframe thead th {\n",
       "        text-align: right;\n",
       "    }\n",
       "</style>\n",
       "<table border=\"1\" class=\"dataframe\">\n",
       "  <thead>\n",
       "    <tr style=\"text-align: right;\">\n",
       "      <th></th>\n",
       "      <th>mpg</th>\n",
       "      <th>cylinders</th>\n",
       "      <th>displacement</th>\n",
       "      <th>horsepower</th>\n",
       "      <th>weight</th>\n",
       "      <th>acceleration</th>\n",
       "      <th>model_year</th>\n",
       "      <th>origin</th>\n",
       "      <th>car_name</th>\n",
       "    </tr>\n",
       "  </thead>\n",
       "  <tbody>\n",
       "    <tr>\n",
       "      <th>0</th>\n",
       "      <td>18.0</td>\n",
       "      <td>8</td>\n",
       "      <td>307.0</td>\n",
       "      <td>130.0</td>\n",
       "      <td>3504.0</td>\n",
       "      <td>12.0</td>\n",
       "      <td>70</td>\n",
       "      <td>1</td>\n",
       "      <td>\"chevrolet chevelle malibu\"</td>\n",
       "    </tr>\n",
       "    <tr>\n",
       "      <th>1</th>\n",
       "      <td>15.0</td>\n",
       "      <td>8</td>\n",
       "      <td>350.0</td>\n",
       "      <td>165.0</td>\n",
       "      <td>3693.0</td>\n",
       "      <td>11.5</td>\n",
       "      <td>70</td>\n",
       "      <td>1</td>\n",
       "      <td>\"buick skylark 320\"</td>\n",
       "    </tr>\n",
       "    <tr>\n",
       "      <th>2</th>\n",
       "      <td>18.0</td>\n",
       "      <td>8</td>\n",
       "      <td>318.0</td>\n",
       "      <td>150.0</td>\n",
       "      <td>3436.0</td>\n",
       "      <td>11.0</td>\n",
       "      <td>70</td>\n",
       "      <td>1</td>\n",
       "      <td>\"plymouth satellite\"</td>\n",
       "    </tr>\n",
       "    <tr>\n",
       "      <th>3</th>\n",
       "      <td>16.0</td>\n",
       "      <td>8</td>\n",
       "      <td>304.0</td>\n",
       "      <td>150.0</td>\n",
       "      <td>3433.0</td>\n",
       "      <td>12.0</td>\n",
       "      <td>70</td>\n",
       "      <td>1</td>\n",
       "      <td>\"amc rebel sst\"</td>\n",
       "    </tr>\n",
       "    <tr>\n",
       "      <th>4</th>\n",
       "      <td>17.0</td>\n",
       "      <td>8</td>\n",
       "      <td>302.0</td>\n",
       "      <td>140.0</td>\n",
       "      <td>3449.0</td>\n",
       "      <td>10.5</td>\n",
       "      <td>70</td>\n",
       "      <td>1</td>\n",
       "      <td>\"ford torino\"</td>\n",
       "    </tr>\n",
       "    <tr>\n",
       "      <th>5</th>\n",
       "      <td>15.0</td>\n",
       "      <td>8</td>\n",
       "      <td>429.0</td>\n",
       "      <td>198.0</td>\n",
       "      <td>4341.0</td>\n",
       "      <td>10.0</td>\n",
       "      <td>70</td>\n",
       "      <td>1</td>\n",
       "      <td>\"ford galaxie 500\"</td>\n",
       "    </tr>\n",
       "    <tr>\n",
       "      <th>6</th>\n",
       "      <td>14.0</td>\n",
       "      <td>8</td>\n",
       "      <td>454.0</td>\n",
       "      <td>220.0</td>\n",
       "      <td>4354.0</td>\n",
       "      <td>9.0</td>\n",
       "      <td>70</td>\n",
       "      <td>1</td>\n",
       "      <td>\"chevrolet impala\"</td>\n",
       "    </tr>\n",
       "    <tr>\n",
       "      <th>7</th>\n",
       "      <td>14.0</td>\n",
       "      <td>8</td>\n",
       "      <td>440.0</td>\n",
       "      <td>215.0</td>\n",
       "      <td>4312.0</td>\n",
       "      <td>8.5</td>\n",
       "      <td>70</td>\n",
       "      <td>1</td>\n",
       "      <td>\"plymouth fury iii\"</td>\n",
       "    </tr>\n",
       "    <tr>\n",
       "      <th>8</th>\n",
       "      <td>14.0</td>\n",
       "      <td>8</td>\n",
       "      <td>455.0</td>\n",
       "      <td>225.0</td>\n",
       "      <td>4425.0</td>\n",
       "      <td>10.0</td>\n",
       "      <td>70</td>\n",
       "      <td>1</td>\n",
       "      <td>\"pontiac catalina\"</td>\n",
       "    </tr>\n",
       "    <tr>\n",
       "      <th>9</th>\n",
       "      <td>15.0</td>\n",
       "      <td>8</td>\n",
       "      <td>390.0</td>\n",
       "      <td>190.0</td>\n",
       "      <td>3850.0</td>\n",
       "      <td>8.5</td>\n",
       "      <td>70</td>\n",
       "      <td>1</td>\n",
       "      <td>\"amc ambassador dpl\"</td>\n",
       "    </tr>\n",
       "    <tr>\n",
       "      <th>10</th>\n",
       "      <td>15.0</td>\n",
       "      <td>8</td>\n",
       "      <td>383.0</td>\n",
       "      <td>170.0</td>\n",
       "      <td>3563.0</td>\n",
       "      <td>10.0</td>\n",
       "      <td>70</td>\n",
       "      <td>1</td>\n",
       "      <td>\"dodge challenger se\"</td>\n",
       "    </tr>\n",
       "    <tr>\n",
       "      <th>11</th>\n",
       "      <td>14.0</td>\n",
       "      <td>8</td>\n",
       "      <td>340.0</td>\n",
       "      <td>160.0</td>\n",
       "      <td>3609.0</td>\n",
       "      <td>8.0</td>\n",
       "      <td>70</td>\n",
       "      <td>1</td>\n",
       "      <td>\"plymouth 'cuda 340\"</td>\n",
       "    </tr>\n",
       "    <tr>\n",
       "      <th>12</th>\n",
       "      <td>15.0</td>\n",
       "      <td>8</td>\n",
       "      <td>400.0</td>\n",
       "      <td>150.0</td>\n",
       "      <td>3761.0</td>\n",
       "      <td>9.5</td>\n",
       "      <td>70</td>\n",
       "      <td>1</td>\n",
       "      <td>\"chevrolet monte carlo\"</td>\n",
       "    </tr>\n",
       "    <tr>\n",
       "      <th>13</th>\n",
       "      <td>14.0</td>\n",
       "      <td>8</td>\n",
       "      <td>455.0</td>\n",
       "      <td>225.0</td>\n",
       "      <td>3086.0</td>\n",
       "      <td>10.0</td>\n",
       "      <td>70</td>\n",
       "      <td>1</td>\n",
       "      <td>\"buick estate wagon (sw)\"</td>\n",
       "    </tr>\n",
       "    <tr>\n",
       "      <th>15</th>\n",
       "      <td>22.0</td>\n",
       "      <td>6</td>\n",
       "      <td>198.0</td>\n",
       "      <td>95.0</td>\n",
       "      <td>2833.0</td>\n",
       "      <td>15.5</td>\n",
       "      <td>70</td>\n",
       "      <td>1</td>\n",
       "      <td>\"plymouth duster\"</td>\n",
       "    </tr>\n",
       "  </tbody>\n",
       "</table>\n",
       "</div>"
      ],
      "text/plain": [
       "     mpg  cylinders  displacement  horsepower  weight  acceleration  \\\n",
       "0   18.0          8         307.0       130.0  3504.0          12.0   \n",
       "1   15.0          8         350.0       165.0  3693.0          11.5   \n",
       "2   18.0          8         318.0       150.0  3436.0          11.0   \n",
       "3   16.0          8         304.0       150.0  3433.0          12.0   \n",
       "4   17.0          8         302.0       140.0  3449.0          10.5   \n",
       "5   15.0          8         429.0       198.0  4341.0          10.0   \n",
       "6   14.0          8         454.0       220.0  4354.0           9.0   \n",
       "7   14.0          8         440.0       215.0  4312.0           8.5   \n",
       "8   14.0          8         455.0       225.0  4425.0          10.0   \n",
       "9   15.0          8         390.0       190.0  3850.0           8.5   \n",
       "10  15.0          8         383.0       170.0  3563.0          10.0   \n",
       "11  14.0          8         340.0       160.0  3609.0           8.0   \n",
       "12  15.0          8         400.0       150.0  3761.0           9.5   \n",
       "13  14.0          8         455.0       225.0  3086.0          10.0   \n",
       "15  22.0          6         198.0        95.0  2833.0          15.5   \n",
       "\n",
       "    model_year  origin                     car_name  \n",
       "0           70       1  \"chevrolet chevelle malibu\"  \n",
       "1           70       1          \"buick skylark 320\"  \n",
       "2           70       1         \"plymouth satellite\"  \n",
       "3           70       1              \"amc rebel sst\"  \n",
       "4           70       1                \"ford torino\"  \n",
       "5           70       1           \"ford galaxie 500\"  \n",
       "6           70       1           \"chevrolet impala\"  \n",
       "7           70       1          \"plymouth fury iii\"  \n",
       "8           70       1           \"pontiac catalina\"  \n",
       "9           70       1         \"amc ambassador dpl\"  \n",
       "10          70       1        \"dodge challenger se\"  \n",
       "11          70       1         \"plymouth 'cuda 340\"  \n",
       "12          70       1      \"chevrolet monte carlo\"  \n",
       "13          70       1    \"buick estate wagon (sw)\"  \n",
       "15          70       1            \"plymouth duster\"  "
      ]
     },
     "execution_count": 28,
     "metadata": {},
     "output_type": "execute_result"
    }
   ],
   "source": [
    "df_1[df_1['origin']==1].head(15)"
   ]
  },
  {
   "cell_type": "code",
   "execution_count": 29,
   "metadata": {},
   "outputs": [
    {
     "data": {
      "text/html": [
       "<div>\n",
       "<style scoped>\n",
       "    .dataframe tbody tr th:only-of-type {\n",
       "        vertical-align: middle;\n",
       "    }\n",
       "\n",
       "    .dataframe tbody tr th {\n",
       "        vertical-align: top;\n",
       "    }\n",
       "\n",
       "    .dataframe thead th {\n",
       "        text-align: right;\n",
       "    }\n",
       "</style>\n",
       "<table border=\"1\" class=\"dataframe\">\n",
       "  <thead>\n",
       "    <tr style=\"text-align: right;\">\n",
       "      <th></th>\n",
       "      <th>mpg</th>\n",
       "      <th>cylinders</th>\n",
       "      <th>displacement</th>\n",
       "      <th>horsepower</th>\n",
       "      <th>weight</th>\n",
       "      <th>acceleration</th>\n",
       "      <th>model_year</th>\n",
       "      <th>origin</th>\n",
       "      <th>car_name</th>\n",
       "    </tr>\n",
       "  </thead>\n",
       "  <tbody>\n",
       "    <tr>\n",
       "      <th>19</th>\n",
       "      <td>26.0</td>\n",
       "      <td>4</td>\n",
       "      <td>97.0</td>\n",
       "      <td>46.0</td>\n",
       "      <td>1835.0</td>\n",
       "      <td>20.5</td>\n",
       "      <td>70</td>\n",
       "      <td>2</td>\n",
       "      <td>\"volkswagen 1131 deluxe sedan\"</td>\n",
       "    </tr>\n",
       "    <tr>\n",
       "      <th>20</th>\n",
       "      <td>25.0</td>\n",
       "      <td>4</td>\n",
       "      <td>110.0</td>\n",
       "      <td>87.0</td>\n",
       "      <td>2672.0</td>\n",
       "      <td>17.5</td>\n",
       "      <td>70</td>\n",
       "      <td>2</td>\n",
       "      <td>\"peugeot 504\"</td>\n",
       "    </tr>\n",
       "    <tr>\n",
       "      <th>21</th>\n",
       "      <td>24.0</td>\n",
       "      <td>4</td>\n",
       "      <td>107.0</td>\n",
       "      <td>90.0</td>\n",
       "      <td>2430.0</td>\n",
       "      <td>14.5</td>\n",
       "      <td>70</td>\n",
       "      <td>2</td>\n",
       "      <td>\"audi 100 ls\"</td>\n",
       "    </tr>\n",
       "    <tr>\n",
       "      <th>22</th>\n",
       "      <td>25.0</td>\n",
       "      <td>4</td>\n",
       "      <td>104.0</td>\n",
       "      <td>95.0</td>\n",
       "      <td>2375.0</td>\n",
       "      <td>17.5</td>\n",
       "      <td>70</td>\n",
       "      <td>2</td>\n",
       "      <td>\"saab 99e\"</td>\n",
       "    </tr>\n",
       "    <tr>\n",
       "      <th>23</th>\n",
       "      <td>26.0</td>\n",
       "      <td>4</td>\n",
       "      <td>121.0</td>\n",
       "      <td>113.0</td>\n",
       "      <td>2234.0</td>\n",
       "      <td>12.5</td>\n",
       "      <td>70</td>\n",
       "      <td>2</td>\n",
       "      <td>\"bmw 2002\"</td>\n",
       "    </tr>\n",
       "    <tr>\n",
       "      <th>49</th>\n",
       "      <td>28.0</td>\n",
       "      <td>4</td>\n",
       "      <td>116.0</td>\n",
       "      <td>90.0</td>\n",
       "      <td>2123.0</td>\n",
       "      <td>14.0</td>\n",
       "      <td>71</td>\n",
       "      <td>2</td>\n",
       "      <td>\"opel 1900\"</td>\n",
       "    </tr>\n",
       "    <tr>\n",
       "      <th>50</th>\n",
       "      <td>30.0</td>\n",
       "      <td>4</td>\n",
       "      <td>79.0</td>\n",
       "      <td>70.0</td>\n",
       "      <td>2074.0</td>\n",
       "      <td>19.5</td>\n",
       "      <td>71</td>\n",
       "      <td>2</td>\n",
       "      <td>\"peugeot 304\"</td>\n",
       "    </tr>\n",
       "    <tr>\n",
       "      <th>51</th>\n",
       "      <td>30.0</td>\n",
       "      <td>4</td>\n",
       "      <td>88.0</td>\n",
       "      <td>76.0</td>\n",
       "      <td>2065.0</td>\n",
       "      <td>14.5</td>\n",
       "      <td>71</td>\n",
       "      <td>2</td>\n",
       "      <td>\"fiat 124b\"</td>\n",
       "    </tr>\n",
       "    <tr>\n",
       "      <th>54</th>\n",
       "      <td>27.0</td>\n",
       "      <td>4</td>\n",
       "      <td>97.0</td>\n",
       "      <td>60.0</td>\n",
       "      <td>1834.0</td>\n",
       "      <td>19.0</td>\n",
       "      <td>71</td>\n",
       "      <td>2</td>\n",
       "      <td>\"volkswagen model 111\"</td>\n",
       "    </tr>\n",
       "    <tr>\n",
       "      <th>58</th>\n",
       "      <td>23.0</td>\n",
       "      <td>4</td>\n",
       "      <td>97.0</td>\n",
       "      <td>54.0</td>\n",
       "      <td>2254.0</td>\n",
       "      <td>23.5</td>\n",
       "      <td>72</td>\n",
       "      <td>2</td>\n",
       "      <td>\"volkswagen type 3\"</td>\n",
       "    </tr>\n",
       "    <tr>\n",
       "      <th>75</th>\n",
       "      <td>18.0</td>\n",
       "      <td>4</td>\n",
       "      <td>121.0</td>\n",
       "      <td>112.0</td>\n",
       "      <td>2933.0</td>\n",
       "      <td>14.5</td>\n",
       "      <td>72</td>\n",
       "      <td>2</td>\n",
       "      <td>\"volvo 145e (sw)\"</td>\n",
       "    </tr>\n",
       "    <tr>\n",
       "      <th>76</th>\n",
       "      <td>22.0</td>\n",
       "      <td>4</td>\n",
       "      <td>121.0</td>\n",
       "      <td>76.0</td>\n",
       "      <td>2511.0</td>\n",
       "      <td>18.0</td>\n",
       "      <td>72</td>\n",
       "      <td>2</td>\n",
       "      <td>\"volkswagen 411 (sw)\"</td>\n",
       "    </tr>\n",
       "    <tr>\n",
       "      <th>77</th>\n",
       "      <td>21.0</td>\n",
       "      <td>4</td>\n",
       "      <td>120.0</td>\n",
       "      <td>87.0</td>\n",
       "      <td>2979.0</td>\n",
       "      <td>19.5</td>\n",
       "      <td>72</td>\n",
       "      <td>2</td>\n",
       "      <td>\"peugeot 504 (sw)\"</td>\n",
       "    </tr>\n",
       "    <tr>\n",
       "      <th>78</th>\n",
       "      <td>26.0</td>\n",
       "      <td>4</td>\n",
       "      <td>96.0</td>\n",
       "      <td>69.0</td>\n",
       "      <td>2189.0</td>\n",
       "      <td>18.0</td>\n",
       "      <td>72</td>\n",
       "      <td>2</td>\n",
       "      <td>\"renault 12 (sw)\"</td>\n",
       "    </tr>\n",
       "    <tr>\n",
       "      <th>101</th>\n",
       "      <td>26.0</td>\n",
       "      <td>4</td>\n",
       "      <td>97.0</td>\n",
       "      <td>46.0</td>\n",
       "      <td>1950.0</td>\n",
       "      <td>21.0</td>\n",
       "      <td>73</td>\n",
       "      <td>2</td>\n",
       "      <td>\"volkswagen super beetle\"</td>\n",
       "    </tr>\n",
       "  </tbody>\n",
       "</table>\n",
       "</div>"
      ],
      "text/plain": [
       "      mpg  cylinders  displacement  horsepower  weight  acceleration  \\\n",
       "19   26.0          4          97.0        46.0  1835.0          20.5   \n",
       "20   25.0          4         110.0        87.0  2672.0          17.5   \n",
       "21   24.0          4         107.0        90.0  2430.0          14.5   \n",
       "22   25.0          4         104.0        95.0  2375.0          17.5   \n",
       "23   26.0          4         121.0       113.0  2234.0          12.5   \n",
       "49   28.0          4         116.0        90.0  2123.0          14.0   \n",
       "50   30.0          4          79.0        70.0  2074.0          19.5   \n",
       "51   30.0          4          88.0        76.0  2065.0          14.5   \n",
       "54   27.0          4          97.0        60.0  1834.0          19.0   \n",
       "58   23.0          4          97.0        54.0  2254.0          23.5   \n",
       "75   18.0          4         121.0       112.0  2933.0          14.5   \n",
       "76   22.0          4         121.0        76.0  2511.0          18.0   \n",
       "77   21.0          4         120.0        87.0  2979.0          19.5   \n",
       "78   26.0          4          96.0        69.0  2189.0          18.0   \n",
       "101  26.0          4          97.0        46.0  1950.0          21.0   \n",
       "\n",
       "     model_year  origin                        car_name  \n",
       "19           70       2  \"volkswagen 1131 deluxe sedan\"  \n",
       "20           70       2                   \"peugeot 504\"  \n",
       "21           70       2                   \"audi 100 ls\"  \n",
       "22           70       2                      \"saab 99e\"  \n",
       "23           70       2                      \"bmw 2002\"  \n",
       "49           71       2                     \"opel 1900\"  \n",
       "50           71       2                   \"peugeot 304\"  \n",
       "51           71       2                     \"fiat 124b\"  \n",
       "54           71       2          \"volkswagen model 111\"  \n",
       "58           72       2             \"volkswagen type 3\"  \n",
       "75           72       2               \"volvo 145e (sw)\"  \n",
       "76           72       2           \"volkswagen 411 (sw)\"  \n",
       "77           72       2              \"peugeot 504 (sw)\"  \n",
       "78           72       2               \"renault 12 (sw)\"  \n",
       "101          73       2       \"volkswagen super beetle\"  "
      ]
     },
     "execution_count": 29,
     "metadata": {},
     "output_type": "execute_result"
    }
   ],
   "source": [
    "df_1[df_1['origin']==2].head(15)"
   ]
  },
  {
   "cell_type": "code",
   "execution_count": 30,
   "metadata": {},
   "outputs": [
    {
     "data": {
      "text/html": [
       "<div>\n",
       "<style scoped>\n",
       "    .dataframe tbody tr th:only-of-type {\n",
       "        vertical-align: middle;\n",
       "    }\n",
       "\n",
       "    .dataframe tbody tr th {\n",
       "        vertical-align: top;\n",
       "    }\n",
       "\n",
       "    .dataframe thead th {\n",
       "        text-align: right;\n",
       "    }\n",
       "</style>\n",
       "<table border=\"1\" class=\"dataframe\">\n",
       "  <thead>\n",
       "    <tr style=\"text-align: right;\">\n",
       "      <th></th>\n",
       "      <th>mpg</th>\n",
       "      <th>cylinders</th>\n",
       "      <th>displacement</th>\n",
       "      <th>horsepower</th>\n",
       "      <th>weight</th>\n",
       "      <th>acceleration</th>\n",
       "      <th>model_year</th>\n",
       "      <th>origin</th>\n",
       "      <th>car_name</th>\n",
       "    </tr>\n",
       "  </thead>\n",
       "  <tbody>\n",
       "    <tr>\n",
       "      <th>14</th>\n",
       "      <td>24.0</td>\n",
       "      <td>4</td>\n",
       "      <td>113.0</td>\n",
       "      <td>95.0</td>\n",
       "      <td>2372.0</td>\n",
       "      <td>15.0</td>\n",
       "      <td>70</td>\n",
       "      <td>3</td>\n",
       "      <td>\"toyota corona mark ii\"</td>\n",
       "    </tr>\n",
       "    <tr>\n",
       "      <th>18</th>\n",
       "      <td>27.0</td>\n",
       "      <td>4</td>\n",
       "      <td>97.0</td>\n",
       "      <td>88.0</td>\n",
       "      <td>2130.0</td>\n",
       "      <td>14.5</td>\n",
       "      <td>70</td>\n",
       "      <td>3</td>\n",
       "      <td>\"datsun pl510\"</td>\n",
       "    </tr>\n",
       "    <tr>\n",
       "      <th>29</th>\n",
       "      <td>27.0</td>\n",
       "      <td>4</td>\n",
       "      <td>97.0</td>\n",
       "      <td>88.0</td>\n",
       "      <td>2130.0</td>\n",
       "      <td>14.5</td>\n",
       "      <td>71</td>\n",
       "      <td>3</td>\n",
       "      <td>\"datsun pl510\"</td>\n",
       "    </tr>\n",
       "    <tr>\n",
       "      <th>31</th>\n",
       "      <td>25.0</td>\n",
       "      <td>4</td>\n",
       "      <td>113.0</td>\n",
       "      <td>95.0</td>\n",
       "      <td>2228.0</td>\n",
       "      <td>14.0</td>\n",
       "      <td>71</td>\n",
       "      <td>3</td>\n",
       "      <td>\"toyota corona\"</td>\n",
       "    </tr>\n",
       "    <tr>\n",
       "      <th>52</th>\n",
       "      <td>31.0</td>\n",
       "      <td>4</td>\n",
       "      <td>71.0</td>\n",
       "      <td>65.0</td>\n",
       "      <td>1773.0</td>\n",
       "      <td>19.0</td>\n",
       "      <td>71</td>\n",
       "      <td>3</td>\n",
       "      <td>\"toyota corolla 1200\"</td>\n",
       "    </tr>\n",
       "    <tr>\n",
       "      <th>53</th>\n",
       "      <td>35.0</td>\n",
       "      <td>4</td>\n",
       "      <td>72.0</td>\n",
       "      <td>69.0</td>\n",
       "      <td>1613.0</td>\n",
       "      <td>18.0</td>\n",
       "      <td>71</td>\n",
       "      <td>3</td>\n",
       "      <td>\"datsun 1200\"</td>\n",
       "    </tr>\n",
       "    <tr>\n",
       "      <th>56</th>\n",
       "      <td>24.0</td>\n",
       "      <td>4</td>\n",
       "      <td>113.0</td>\n",
       "      <td>95.0</td>\n",
       "      <td>2278.0</td>\n",
       "      <td>15.5</td>\n",
       "      <td>72</td>\n",
       "      <td>3</td>\n",
       "      <td>\"toyota corona hardtop\"</td>\n",
       "    </tr>\n",
       "    <tr>\n",
       "      <th>70</th>\n",
       "      <td>19.0</td>\n",
       "      <td>3</td>\n",
       "      <td>70.0</td>\n",
       "      <td>97.0</td>\n",
       "      <td>2330.0</td>\n",
       "      <td>13.5</td>\n",
       "      <td>72</td>\n",
       "      <td>3</td>\n",
       "      <td>\"mazda rx2 coupe\"</td>\n",
       "    </tr>\n",
       "    <tr>\n",
       "      <th>80</th>\n",
       "      <td>28.0</td>\n",
       "      <td>4</td>\n",
       "      <td>97.0</td>\n",
       "      <td>92.0</td>\n",
       "      <td>2288.0</td>\n",
       "      <td>17.0</td>\n",
       "      <td>72</td>\n",
       "      <td>3</td>\n",
       "      <td>\"datsun 510 (sw)\"</td>\n",
       "    </tr>\n",
       "    <tr>\n",
       "      <th>81</th>\n",
       "      <td>23.0</td>\n",
       "      <td>4</td>\n",
       "      <td>120.0</td>\n",
       "      <td>97.0</td>\n",
       "      <td>2506.0</td>\n",
       "      <td>14.5</td>\n",
       "      <td>72</td>\n",
       "      <td>3</td>\n",
       "      <td>\"toyouta corona mark ii (sw)\"</td>\n",
       "    </tr>\n",
       "    <tr>\n",
       "      <th>83</th>\n",
       "      <td>27.0</td>\n",
       "      <td>4</td>\n",
       "      <td>97.0</td>\n",
       "      <td>88.0</td>\n",
       "      <td>2100.0</td>\n",
       "      <td>16.5</td>\n",
       "      <td>72</td>\n",
       "      <td>3</td>\n",
       "      <td>\"toyota corolla 1600 (sw)\"</td>\n",
       "    </tr>\n",
       "    <tr>\n",
       "      <th>107</th>\n",
       "      <td>20.0</td>\n",
       "      <td>4</td>\n",
       "      <td>97.0</td>\n",
       "      <td>88.0</td>\n",
       "      <td>2279.0</td>\n",
       "      <td>19.0</td>\n",
       "      <td>73</td>\n",
       "      <td>3</td>\n",
       "      <td>\"toyota carina\"</td>\n",
       "    </tr>\n",
       "    <tr>\n",
       "      <th>109</th>\n",
       "      <td>22.0</td>\n",
       "      <td>4</td>\n",
       "      <td>108.0</td>\n",
       "      <td>94.0</td>\n",
       "      <td>2379.0</td>\n",
       "      <td>16.5</td>\n",
       "      <td>73</td>\n",
       "      <td>3</td>\n",
       "      <td>\"datsun 610\"</td>\n",
       "    </tr>\n",
       "    <tr>\n",
       "      <th>110</th>\n",
       "      <td>18.0</td>\n",
       "      <td>3</td>\n",
       "      <td>70.0</td>\n",
       "      <td>90.0</td>\n",
       "      <td>2124.0</td>\n",
       "      <td>13.5</td>\n",
       "      <td>73</td>\n",
       "      <td>3</td>\n",
       "      <td>\"maxda rx3\"</td>\n",
       "    </tr>\n",
       "    <tr>\n",
       "      <th>122</th>\n",
       "      <td>20.0</td>\n",
       "      <td>6</td>\n",
       "      <td>156.0</td>\n",
       "      <td>122.0</td>\n",
       "      <td>2807.0</td>\n",
       "      <td>13.5</td>\n",
       "      <td>73</td>\n",
       "      <td>3</td>\n",
       "      <td>\"toyota mark ii\"</td>\n",
       "    </tr>\n",
       "  </tbody>\n",
       "</table>\n",
       "</div>"
      ],
      "text/plain": [
       "      mpg  cylinders  displacement  horsepower  weight  acceleration  \\\n",
       "14   24.0          4         113.0        95.0  2372.0          15.0   \n",
       "18   27.0          4          97.0        88.0  2130.0          14.5   \n",
       "29   27.0          4          97.0        88.0  2130.0          14.5   \n",
       "31   25.0          4         113.0        95.0  2228.0          14.0   \n",
       "52   31.0          4          71.0        65.0  1773.0          19.0   \n",
       "53   35.0          4          72.0        69.0  1613.0          18.0   \n",
       "56   24.0          4         113.0        95.0  2278.0          15.5   \n",
       "70   19.0          3          70.0        97.0  2330.0          13.5   \n",
       "80   28.0          4          97.0        92.0  2288.0          17.0   \n",
       "81   23.0          4         120.0        97.0  2506.0          14.5   \n",
       "83   27.0          4          97.0        88.0  2100.0          16.5   \n",
       "107  20.0          4          97.0        88.0  2279.0          19.0   \n",
       "109  22.0          4         108.0        94.0  2379.0          16.5   \n",
       "110  18.0          3          70.0        90.0  2124.0          13.5   \n",
       "122  20.0          6         156.0       122.0  2807.0          13.5   \n",
       "\n",
       "     model_year  origin                       car_name  \n",
       "14           70       3        \"toyota corona mark ii\"  \n",
       "18           70       3                 \"datsun pl510\"  \n",
       "29           71       3                 \"datsun pl510\"  \n",
       "31           71       3                \"toyota corona\"  \n",
       "52           71       3          \"toyota corolla 1200\"  \n",
       "53           71       3                  \"datsun 1200\"  \n",
       "56           72       3        \"toyota corona hardtop\"  \n",
       "70           72       3              \"mazda rx2 coupe\"  \n",
       "80           72       3              \"datsun 510 (sw)\"  \n",
       "81           72       3  \"toyouta corona mark ii (sw)\"  \n",
       "83           72       3     \"toyota corolla 1600 (sw)\"  \n",
       "107          73       3                \"toyota carina\"  \n",
       "109          73       3                   \"datsun 610\"  \n",
       "110          73       3                    \"maxda rx3\"  \n",
       "122          73       3               \"toyota mark ii\"  "
      ]
     },
     "execution_count": 30,
     "metadata": {},
     "output_type": "execute_result"
    }
   ],
   "source": [
    "df_1[df_1['origin']==3].head(15)"
   ]
  },
  {
   "cell_type": "markdown",
   "metadata": {},
   "source": [
    "Based on the data above:\n",
    "\n",
    "Region 1 is USA\n",
    "\n",
    "Region 2 is Europe\n",
    "\n",
    "Region 3 is Japan"
   ]
  },
  {
   "cell_type": "markdown",
   "metadata": {},
   "source": [
    "62.5 % of the data is from region 1 whereas the rest is distributed between regions 2 and 3."
   ]
  },
  {
   "cell_type": "markdown",
   "metadata": {},
   "source": [
    "<a id=\"car_name\"></a>\n",
    "## Car Name\n",
    "\n",
    "Car Name is the name of the car. \n",
    "\n",
    "This is a categorical variable.\n",
    "\n",
    "Although performing an EDA on this variable as is may be fruitless, we can extract the manufacturers from the name and perform an EDA on the amnufacturers.\n"
   ]
  },
  {
   "cell_type": "code",
   "execution_count": 31,
   "metadata": {},
   "outputs": [
    {
     "data": {
      "text/html": [
       "<div>\n",
       "<style scoped>\n",
       "    .dataframe tbody tr th:only-of-type {\n",
       "        vertical-align: middle;\n",
       "    }\n",
       "\n",
       "    .dataframe tbody tr th {\n",
       "        vertical-align: top;\n",
       "    }\n",
       "\n",
       "    .dataframe thead th {\n",
       "        text-align: right;\n",
       "    }\n",
       "</style>\n",
       "<table border=\"1\" class=\"dataframe\">\n",
       "  <thead>\n",
       "    <tr style=\"text-align: right;\">\n",
       "      <th></th>\n",
       "      <th>mpg</th>\n",
       "      <th>cylinders</th>\n",
       "      <th>displacement</th>\n",
       "      <th>horsepower</th>\n",
       "      <th>weight</th>\n",
       "      <th>acceleration</th>\n",
       "      <th>model_year</th>\n",
       "      <th>origin</th>\n",
       "      <th>car_name</th>\n",
       "      <th>manufacturer</th>\n",
       "    </tr>\n",
       "  </thead>\n",
       "  <tbody>\n",
       "    <tr>\n",
       "      <th>0</th>\n",
       "      <td>18.0</td>\n",
       "      <td>8</td>\n",
       "      <td>307.0</td>\n",
       "      <td>130.0</td>\n",
       "      <td>3504.0</td>\n",
       "      <td>12.0</td>\n",
       "      <td>70</td>\n",
       "      <td>1</td>\n",
       "      <td>\"chevrolet chevelle malibu\"</td>\n",
       "      <td>chevrolet</td>\n",
       "    </tr>\n",
       "    <tr>\n",
       "      <th>1</th>\n",
       "      <td>15.0</td>\n",
       "      <td>8</td>\n",
       "      <td>350.0</td>\n",
       "      <td>165.0</td>\n",
       "      <td>3693.0</td>\n",
       "      <td>11.5</td>\n",
       "      <td>70</td>\n",
       "      <td>1</td>\n",
       "      <td>\"buick skylark 320\"</td>\n",
       "      <td>buick</td>\n",
       "    </tr>\n",
       "    <tr>\n",
       "      <th>2</th>\n",
       "      <td>18.0</td>\n",
       "      <td>8</td>\n",
       "      <td>318.0</td>\n",
       "      <td>150.0</td>\n",
       "      <td>3436.0</td>\n",
       "      <td>11.0</td>\n",
       "      <td>70</td>\n",
       "      <td>1</td>\n",
       "      <td>\"plymouth satellite\"</td>\n",
       "      <td>plymouth</td>\n",
       "    </tr>\n",
       "    <tr>\n",
       "      <th>3</th>\n",
       "      <td>16.0</td>\n",
       "      <td>8</td>\n",
       "      <td>304.0</td>\n",
       "      <td>150.0</td>\n",
       "      <td>3433.0</td>\n",
       "      <td>12.0</td>\n",
       "      <td>70</td>\n",
       "      <td>1</td>\n",
       "      <td>\"amc rebel sst\"</td>\n",
       "      <td>amc</td>\n",
       "    </tr>\n",
       "    <tr>\n",
       "      <th>4</th>\n",
       "      <td>17.0</td>\n",
       "      <td>8</td>\n",
       "      <td>302.0</td>\n",
       "      <td>140.0</td>\n",
       "      <td>3449.0</td>\n",
       "      <td>10.5</td>\n",
       "      <td>70</td>\n",
       "      <td>1</td>\n",
       "      <td>\"ford torino\"</td>\n",
       "      <td>ford</td>\n",
       "    </tr>\n",
       "  </tbody>\n",
       "</table>\n",
       "</div>"
      ],
      "text/plain": [
       "    mpg  cylinders  displacement  horsepower  weight  acceleration  \\\n",
       "0  18.0          8         307.0       130.0  3504.0          12.0   \n",
       "1  15.0          8         350.0       165.0  3693.0          11.5   \n",
       "2  18.0          8         318.0       150.0  3436.0          11.0   \n",
       "3  16.0          8         304.0       150.0  3433.0          12.0   \n",
       "4  17.0          8         302.0       140.0  3449.0          10.5   \n",
       "\n",
       "   model_year  origin                     car_name manufacturer  \n",
       "0          70       1  \"chevrolet chevelle malibu\"    chevrolet  \n",
       "1          70       1          \"buick skylark 320\"        buick  \n",
       "2          70       1         \"plymouth satellite\"     plymouth  \n",
       "3          70       1              \"amc rebel sst\"          amc  \n",
       "4          70       1                \"ford torino\"         ford  "
      ]
     },
     "execution_count": 31,
     "metadata": {},
     "output_type": "execute_result"
    }
   ],
   "source": [
    "df_1['manufacturer']=df_1['car_name'].apply(lambda x: x.split(' ')[0])\n",
    "df_1['manufacturer']=df_1['manufacturer'].apply(lambda x: x.replace('\"',''))\n",
    "df_1.head()"
   ]
  },
  {
   "cell_type": "code",
   "execution_count": 32,
   "metadata": {},
   "outputs": [
    {
     "data": {
      "text/plain": [
       "ford             0.122449\n",
       "chevrolet        0.109694\n",
       "plymouth         0.079082\n",
       "dodge            0.071429\n",
       "amc              0.068878\n",
       "toyota           0.063776\n",
       "datsun           0.058673\n",
       "buick            0.043367\n",
       "pontiac          0.040816\n",
       "volkswagen       0.038265\n",
       "honda            0.033163\n",
       "mercury          0.028061\n",
       "mazda            0.025510\n",
       "oldsmobile       0.025510\n",
       "peugeot          0.020408\n",
       "fiat             0.020408\n",
       "audi             0.017857\n",
       "vw               0.015306\n",
       "chrysler         0.015306\n",
       "volvo            0.015306\n",
       "opel             0.010204\n",
       "subaru           0.010204\n",
       "saab             0.010204\n",
       "chevy            0.007653\n",
       "renault          0.007653\n",
       "maxda            0.005102\n",
       "cadillac         0.005102\n",
       "mercedes-benz    0.005102\n",
       "bmw              0.005102\n",
       "triumph          0.002551\n",
       "capri            0.002551\n",
       "nissan           0.002551\n",
       "mercedes         0.002551\n",
       "chevroelt        0.002551\n",
       "vokswagen        0.002551\n",
       "hi               0.002551\n",
       "toyouta          0.002551\n",
       "Name: manufacturer, dtype: float64"
      ]
     },
     "execution_count": 32,
     "metadata": {},
     "output_type": "execute_result"
    }
   ],
   "source": [
    "df_1.manufacturer.value_counts(normalize=True,sort=True)"
   ]
  },
  {
   "cell_type": "markdown",
   "metadata": {},
   "source": [
    "Splitting the data by region:"
   ]
  },
  {
   "cell_type": "code",
   "execution_count": 33,
   "metadata": {},
   "outputs": [
    {
     "data": {
      "text/html": [
       "<div>\n",
       "<style scoped>\n",
       "    .dataframe tbody tr th:only-of-type {\n",
       "        vertical-align: middle;\n",
       "    }\n",
       "\n",
       "    .dataframe tbody tr th {\n",
       "        vertical-align: top;\n",
       "    }\n",
       "\n",
       "    .dataframe thead th {\n",
       "        text-align: right;\n",
       "    }\n",
       "</style>\n",
       "<table border=\"1\" class=\"dataframe\">\n",
       "  <thead>\n",
       "    <tr style=\"text-align: right;\">\n",
       "      <th></th>\n",
       "      <th>mpg</th>\n",
       "      <th>cylinders</th>\n",
       "      <th>displacement</th>\n",
       "      <th>horsepower</th>\n",
       "      <th>weight</th>\n",
       "      <th>acceleration</th>\n",
       "      <th>model_year</th>\n",
       "      <th>origin</th>\n",
       "      <th>car_name</th>\n",
       "      <th>manufacturer</th>\n",
       "    </tr>\n",
       "  </thead>\n",
       "  <tbody>\n",
       "    <tr>\n",
       "      <th>0</th>\n",
       "      <td>18.0</td>\n",
       "      <td>8</td>\n",
       "      <td>307.0</td>\n",
       "      <td>130.0</td>\n",
       "      <td>3504.0</td>\n",
       "      <td>12.0</td>\n",
       "      <td>70</td>\n",
       "      <td>1</td>\n",
       "      <td>\"chevrolet chevelle malibu\"</td>\n",
       "      <td>chevrolet</td>\n",
       "    </tr>\n",
       "    <tr>\n",
       "      <th>1</th>\n",
       "      <td>15.0</td>\n",
       "      <td>8</td>\n",
       "      <td>350.0</td>\n",
       "      <td>165.0</td>\n",
       "      <td>3693.0</td>\n",
       "      <td>11.5</td>\n",
       "      <td>70</td>\n",
       "      <td>1</td>\n",
       "      <td>\"buick skylark 320\"</td>\n",
       "      <td>buick</td>\n",
       "    </tr>\n",
       "    <tr>\n",
       "      <th>2</th>\n",
       "      <td>18.0</td>\n",
       "      <td>8</td>\n",
       "      <td>318.0</td>\n",
       "      <td>150.0</td>\n",
       "      <td>3436.0</td>\n",
       "      <td>11.0</td>\n",
       "      <td>70</td>\n",
       "      <td>1</td>\n",
       "      <td>\"plymouth satellite\"</td>\n",
       "      <td>plymouth</td>\n",
       "    </tr>\n",
       "    <tr>\n",
       "      <th>3</th>\n",
       "      <td>16.0</td>\n",
       "      <td>8</td>\n",
       "      <td>304.0</td>\n",
       "      <td>150.0</td>\n",
       "      <td>3433.0</td>\n",
       "      <td>12.0</td>\n",
       "      <td>70</td>\n",
       "      <td>1</td>\n",
       "      <td>\"amc rebel sst\"</td>\n",
       "      <td>amc</td>\n",
       "    </tr>\n",
       "    <tr>\n",
       "      <th>4</th>\n",
       "      <td>17.0</td>\n",
       "      <td>8</td>\n",
       "      <td>302.0</td>\n",
       "      <td>140.0</td>\n",
       "      <td>3449.0</td>\n",
       "      <td>10.5</td>\n",
       "      <td>70</td>\n",
       "      <td>1</td>\n",
       "      <td>\"ford torino\"</td>\n",
       "      <td>ford</td>\n",
       "    </tr>\n",
       "  </tbody>\n",
       "</table>\n",
       "</div>"
      ],
      "text/plain": [
       "    mpg  cylinders  displacement  horsepower  weight  acceleration  \\\n",
       "0  18.0          8         307.0       130.0  3504.0          12.0   \n",
       "1  15.0          8         350.0       165.0  3693.0          11.5   \n",
       "2  18.0          8         318.0       150.0  3436.0          11.0   \n",
       "3  16.0          8         304.0       150.0  3433.0          12.0   \n",
       "4  17.0          8         302.0       140.0  3449.0          10.5   \n",
       "\n",
       "   model_year  origin                     car_name manufacturer  \n",
       "0          70       1  \"chevrolet chevelle malibu\"    chevrolet  \n",
       "1          70       1          \"buick skylark 320\"        buick  \n",
       "2          70       1         \"plymouth satellite\"     plymouth  \n",
       "3          70       1              \"amc rebel sst\"          amc  \n",
       "4          70       1                \"ford torino\"         ford  "
      ]
     },
     "execution_count": 33,
     "metadata": {},
     "output_type": "execute_result"
    }
   ],
   "source": [
    "df_reg1=df_1[df_1['origin']==1].reset_index(drop=True)\n",
    "df_reg1.head()"
   ]
  },
  {
   "cell_type": "code",
   "execution_count": 34,
   "metadata": {},
   "outputs": [
    {
     "data": {
      "text/plain": [
       "ford          0.195918\n",
       "chevrolet     0.175510\n",
       "plymouth      0.126531\n",
       "dodge         0.114286\n",
       "amc           0.110204\n",
       "buick         0.069388\n",
       "pontiac       0.065306\n",
       "mercury       0.044898\n",
       "oldsmobile    0.040816\n",
       "chrysler      0.024490\n",
       "chevy         0.012245\n",
       "cadillac      0.008163\n",
       "chevroelt     0.004082\n",
       "capri         0.004082\n",
       "hi            0.004082\n",
       "Name: manufacturer, dtype: float64"
      ]
     },
     "execution_count": 34,
     "metadata": {},
     "output_type": "execute_result"
    }
   ],
   "source": [
    "df_reg1.manufacturer.value_counts(normalize=True,sort=True)"
   ]
  },
  {
   "cell_type": "markdown",
   "metadata": {},
   "source": [
    "Ford and Capri are the same manufacturer.\n",
    "\n",
    "Chevrolet, Chevy, and Chevroelt are the same."
   ]
  },
  {
   "cell_type": "code",
   "execution_count": 35,
   "metadata": {},
   "outputs": [],
   "source": [
    "for index,row in df_1.iterrows():\n",
    "    if (df_1.iloc[index,9]=='capri'):\n",
    "        df_1.iloc[index,9]='ford'\n",
    "    elif(df_1.iloc[index,9]=='chevy'):\n",
    "        df_1.iloc[index,9]='chevrolet'\n",
    "    elif(df_1.iloc[index,9]=='chevroelt'):\n",
    "        df_1.iloc[index,9]='chevrolet'"
   ]
  },
  {
   "cell_type": "code",
   "execution_count": 36,
   "metadata": {},
   "outputs": [
    {
     "data": {
      "text/html": [
       "<div>\n",
       "<style scoped>\n",
       "    .dataframe tbody tr th:only-of-type {\n",
       "        vertical-align: middle;\n",
       "    }\n",
       "\n",
       "    .dataframe tbody tr th {\n",
       "        vertical-align: top;\n",
       "    }\n",
       "\n",
       "    .dataframe thead th {\n",
       "        text-align: right;\n",
       "    }\n",
       "</style>\n",
       "<table border=\"1\" class=\"dataframe\">\n",
       "  <thead>\n",
       "    <tr style=\"text-align: right;\">\n",
       "      <th></th>\n",
       "      <th>mpg</th>\n",
       "      <th>cylinders</th>\n",
       "      <th>displacement</th>\n",
       "      <th>horsepower</th>\n",
       "      <th>weight</th>\n",
       "      <th>acceleration</th>\n",
       "      <th>model_year</th>\n",
       "      <th>origin</th>\n",
       "      <th>car_name</th>\n",
       "      <th>manufacturer</th>\n",
       "    </tr>\n",
       "  </thead>\n",
       "  <tbody>\n",
       "    <tr>\n",
       "      <th>0</th>\n",
       "      <td>18.0</td>\n",
       "      <td>8</td>\n",
       "      <td>307.0</td>\n",
       "      <td>130.0</td>\n",
       "      <td>3504.0</td>\n",
       "      <td>12.0</td>\n",
       "      <td>70</td>\n",
       "      <td>1</td>\n",
       "      <td>\"chevrolet chevelle malibu\"</td>\n",
       "      <td>chevrolet</td>\n",
       "    </tr>\n",
       "    <tr>\n",
       "      <th>1</th>\n",
       "      <td>15.0</td>\n",
       "      <td>8</td>\n",
       "      <td>350.0</td>\n",
       "      <td>165.0</td>\n",
       "      <td>3693.0</td>\n",
       "      <td>11.5</td>\n",
       "      <td>70</td>\n",
       "      <td>1</td>\n",
       "      <td>\"buick skylark 320\"</td>\n",
       "      <td>buick</td>\n",
       "    </tr>\n",
       "    <tr>\n",
       "      <th>2</th>\n",
       "      <td>18.0</td>\n",
       "      <td>8</td>\n",
       "      <td>318.0</td>\n",
       "      <td>150.0</td>\n",
       "      <td>3436.0</td>\n",
       "      <td>11.0</td>\n",
       "      <td>70</td>\n",
       "      <td>1</td>\n",
       "      <td>\"plymouth satellite\"</td>\n",
       "      <td>plymouth</td>\n",
       "    </tr>\n",
       "    <tr>\n",
       "      <th>3</th>\n",
       "      <td>16.0</td>\n",
       "      <td>8</td>\n",
       "      <td>304.0</td>\n",
       "      <td>150.0</td>\n",
       "      <td>3433.0</td>\n",
       "      <td>12.0</td>\n",
       "      <td>70</td>\n",
       "      <td>1</td>\n",
       "      <td>\"amc rebel sst\"</td>\n",
       "      <td>amc</td>\n",
       "    </tr>\n",
       "    <tr>\n",
       "      <th>4</th>\n",
       "      <td>17.0</td>\n",
       "      <td>8</td>\n",
       "      <td>302.0</td>\n",
       "      <td>140.0</td>\n",
       "      <td>3449.0</td>\n",
       "      <td>10.5</td>\n",
       "      <td>70</td>\n",
       "      <td>1</td>\n",
       "      <td>\"ford torino\"</td>\n",
       "      <td>ford</td>\n",
       "    </tr>\n",
       "  </tbody>\n",
       "</table>\n",
       "</div>"
      ],
      "text/plain": [
       "    mpg  cylinders  displacement  horsepower  weight  acceleration  \\\n",
       "0  18.0          8         307.0       130.0  3504.0          12.0   \n",
       "1  15.0          8         350.0       165.0  3693.0          11.5   \n",
       "2  18.0          8         318.0       150.0  3436.0          11.0   \n",
       "3  16.0          8         304.0       150.0  3433.0          12.0   \n",
       "4  17.0          8         302.0       140.0  3449.0          10.5   \n",
       "\n",
       "   model_year  origin                     car_name manufacturer  \n",
       "0          70       1  \"chevrolet chevelle malibu\"    chevrolet  \n",
       "1          70       1          \"buick skylark 320\"        buick  \n",
       "2          70       1         \"plymouth satellite\"     plymouth  \n",
       "3          70       1              \"amc rebel sst\"          amc  \n",
       "4          70       1                \"ford torino\"         ford  "
      ]
     },
     "execution_count": 36,
     "metadata": {},
     "output_type": "execute_result"
    }
   ],
   "source": [
    "df_reg1=df_1[df_1['origin']==1].reset_index(drop=True)\n",
    "df_reg1.head()"
   ]
  },
  {
   "cell_type": "code",
   "execution_count": 37,
   "metadata": {},
   "outputs": [
    {
     "data": {
      "text/plain": [
       "ford          0.200000\n",
       "chevrolet     0.191837\n",
       "plymouth      0.126531\n",
       "dodge         0.114286\n",
       "amc           0.110204\n",
       "buick         0.069388\n",
       "pontiac       0.065306\n",
       "mercury       0.044898\n",
       "oldsmobile    0.040816\n",
       "chrysler      0.024490\n",
       "cadillac      0.008163\n",
       "hi            0.004082\n",
       "Name: manufacturer, dtype: float64"
      ]
     },
     "execution_count": 37,
     "metadata": {},
     "output_type": "execute_result"
    }
   ],
   "source": [
    "df_reg1.manufacturer.value_counts(normalize=True,sort=True)"
   ]
  },
  {
   "cell_type": "markdown",
   "metadata": {},
   "source": [
    "Ford and Chevrolet are the leading manufacturers in region 1, whereas Cadillac and HI (International Harvesters) as per the dataset are the lowest producing manufactuers as per the dataset.\n",
    "\n",
    "Moving on to region 2 (Europe):"
   ]
  },
  {
   "cell_type": "code",
   "execution_count": 38,
   "metadata": {},
   "outputs": [
    {
     "data": {
      "text/html": [
       "<div>\n",
       "<style scoped>\n",
       "    .dataframe tbody tr th:only-of-type {\n",
       "        vertical-align: middle;\n",
       "    }\n",
       "\n",
       "    .dataframe tbody tr th {\n",
       "        vertical-align: top;\n",
       "    }\n",
       "\n",
       "    .dataframe thead th {\n",
       "        text-align: right;\n",
       "    }\n",
       "</style>\n",
       "<table border=\"1\" class=\"dataframe\">\n",
       "  <thead>\n",
       "    <tr style=\"text-align: right;\">\n",
       "      <th></th>\n",
       "      <th>mpg</th>\n",
       "      <th>cylinders</th>\n",
       "      <th>displacement</th>\n",
       "      <th>horsepower</th>\n",
       "      <th>weight</th>\n",
       "      <th>acceleration</th>\n",
       "      <th>model_year</th>\n",
       "      <th>origin</th>\n",
       "      <th>car_name</th>\n",
       "      <th>manufacturer</th>\n",
       "    </tr>\n",
       "  </thead>\n",
       "  <tbody>\n",
       "    <tr>\n",
       "      <th>0</th>\n",
       "      <td>26.0</td>\n",
       "      <td>4</td>\n",
       "      <td>97.0</td>\n",
       "      <td>46.0</td>\n",
       "      <td>1835.0</td>\n",
       "      <td>20.5</td>\n",
       "      <td>70</td>\n",
       "      <td>2</td>\n",
       "      <td>\"volkswagen 1131 deluxe sedan\"</td>\n",
       "      <td>volkswagen</td>\n",
       "    </tr>\n",
       "    <tr>\n",
       "      <th>1</th>\n",
       "      <td>25.0</td>\n",
       "      <td>4</td>\n",
       "      <td>110.0</td>\n",
       "      <td>87.0</td>\n",
       "      <td>2672.0</td>\n",
       "      <td>17.5</td>\n",
       "      <td>70</td>\n",
       "      <td>2</td>\n",
       "      <td>\"peugeot 504\"</td>\n",
       "      <td>peugeot</td>\n",
       "    </tr>\n",
       "    <tr>\n",
       "      <th>2</th>\n",
       "      <td>24.0</td>\n",
       "      <td>4</td>\n",
       "      <td>107.0</td>\n",
       "      <td>90.0</td>\n",
       "      <td>2430.0</td>\n",
       "      <td>14.5</td>\n",
       "      <td>70</td>\n",
       "      <td>2</td>\n",
       "      <td>\"audi 100 ls\"</td>\n",
       "      <td>audi</td>\n",
       "    </tr>\n",
       "    <tr>\n",
       "      <th>3</th>\n",
       "      <td>25.0</td>\n",
       "      <td>4</td>\n",
       "      <td>104.0</td>\n",
       "      <td>95.0</td>\n",
       "      <td>2375.0</td>\n",
       "      <td>17.5</td>\n",
       "      <td>70</td>\n",
       "      <td>2</td>\n",
       "      <td>\"saab 99e\"</td>\n",
       "      <td>saab</td>\n",
       "    </tr>\n",
       "    <tr>\n",
       "      <th>4</th>\n",
       "      <td>26.0</td>\n",
       "      <td>4</td>\n",
       "      <td>121.0</td>\n",
       "      <td>113.0</td>\n",
       "      <td>2234.0</td>\n",
       "      <td>12.5</td>\n",
       "      <td>70</td>\n",
       "      <td>2</td>\n",
       "      <td>\"bmw 2002\"</td>\n",
       "      <td>bmw</td>\n",
       "    </tr>\n",
       "  </tbody>\n",
       "</table>\n",
       "</div>"
      ],
      "text/plain": [
       "    mpg  cylinders  displacement  horsepower  weight  acceleration  \\\n",
       "0  26.0          4          97.0        46.0  1835.0          20.5   \n",
       "1  25.0          4         110.0        87.0  2672.0          17.5   \n",
       "2  24.0          4         107.0        90.0  2430.0          14.5   \n",
       "3  25.0          4         104.0        95.0  2375.0          17.5   \n",
       "4  26.0          4         121.0       113.0  2234.0          12.5   \n",
       "\n",
       "   model_year  origin                        car_name manufacturer  \n",
       "0          70       2  \"volkswagen 1131 deluxe sedan\"   volkswagen  \n",
       "1          70       2                   \"peugeot 504\"      peugeot  \n",
       "2          70       2                   \"audi 100 ls\"         audi  \n",
       "3          70       2                      \"saab 99e\"         saab  \n",
       "4          70       2                      \"bmw 2002\"          bmw  "
      ]
     },
     "execution_count": 38,
     "metadata": {},
     "output_type": "execute_result"
    }
   ],
   "source": [
    "df_reg2=df_1[df_1['origin']==2].reset_index(drop=True)\n",
    "df_reg2.head()"
   ]
  },
  {
   "cell_type": "code",
   "execution_count": 39,
   "metadata": {},
   "outputs": [
    {
     "data": {
      "text/plain": [
       "volkswagen       0.220588\n",
       "peugeot          0.117647\n",
       "fiat             0.117647\n",
       "audi             0.102941\n",
       "vw               0.088235\n",
       "volvo            0.088235\n",
       "opel             0.058824\n",
       "saab             0.058824\n",
       "renault          0.044118\n",
       "bmw              0.029412\n",
       "mercedes-benz    0.029412\n",
       "vokswagen        0.014706\n",
       "triumph          0.014706\n",
       "mercedes         0.014706\n",
       "Name: manufacturer, dtype: float64"
      ]
     },
     "execution_count": 39,
     "metadata": {},
     "output_type": "execute_result"
    }
   ],
   "source": [
    "df_reg2.manufacturer.value_counts(normalize=True,sort=True)"
   ]
  },
  {
   "cell_type": "markdown",
   "metadata": {},
   "source": [
    "volkswagen, vw, and vokswagen are the same manufacturer.\n",
    "\n",
    "mercedes-benz and mercedes are the same manufacturer.\n"
   ]
  },
  {
   "cell_type": "code",
   "execution_count": 40,
   "metadata": {},
   "outputs": [],
   "source": [
    "for index,row in df_1.iterrows():\n",
    "    if (df_1.iloc[index,9]=='vw'):\n",
    "        df_1.iloc[index,9]='volkswagen'\n",
    "    elif(df_1.iloc[index,9]=='vokswagen'):\n",
    "        df_1.iloc[index,9]='volkswagen'\n",
    "    elif(df_1.iloc[index,9]=='mercedes'):\n",
    "        df_1.iloc[index,9]='mercedes-benz'"
   ]
  },
  {
   "cell_type": "code",
   "execution_count": 41,
   "metadata": {},
   "outputs": [],
   "source": [
    "df_reg2=df_1[df_1['origin']==2].reset_index(drop=True)"
   ]
  },
  {
   "cell_type": "code",
   "execution_count": 42,
   "metadata": {},
   "outputs": [
    {
     "data": {
      "text/plain": [
       "volkswagen       0.323529\n",
       "peugeot          0.117647\n",
       "fiat             0.117647\n",
       "audi             0.102941\n",
       "volvo            0.088235\n",
       "opel             0.058824\n",
       "saab             0.058824\n",
       "renault          0.044118\n",
       "mercedes-benz    0.044118\n",
       "bmw              0.029412\n",
       "triumph          0.014706\n",
       "Name: manufacturer, dtype: float64"
      ]
     },
     "execution_count": 42,
     "metadata": {},
     "output_type": "execute_result"
    }
   ],
   "source": [
    "df_reg2.manufacturer.value_counts(normalize=True,sort=True)"
   ]
  },
  {
   "cell_type": "markdown",
   "metadata": {},
   "source": [
    "Volkswagen is the leading manufacturer in region 2 (Europe) with 32% .\n",
    "\n",
    "Triumph manufactured the least cars as per the dataset with 1.5%.\n",
    "\n",
    "Moving on to region 3 (Japan):"
   ]
  },
  {
   "cell_type": "code",
   "execution_count": 43,
   "metadata": {},
   "outputs": [],
   "source": [
    "df_reg3=df_1[df_1['origin']==3].reset_index(drop=True)"
   ]
  },
  {
   "cell_type": "code",
   "execution_count": 44,
   "metadata": {},
   "outputs": [
    {
     "data": {
      "text/plain": [
       "toyota     0.316456\n",
       "datsun     0.291139\n",
       "honda      0.164557\n",
       "mazda      0.126582\n",
       "subaru     0.050633\n",
       "maxda      0.025316\n",
       "toyouta    0.012658\n",
       "nissan     0.012658\n",
       "Name: manufacturer, dtype: float64"
      ]
     },
     "execution_count": 44,
     "metadata": {},
     "output_type": "execute_result"
    }
   ],
   "source": [
    "df_reg3.manufacturer.value_counts(normalize=True,sort=True)"
   ]
  },
  {
   "cell_type": "markdown",
   "metadata": {},
   "source": [
    "toyota and toyouta are the same.\n",
    "\n",
    "mazda and maxda are the same."
   ]
  },
  {
   "cell_type": "code",
   "execution_count": 45,
   "metadata": {},
   "outputs": [],
   "source": [
    "for index,row in df_1.iterrows():\n",
    "    if (df_1.iloc[index,9]=='toyouta'):\n",
    "        df_1.iloc[index,9]='toyota'\n",
    "    elif(df_1.iloc[index,9]=='maxda'):\n",
    "        df_1.iloc[index,9]='mazda'"
   ]
  },
  {
   "cell_type": "code",
   "execution_count": 46,
   "metadata": {},
   "outputs": [],
   "source": [
    "df_reg3=df_1[df_1['origin']==3].reset_index(drop=True)"
   ]
  },
  {
   "cell_type": "code",
   "execution_count": 47,
   "metadata": {},
   "outputs": [
    {
     "data": {
      "text/plain": [
       "toyota    0.329114\n",
       "datsun    0.291139\n",
       "honda     0.164557\n",
       "mazda     0.151899\n",
       "subaru    0.050633\n",
       "nissan    0.012658\n",
       "Name: manufacturer, dtype: float64"
      ]
     },
     "execution_count": 47,
     "metadata": {},
     "output_type": "execute_result"
    }
   ],
   "source": [
    "df_reg3.manufacturer.value_counts(normalize=True,sort=True)"
   ]
  },
  {
   "cell_type": "markdown",
   "metadata": {},
   "source": [
    "Toyota was the leading manufacturer in region 3 (Japan) with around 33% of cars manufactured as per this dataset."
   ]
  },
  {
   "cell_type": "markdown",
   "metadata": {},
   "source": [
    "## MPG v. ?\n",
    "\n",
    "As we have  seen, the mpg data has an irregular distribution. Generally, such distributions result from a mixture of processes that are creating distinct subgroups or populations in the data. The question is whether we can identify those subgroups using the data we have:\n",
    "\n",
    "* [cylinders](#v_cylinders)\n",
    "* [displacement](#v_displacement)\n",
    "* [horsepower](#v_horsepower)\n",
    "* [weight](#v_weight)\n",
    "* [acceleration](#v_acceleration)\n",
    "* [model_year](#v_model_year)\n",
    "* [origin](#v_origin)\n",
    "\n",
    "\n"
   ]
  },
  {
   "cell_type": "markdown",
   "metadata": {},
   "source": [
    "<a id=\"v_cylinders\"></a>\n",
    "\n",
    "## MPG v. Cylinders\n",
    "\n",
    "Cylinders seems like it could be at least one explanatory variable for the different levels of mpg. Engines with more cylinders would tend to require more energy.Let's look first at correlation coefficients even though the relationship may not be linear or monotonic."
   ]
  },
  {
   "cell_type": "code",
   "execution_count": 48,
   "metadata": {},
   "outputs": [
    {
     "name": "stdout",
     "output_type": "stream",
     "text": [
      "r   =  -0.7776175081260226\n",
      "rho =  -0.8231746391245732\n"
     ]
    }
   ],
   "source": [
    "print(\"r   = \", stats.pearsonr( df_1.mpg, df_1.cylinders)[0])\n",
    "print(\"rho = \", stats.spearmanr( df_1.mpg, df_1.cylinders)[0])"
   ]
  },
  {
   "cell_type": "markdown",
   "metadata": {},
   "source": [
    "Pearson's correlation coefficient, $r$, is -0.77 which indicates a fairly strong negative relationship. Spearman's is at -0.82 which indicates a strong monotonic relationship. \n",
    "\n",
    "Let's take a look at the descriptive statistics:"
   ]
  },
  {
   "cell_type": "code",
   "execution_count": 49,
   "metadata": {},
   "outputs": [],
   "source": [
    "def describe_by_category(data, numeric, categorical):\n",
    "    grouped = data.groupby(categorical)\n",
    "    grouped_y = grouped[numeric].describe()\n",
    "    print(grouped_y)"
   ]
  },
  {
   "cell_type": "code",
   "execution_count": 50,
   "metadata": {},
   "outputs": [
    {
     "name": "stdout",
     "output_type": "stream",
     "text": [
      "           count       mean       std   min    25%    50%    75%   max\n",
      "cylinders                                                             \n",
      "3            4.0  20.550000  2.564501  18.0  18.75  20.25  22.05  23.7\n",
      "4          199.0  29.283920  5.670546  18.0  25.00  28.40  32.95  46.6\n",
      "5            3.0  27.366667  8.228204  20.3  22.85  25.40  30.90  36.4\n",
      "6           83.0  19.973494  3.828809  15.0  18.00  19.00  21.00  38.0\n",
      "8          103.0  14.963107  2.836284   9.0  13.00  14.00  16.00  26.6\n"
     ]
    }
   ],
   "source": [
    "describe_by_category(df_1, \"mpg\", \"cylinders\")"
   ]
  },
  {
   "cell_type": "markdown",
   "metadata": {},
   "source": [
    "As per the descriptive statistics, the higher the cylinders, the lower the mpg which is explained by the negative correlative coefficients previously generated.\n",
    "\n",
    "It is important to note that cylinders 3 and 5 consist of a very small quantity of the data, this may slightly temper with our correlative analysis.\n",
    "\n",
    "We will omit these data points before we proceed:"
   ]
  },
  {
   "cell_type": "code",
   "execution_count": 51,
   "metadata": {},
   "outputs": [],
   "source": [
    "df_2=df_1[(df_1['cylinders']!=3)&(df_1['cylinders']!=5)].reset_index(drop=True)"
   ]
  },
  {
   "cell_type": "markdown",
   "metadata": {},
   "source": [
    "Regenerating the descriptive statistics:"
   ]
  },
  {
   "cell_type": "code",
   "execution_count": 52,
   "metadata": {},
   "outputs": [
    {
     "name": "stdout",
     "output_type": "stream",
     "text": [
      "           count       mean       std   min   25%   50%    75%   max\n",
      "cylinders                                                           \n",
      "4          199.0  29.283920  5.670546  18.0  25.0  28.4  32.95  46.6\n",
      "6           83.0  19.973494  3.828809  15.0  18.0  19.0  21.00  38.0\n",
      "8          103.0  14.963107  2.836284   9.0  13.0  14.0  16.00  26.6\n"
     ]
    }
   ],
   "source": [
    "describe_by_category(df_2, \"mpg\", \"cylinders\")"
   ]
  },
  {
   "cell_type": "markdown",
   "metadata": {},
   "source": [
    "Plotting the relationship on a multibox plot:"
   ]
  },
  {
   "cell_type": "code",
   "execution_count": 53,
   "metadata": {},
   "outputs": [],
   "source": [
    "def restyle_boxplot(patch):\n",
    "    # change color and linewidth of the whiskers\n",
    "    for whisker in patch['whiskers']:\n",
    "        whisker.set(color='#000000', linewidth=1)\n",
    "\n",
    "    # change color and linewidth of the caps\n",
    "    for cap in patch['caps']:\n",
    "        cap.set(color='#000000', linewidth=1)\n",
    "\n",
    "    # change color and linewidth of the medians\n",
    "    for median in patch['medians']:\n",
    "        median.set(color='#000000', linewidth=2)\n",
    "\n",
    "    # change the style of fliers and their fill\n",
    "    for flier in patch['fliers']:\n",
    "        flier.set(marker='o', color='#000000', alpha=0.2)\n",
    "\n",
    "    for box in patch[\"boxes\"]:\n",
    "        box.set(facecolor='#FFFFFF', alpha=0.5)\n"
   ]
  },
  {
   "cell_type": "code",
   "execution_count": 54,
   "metadata": {},
   "outputs": [],
   "source": [
    "def multiboxplot(data, numeric, categorical, skip_data_points=True):\n",
    "    figure = plt.figure(figsize=(10, 6))\n",
    "\n",
    "    axes = figure.add_subplot(1, 1, 1)\n",
    "\n",
    "    grouped = data.groupby(categorical)\n",
    "    labels = pd.unique(data[categorical].values)\n",
    "    labels.sort()\n",
    "    grouped_data = [grouped[numeric].get_group( k) for k in labels]\n",
    "    patch = axes.boxplot( grouped_data, labels=labels, patch_artist=True, zorder=1)\n",
    "    restyle_boxplot( patch)\n",
    "\n",
    "    if not skip_data_points:\n",
    "        for i, k in enumerate(labels):\n",
    "            subdata = grouped[numeric].get_group( k)\n",
    "            x = np.random.normal(i + 1, 0.01, size=len(subdata))\n",
    "            axes.plot(x, subdata, 'o', alpha=0.4, color=\"DimGray\", zorder=2)\n",
    "\n",
    "    axes.set_xlabel(categorical)\n",
    "    axes.set_ylabel(numeric)\n",
    "    axes.set_title(\"Distribution of {0} by {1}\".format(numeric, categorical))\n",
    "\n",
    "    plt.show()\n",
    "    plt.close()"
   ]
  },
  {
   "cell_type": "code",
   "execution_count": 55,
   "metadata": {},
   "outputs": [
    {
     "data": {
      "image/png": "[encoded data removed]",
      "text/plain": [
       "<Figure size 720x432 with 1 Axes>"
      ]
     },
     "metadata": {},
     "output_type": "display_data"
    }
   ],
   "source": [
    "multiboxplot(df_2, \"mpg\", \"cylinders\")"
   ]
  },
  {
   "cell_type": "markdown",
   "metadata": {},
   "source": [
    "There is a clear strong negative relationship between the number of cylinders and the mpg. "
   ]
  },
  {
   "cell_type": "markdown",
   "metadata": {},
   "source": [
    "<a id=\"v_displacement\"></a>\n",
    "\n",
    "## MPG v. Displacement\n",
    "\n",
    "Displacement seems like it could be another explanatory variable for the different levels of mpg. Engines with higher displacement would tend to require more energy.\n",
    "\n",
    "Let's look first at correlation coefficients even though the relationship may not be linear or monotonic."
   ]
  },
  {
   "cell_type": "code",
   "execution_count": 56,
   "metadata": {},
   "outputs": [
    {
     "name": "stdout",
     "output_type": "stream",
     "text": [
      "r   =  -0.8178873629400591\n",
      "rho =  -0.8760305109608002\n"
     ]
    }
   ],
   "source": [
    "print(\"r   = \", stats.pearsonr( df_2.mpg, df_2.displacement)[0])\n",
    "print(\"rho = \", stats.spearmanr( df_2.mpg, df_2.displacement)[0])"
   ]
  },
  {
   "cell_type": "markdown",
   "metadata": {},
   "source": [
    "Pearson's correlation coefficient, $r$, is -0.82 which indicates a strong negative relationship. Spearman's is at -0.88 which indicates a strong monotonic relationship. \n",
    "\n",
    "Plotting the data on a scatter plot:"
   ]
  },
  {
   "cell_type": "code",
   "execution_count": 57,
   "metadata": {},
   "outputs": [
    {
     "data": {
      "image/png": "[encoded data removed]",
      "text/plain": [
       "<Figure size 720x432 with 1 Axes>"
      ]
     },
     "metadata": {},
     "output_type": "display_data"
    }
   ],
   "source": [
    "figure = plt.figure(figsize=(10, 6))\n",
    "\n",
    "axes = figure.add_subplot(1, 1, 1)\n",
    "axes.scatter( df_2.displacement, df_2.mpg, marker=\"o\", color=\"darkslategray\")\n",
    "\n",
    "axes.set_ylabel(\"mpg\")\n",
    "axes.set_xlabel(\"Displacement\")\n",
    "axes.set_title(\"Scatter Plot of mpg vs. Displacement\")\n",
    "\n",
    "plt.show()\n",
    "plt.close()"
   ]
  },
  {
   "cell_type": "markdown",
   "metadata": {},
   "source": [
    "There definietely is a strong negative relationship between displacement and mpg, the higher the displacement the lower the mpg tends to be."
   ]
  },
  {
   "cell_type": "markdown",
   "metadata": {},
   "source": [
    "<a id=\"v_horsepower\"></a>\n",
    "\n",
    "## MPG v. Horsepower\n",
    "\n",
    "Horsepower seems like it could be another explanatory variable for the different levels of mpg. Engines with higher horsepower would tend to require more energy.\n",
    "\n",
    "Let's look first at correlation coefficients even though the relationship may not be linear or monotonic."
   ]
  },
  {
   "cell_type": "code",
   "execution_count": 58,
   "metadata": {},
   "outputs": [
    {
     "name": "stdout",
     "output_type": "stream",
     "text": [
      "r   =  -0.7802588157322385\n",
      "rho =  -0.8544627209004385\n"
     ]
    }
   ],
   "source": [
    "print(\"r   = \", stats.pearsonr( df_2.mpg, df_2.horsepower)[0])\n",
    "print(\"rho = \", stats.spearmanr( df_2.mpg, df_2.horsepower)[0])"
   ]
  },
  {
   "cell_type": "markdown",
   "metadata": {},
   "source": [
    "Pearson's correlation coefficient, $r$, is -0.78 which indicates a fairly strong negative relationship. Spearman's is at -0.85 which indicates a strong monotonic relationship. \n",
    "\n",
    "Plotting the data on a scatter plot:"
   ]
  },
  {
   "cell_type": "code",
   "execution_count": 59,
   "metadata": {
    "scrolled": true
   },
   "outputs": [
    {
     "data": {
      "image/png": "[encoded data removed]",
      "text/plain": [
       "<Figure size 720x432 with 1 Axes>"
      ]
     },
     "metadata": {},
     "output_type": "display_data"
    }
   ],
   "source": [
    "figure = plt.figure(figsize=(10, 6))\n",
    "\n",
    "axes = figure.add_subplot(1, 1, 1)\n",
    "axes.scatter( df_2.horsepower, df_2.mpg, marker=\"o\", color=\"darkslategray\")\n",
    "\n",
    "axes.set_ylabel(\"mpg\")\n",
    "axes.set_xlabel(\"Horsepower\")\n",
    "axes.set_title(\"Scatter Plot of mpg vs. Horsepower\")\n",
    "\n",
    "plt.show()\n",
    "plt.close()"
   ]
  },
  {
   "cell_type": "markdown",
   "metadata": {},
   "source": [
    "A clear negative relationship indeed exists between mpg and horsepower as we expected."
   ]
  },
  {
   "cell_type": "markdown",
   "metadata": {},
   "source": [
    "<a id=\"v_weight\"></a>\n",
    "\n",
    "## MPG v. Weight\n",
    "\n",
    "Weight seems like it could be another explanatory variable for the different levels of mpg. \n",
    "\n",
    "Lighter cars would tend to require less energy.\n",
    "\n",
    "Let's look first at correlation coefficients:"
   ]
  },
  {
   "cell_type": "code",
   "execution_count": 60,
   "metadata": {},
   "outputs": [
    {
     "name": "stdout",
     "output_type": "stream",
     "text": [
      "r   =  -0.8426809031318667\n",
      "rho =  -0.8864761282924433\n"
     ]
    }
   ],
   "source": [
    "print(\"r   = \", stats.pearsonr( df_2.mpg, df_2.weight)[0])\n",
    "print(\"rho = \", stats.spearmanr( df_2.mpg, df_2.weight)[0])"
   ]
  },
  {
   "cell_type": "markdown",
   "metadata": {},
   "source": [
    "Pearson's correlation coefficient, $r$, is -0.84 which indicates a fairly strong negative relationship. Spearman's is at -0.88 which indicates a strong monotonic relationship. \n",
    "\n",
    "Plotting the data on a scatter plot:"
   ]
  },
  {
   "cell_type": "code",
   "execution_count": 61,
   "metadata": {},
   "outputs": [
    {
     "data": {
      "image/png": "[encoded data removed]",
      "text/plain": [
       "<Figure size 720x432 with 1 Axes>"
      ]
     },
     "metadata": {},
     "output_type": "display_data"
    }
   ],
   "source": [
    "figure = plt.figure(figsize=(10, 6))\n",
    "\n",
    "axes = figure.add_subplot(1, 1, 1)\n",
    "axes.scatter( df_2.weight, df_2.mpg, marker=\"o\", color=\"darkslategray\")\n",
    "\n",
    "axes.set_ylabel(\"mpg\")\n",
    "axes.set_xlabel(\"Weight\")\n",
    "axes.set_title(\"Scatter Plot of mpg vs. Weight\")\n",
    "\n",
    "plt.show()\n",
    "plt.close()"
   ]
  },
  {
   "cell_type": "markdown",
   "metadata": {},
   "source": [
    "A clear negative relationship indeed exists between mpg and weight as we expected."
   ]
  },
  {
   "cell_type": "markdown",
   "metadata": {},
   "source": [
    "<a id=\"v_acceleration\"></a>\n",
    "\n",
    "## MPG v. Acceleration\n",
    "\n",
    "Given our individual EDA performed on Acceleration yielded a very normal distribution. We would not expect to see a strong correlation between Acceleration and MPG.\n",
    "\n",
    "Taking a look at the correlation coefficients:"
   ]
  },
  {
   "cell_type": "code",
   "execution_count": 62,
   "metadata": {},
   "outputs": [
    {
     "name": "stdout",
     "output_type": "stream",
     "text": [
      "r   =  0.4193370370930719\n",
      "rho =  0.4366036400155893\n"
     ]
    }
   ],
   "source": [
    "print(\"r   = \", stats.pearsonr( df_2.mpg, df_2.acceleration)[0])\n",
    "print(\"rho = \", stats.spearmanr( df_2.mpg, df_2.acceleration)[0])"
   ]
  },
  {
   "cell_type": "markdown",
   "metadata": {},
   "source": [
    "Pearson's correlation coefficient, $r$, is only 0.42 which indicates a fairly weak positive relationship. Spearman's resulted in 0.44 which also indicates a fairly weak monotonic relationship.\n",
    "\n",
    "Let's plot the data:"
   ]
  },
  {
   "cell_type": "code",
   "execution_count": 63,
   "metadata": {},
   "outputs": [
    {
     "data": {
      "image/png": "[encoded data removed]",
      "text/plain": [
       "<Figure size 720x432 with 1 Axes>"
      ]
     },
     "metadata": {},
     "output_type": "display_data"
    }
   ],
   "source": [
    "figure = plt.figure(figsize=(10, 6))\n",
    "\n",
    "axes = figure.add_subplot(1, 1, 1)\n",
    "axes.scatter( df_2.acceleration, df_2.mpg, marker=\"o\", color=\"darkslategray\")\n",
    "\n",
    "axes.set_ylabel(\"mpg\")\n",
    "axes.set_xlabel(\"acceleration\")\n",
    "axes.set_title(\"Scatter Plot of mpg vs. acceleration\")\n",
    "\n",
    "plt.show()\n",
    "plt.close()"
   ]
  },
  {
   "cell_type": "markdown",
   "metadata": {},
   "source": [
    "Based on the plot, no strong relationship seems to exist as expected"
   ]
  },
  {
   "cell_type": "markdown",
   "metadata": {},
   "source": [
    "<a id=\"v_model_year\"></a>\n",
    "\n",
    "## MPG v. Model Year\n",
    "\n",
    "We do not expect to see a strong correlation between model year and mpg.\n",
    "\n",
    "Taking a look at the correlation coefficients:"
   ]
  },
  {
   "cell_type": "code",
   "execution_count": 64,
   "metadata": {},
   "outputs": [
    {
     "name": "stdout",
     "output_type": "stream",
     "text": [
      "r   =  0.5797775394106586\n",
      "rho =  0.573841745142274\n"
     ]
    }
   ],
   "source": [
    "print(\"r   = \", stats.pearsonr( df_2.mpg, df_2.model_year)[0])\n",
    "print(\"rho = \", stats.spearmanr( df_2.mpg, df_2.model_year)[0])"
   ]
  },
  {
   "cell_type": "markdown",
   "metadata": {},
   "source": [
    "Pearson's correlation coefficient, $r$, is only 0.58 which indicates a fairly weak positive relationship. Spearman's resulted in 0.57 which might indicate a medium monotonic relationship.\n",
    "\n",
    "Let's plot the data:"
   ]
  },
  {
   "cell_type": "code",
   "execution_count": 65,
   "metadata": {},
   "outputs": [
    {
     "data": {
      "image/png": "[encoded data removed]",
      "text/plain": [
       "<Figure size 720x432 with 1 Axes>"
      ]
     },
     "metadata": {},
     "output_type": "display_data"
    }
   ],
   "source": [
    "multiboxplot(df_2, \"mpg\", \"model_year\")"
   ]
  },
  {
   "cell_type": "markdown",
   "metadata": {},
   "source": [
    "Years 70-73 stayed along the same range, 74 saw a spike with a sharp decrease in 75.\n",
    "\n",
    "There was a gradual increase from 75-77 with a more or less maintained mpg in 78 and 79.\n",
    "\n",
    "80 saw a spike up with a continuation of increased values between 80-82.\n",
    "\n",
    "Taking a look at the descriptive statistics:"
   ]
  },
  {
   "cell_type": "code",
   "execution_count": 66,
   "metadata": {},
   "outputs": [
    {
     "name": "stdout",
     "output_type": "stream",
     "text": [
      "            count       mean       std   min     25%    50%     75%   max\n",
      "model_year                                                               \n",
      "70           29.0  17.689655  5.339231   9.0  14.000  16.00  22.000  27.0\n",
      "71           27.0  21.111111  6.675635  12.0  15.000  19.00  27.000  35.0\n",
      "72           27.0  18.703704  5.538778  11.0  13.500  18.00  23.000  28.0\n",
      "73           39.0  17.076923  4.759393  11.0  13.000  16.00  20.000  29.0\n",
      "74           26.0  22.769231  6.537937  13.0  16.000  24.50  27.500  32.0\n",
      "75           30.0  20.266667  4.940566  13.0  16.000  19.50  23.000  33.0\n",
      "76           34.0  21.573529  5.889297  13.0  16.750  21.00  26.375  33.0\n",
      "77           27.0  23.444444  6.792719  15.0  17.250  22.00  30.000  36.0\n",
      "78           35.0  24.168571  6.968111  16.2  19.300  20.80  28.500  43.1\n",
      "79           28.0  25.082143  6.918630  15.5  19.025  23.45  31.825  37.3\n",
      "80           25.0  34.104000  6.836512  19.1  29.800  32.70  38.100  46.6\n",
      "81           28.0  30.185714  5.635319  17.6  26.400  31.15  34.175  39.1\n",
      "82           30.0  32.000000  5.232524  22.0  27.250  32.00  36.000  44.0\n"
     ]
    }
   ],
   "source": [
    "describe_by_category(df_2, \"mpg\", \"model_year\")"
   ]
  },
  {
   "cell_type": "markdown",
   "metadata": {},
   "source": [
    "It appears that each of the years had a similar amount of data, allowing the results to be conclusive, that there is a medium relationship between model_year and mpg.\n",
    "\n",
    "I would expect that another variable interacting with model_year may be influencing this correlation with mpg.\n",
    "\n",
    "Possibly, the technology of manufacturing engines with more or less cylinders changed over the years.\n",
    "\n",
    "Generating the descriptive statistics of model_year with cylinders:"
   ]
  },
  {
   "cell_type": "code",
   "execution_count": 67,
   "metadata": {},
   "outputs": [
    {
     "name": "stdout",
     "output_type": "stream",
     "text": [
      "            count      mean       std  min  25%  50%  75%  max\n",
      "model_year                                                    \n",
      "70           29.0  6.758621  1.724926  4.0  6.0  8.0  8.0  8.0\n",
      "71           27.0  5.629630  1.667521  4.0  4.0  6.0  7.0  8.0\n",
      "72           27.0  5.925926  2.036700  4.0  4.0  4.0  8.0  8.0\n",
      "73           39.0  6.461538  1.744859  4.0  4.0  8.0  8.0  8.0\n",
      "74           26.0  5.230769  1.607674  4.0  4.0  4.0  6.0  8.0\n",
      "75           30.0  5.600000  1.522249  4.0  4.0  6.0  6.0  8.0\n",
      "76           34.0  5.647059  1.667558  4.0  4.0  6.0  7.5  8.0\n",
      "77           27.0  5.555556  1.783112  4.0  4.0  4.0  8.0  8.0\n",
      "78           35.0  5.371429  1.516298  4.0  4.0  6.0  6.0  8.0\n",
      "79           28.0  5.857143  1.799471  4.0  4.0  6.0  8.0  8.0\n",
      "80           25.0  4.160000  0.553775  4.0  4.0  4.0  4.0  6.0\n",
      "81           28.0  4.642857  1.095928  4.0  4.0  4.0  6.0  8.0\n",
      "82           30.0  4.200000  0.610257  4.0  4.0  4.0  4.0  6.0\n"
     ]
    }
   ],
   "source": [
    "describe_by_category(df_2, \"cylinders\", \"model_year\")"
   ]
  },
  {
   "cell_type": "markdown",
   "metadata": {},
   "source": [
    "It seems that with time, manufacturers tended to produce cars with less cylinders explaining the rise in mpg with time."
   ]
  },
  {
   "cell_type": "markdown",
   "metadata": {},
   "source": [
    "<a id=\"v_origin\"></a>\n",
    "\n",
    "## MPG v. Origin\n",
    "\n",
    "We do not expect to see a strong correlation between origin and mpg.\n",
    "\n",
    "Taking a look at the correlation coefficients:"
   ]
  },
  {
   "cell_type": "code",
   "execution_count": 68,
   "metadata": {},
   "outputs": [
    {
     "name": "stdout",
     "output_type": "stream",
     "text": [
      "r   =  0.5828805773851071\n",
      "rho =  0.5940637541731193\n"
     ]
    }
   ],
   "source": [
    "print(\"r   = \", stats.pearsonr( df_2.mpg, df_2.origin)[0])\n",
    "print(\"rho = \", stats.spearmanr( df_2.mpg, df_2.origin)[0])"
   ]
  },
  {
   "cell_type": "markdown",
   "metadata": {},
   "source": [
    "Pearson's correlation coefficient, $r$, is only 0.58 which indicates a fairly weak positive relationship. Spearman's resulted in 0.59 which might indicate a medium monotonic relationship.\n",
    "\n",
    "Let's plot the data:"
   ]
  },
  {
   "cell_type": "code",
   "execution_count": 69,
   "metadata": {},
   "outputs": [
    {
     "data": {
      "image/png": "[encoded data removed]",
      "text/plain": [
       "<Figure size 720x432 with 1 Axes>"
      ]
     },
     "metadata": {},
     "output_type": "display_data"
    }
   ],
   "source": [
    "multiboxplot(df_2, \"mpg\", \"origin\")"
   ]
  },
  {
   "cell_type": "markdown",
   "metadata": {},
   "source": [
    "A clear relationship is shown between origin and mpg.\n",
    "\n",
    "Taking a look at the descriptive statistics:"
   ]
  },
  {
   "cell_type": "code",
   "execution_count": 70,
   "metadata": {},
   "outputs": [
    {
     "name": "stdout",
     "output_type": "stream",
     "text": [
      "        count       mean       std   min   25%   50%   75%   max\n",
      "origin                                                          \n",
      "1       245.0  20.033469  6.440384   9.0  15.0  18.5  24.0  39.0\n",
      "2        65.0  27.613846  6.573428  16.2  24.0  26.0  30.0  44.3\n",
      "3        75.0  30.978667  5.765913  19.0  27.0  32.0  34.1  46.6\n"
     ]
    }
   ],
   "source": [
    "describe_by_category(df_2, \"mpg\", \"origin\")"
   ]
  },
  {
   "cell_type": "markdown",
   "metadata": {},
   "source": [
    "It is important to note that origin 1 (USA) has more than 3 times the data as regions 2 and 3 have. \n",
    "\n",
    "This could have an effect in the results.\n",
    "\n",
    "Furthermore, the region could have a correlation with the number of cylinders possibly due to regional manufacturing standards which may be effecting the mpg.\n",
    "\n",
    "Performing a correlative analysis on region and cylinders:"
   ]
  },
  {
   "cell_type": "code",
   "execution_count": 71,
   "metadata": {},
   "outputs": [
    {
     "name": "stdout",
     "output_type": "stream",
     "text": [
      "r   =  -0.5571046794330228\n",
      "rho =  -0.6010130033306899\n"
     ]
    }
   ],
   "source": [
    "print(\"r   = \", stats.pearsonr( df_2.cylinders, df_2.origin)[0])\n",
    "print(\"rho = \", stats.spearmanr( df_2.cylinders, df_2.origin)[0])"
   ]
  },
  {
   "cell_type": "markdown",
   "metadata": {},
   "source": [
    "There is a negative medium monotonic relationship with a Spearman coefficient of -0.60\n",
    "\n",
    "Taking a look at the descriptive statistics:"
   ]
  },
  {
   "cell_type": "code",
   "execution_count": 72,
   "metadata": {},
   "outputs": [
    {
     "name": "stdout",
     "output_type": "stream",
     "text": [
      "        count      mean       std  min  25%  50%  75%  max\n",
      "origin                                                    \n",
      "1       245.0  6.277551  1.655996  4.0  4.0  6.0  8.0  8.0\n",
      "2        65.0  4.123077  0.484371  4.0  4.0  4.0  4.0  6.0\n",
      "3        75.0  4.160000  0.546240  4.0  4.0  4.0  4.0  6.0\n"
     ]
    }
   ],
   "source": [
    "describe_by_category(df_2, \"cylinders\", \"origin\")"
   ]
  },
  {
   "cell_type": "markdown",
   "metadata": {},
   "source": [
    "As expected, 50% of region 1's values are 6 cylinders and below, with a max value of 8 cylinders.\n",
    "\n",
    "75% of regions 2 and 3's cylinders are 4 cylinders with a max value of 6 cylinders.\n",
    "\n",
    "Regions 2 and 3 tend to produce engines with less cylinders and therefore a higher mpg."
   ]
  },
  {
   "cell_type": "markdown",
   "metadata": {
    "colab_type": "text",
    "id": "6_0fFpfg_Yeq"
   },
   "source": [
    "<a id=\"build\"></a> \n",
    "## 1.3 - Build the model"
   ]
  },
  {
   "cell_type": "markdown",
   "metadata": {
    "colab_type": "text",
    "id": "jRFNLQ7ZF7GE"
   },
   "source": [
    "Reviewing the EDA done in the previous section:\n",
    "\n",
    "The data contains a number of variables. We have cylinders, displacement, horsepower, weight, acceleration, model_year, manufacturer, and the target variable mpg. \n",
    "\n",
    "* MPG - Exponential distribution-ish.\n",
    "* Cylinders - Multinomial distribution.\n",
    "* Displacement - Exponential distribution-ish.\n",
    "* Horsepower - Exponential distribution-ish.\n",
    "* Weight - Exponential distribution-ish.\n",
    "* Acceleration - Normal distribution\n",
    "* Model Year - Multinomial distribution.\n",
    "* Origin - Multinomial distribution.\n",
    "* Manufacturer - Multinomial distribution.\n"
   ]
  },
  {
   "cell_type": "markdown",
   "metadata": {},
   "source": [
    "Let's review our pairwise EDA with the target variable, mpg:\n",
    "\n",
    "* cylinders - definite negative relationship. \n",
    "* displacement - definite negative relationship. \n",
    "* horsepower - definite negative relationship. \n",
    "* weight - definite negative relationship.\n",
    "* acceleration - no strong apparent relationship.\n",
    "* model year - a relationship exists, but this may be due to a correlation between model_year and cylinders\n",
    "* origin - a relationship exists, but this may be due to a correlation between origin and cylinders\n",
    "\n",
    "We didn't look at manufacturer but there would be a correlation between manufacturer and cylinders due to the manfacturers clear correlation with origin.\n",
    "\n",
    "Since we've decided to use a linear model, it is much more important to look at the correlation coefficients between each variable and the target, and each other but first we need those dummy variables:"
   ]
  },
  {
   "cell_type": "code",
   "execution_count": 73,
   "metadata": {},
   "outputs": [
    {
     "data": {
      "text/html": [
       "<div>\n",
       "<style scoped>\n",
       "    .dataframe tbody tr th:only-of-type {\n",
       "        vertical-align: middle;\n",
       "    }\n",
       "\n",
       "    .dataframe tbody tr th {\n",
       "        vertical-align: top;\n",
       "    }\n",
       "\n",
       "    .dataframe thead th {\n",
       "        text-align: right;\n",
       "    }\n",
       "</style>\n",
       "<table border=\"1\" class=\"dataframe\">\n",
       "  <thead>\n",
       "    <tr style=\"text-align: right;\">\n",
       "      <th></th>\n",
       "      <th>mpg</th>\n",
       "      <th>cylinders</th>\n",
       "      <th>displacement</th>\n",
       "      <th>horsepower</th>\n",
       "      <th>weight</th>\n",
       "      <th>acceleration</th>\n",
       "      <th>model_year</th>\n",
       "      <th>origin</th>\n",
       "      <th>car_name</th>\n",
       "      <th>manufacturer</th>\n",
       "      <th>origin_1</th>\n",
       "      <th>origin_2</th>\n",
       "      <th>origin_3</th>\n",
       "    </tr>\n",
       "  </thead>\n",
       "  <tbody>\n",
       "    <tr>\n",
       "      <th>0</th>\n",
       "      <td>18.0</td>\n",
       "      <td>8</td>\n",
       "      <td>307.0</td>\n",
       "      <td>130.0</td>\n",
       "      <td>3504.0</td>\n",
       "      <td>12.0</td>\n",
       "      <td>70</td>\n",
       "      <td>1</td>\n",
       "      <td>\"chevrolet chevelle malibu\"</td>\n",
       "      <td>chevrolet</td>\n",
       "      <td>1</td>\n",
       "      <td>0</td>\n",
       "      <td>0</td>\n",
       "    </tr>\n",
       "    <tr>\n",
       "      <th>1</th>\n",
       "      <td>15.0</td>\n",
       "      <td>8</td>\n",
       "      <td>350.0</td>\n",
       "      <td>165.0</td>\n",
       "      <td>3693.0</td>\n",
       "      <td>11.5</td>\n",
       "      <td>70</td>\n",
       "      <td>1</td>\n",
       "      <td>\"buick skylark 320\"</td>\n",
       "      <td>buick</td>\n",
       "      <td>1</td>\n",
       "      <td>0</td>\n",
       "      <td>0</td>\n",
       "    </tr>\n",
       "    <tr>\n",
       "      <th>2</th>\n",
       "      <td>18.0</td>\n",
       "      <td>8</td>\n",
       "      <td>318.0</td>\n",
       "      <td>150.0</td>\n",
       "      <td>3436.0</td>\n",
       "      <td>11.0</td>\n",
       "      <td>70</td>\n",
       "      <td>1</td>\n",
       "      <td>\"plymouth satellite\"</td>\n",
       "      <td>plymouth</td>\n",
       "      <td>1</td>\n",
       "      <td>0</td>\n",
       "      <td>0</td>\n",
       "    </tr>\n",
       "    <tr>\n",
       "      <th>3</th>\n",
       "      <td>16.0</td>\n",
       "      <td>8</td>\n",
       "      <td>304.0</td>\n",
       "      <td>150.0</td>\n",
       "      <td>3433.0</td>\n",
       "      <td>12.0</td>\n",
       "      <td>70</td>\n",
       "      <td>1</td>\n",
       "      <td>\"amc rebel sst\"</td>\n",
       "      <td>amc</td>\n",
       "      <td>1</td>\n",
       "      <td>0</td>\n",
       "      <td>0</td>\n",
       "    </tr>\n",
       "    <tr>\n",
       "      <th>4</th>\n",
       "      <td>17.0</td>\n",
       "      <td>8</td>\n",
       "      <td>302.0</td>\n",
       "      <td>140.0</td>\n",
       "      <td>3449.0</td>\n",
       "      <td>10.5</td>\n",
       "      <td>70</td>\n",
       "      <td>1</td>\n",
       "      <td>\"ford torino\"</td>\n",
       "      <td>ford</td>\n",
       "      <td>1</td>\n",
       "      <td>0</td>\n",
       "      <td>0</td>\n",
       "    </tr>\n",
       "  </tbody>\n",
       "</table>\n",
       "</div>"
      ],
      "text/plain": [
       "    mpg  cylinders  displacement  horsepower  weight  acceleration  \\\n",
       "0  18.0          8         307.0       130.0  3504.0          12.0   \n",
       "1  15.0          8         350.0       165.0  3693.0          11.5   \n",
       "2  18.0          8         318.0       150.0  3436.0          11.0   \n",
       "3  16.0          8         304.0       150.0  3433.0          12.0   \n",
       "4  17.0          8         302.0       140.0  3449.0          10.5   \n",
       "\n",
       "   model_year  origin                     car_name manufacturer  origin_1  \\\n",
       "0          70       1  \"chevrolet chevelle malibu\"    chevrolet         1   \n",
       "1          70       1          \"buick skylark 320\"        buick         1   \n",
       "2          70       1         \"plymouth satellite\"     plymouth         1   \n",
       "3          70       1              \"amc rebel sst\"          amc         1   \n",
       "4          70       1                \"ford torino\"         ford         1   \n",
       "\n",
       "   origin_2  origin_3  \n",
       "0         0         0  \n",
       "1         0         0  \n",
       "2         0         0  \n",
       "3         0         0  \n",
       "4         0         0  "
      ]
     },
     "execution_count": 73,
     "metadata": {},
     "output_type": "execute_result"
    }
   ],
   "source": [
    "df_2 = pd.concat([df_2, pd.get_dummies(df_2[\"origin\"], prefix=\"origin\")], axis=1)\n",
    "df_2.head()"
   ]
  },
  {
   "cell_type": "markdown",
   "metadata": {},
   "source": [
    "And now we can generate a summary of our correlation coefficients:"
   ]
  },
  {
   "cell_type": "code",
   "execution_count": 74,
   "metadata": {},
   "outputs": [],
   "source": [
    "def correlations(data, y, xs):\n",
    "    rs = []\n",
    "    rhos = []\n",
    "    for x in xs:\n",
    "        r = stats.pearsonr(data[y], data[x])[0]\n",
    "        rs.append(r)\n",
    "        rho = stats.spearmanr(data[y], data[x])[0]\n",
    "        rhos.append(rho)\n",
    "    return pd.DataFrame({\"feature\": xs, \"r\": rs, \"rho\": rhos})"
   ]
  },
  {
   "cell_type": "code",
   "execution_count": 75,
   "metadata": {},
   "outputs": [
    {
     "data": {
      "text/html": [
       "<div>\n",
       "<style scoped>\n",
       "    .dataframe tbody tr th:only-of-type {\n",
       "        vertical-align: middle;\n",
       "    }\n",
       "\n",
       "    .dataframe tbody tr th {\n",
       "        vertical-align: top;\n",
       "    }\n",
       "\n",
       "    .dataframe thead th {\n",
       "        text-align: right;\n",
       "    }\n",
       "</style>\n",
       "<table border=\"1\" class=\"dataframe\">\n",
       "  <thead>\n",
       "    <tr style=\"text-align: right;\">\n",
       "      <th></th>\n",
       "      <th>feature</th>\n",
       "      <th>r</th>\n",
       "      <th>rho</th>\n",
       "    </tr>\n",
       "  </thead>\n",
       "  <tbody>\n",
       "    <tr>\n",
       "      <th>0</th>\n",
       "      <td>cylinders</td>\n",
       "      <td>-0.794872</td>\n",
       "      <td>-0.847094</td>\n",
       "    </tr>\n",
       "    <tr>\n",
       "      <th>1</th>\n",
       "      <td>displacement</td>\n",
       "      <td>-0.817887</td>\n",
       "      <td>-0.876031</td>\n",
       "    </tr>\n",
       "    <tr>\n",
       "      <th>2</th>\n",
       "      <td>horsepower</td>\n",
       "      <td>-0.780259</td>\n",
       "      <td>-0.854463</td>\n",
       "    </tr>\n",
       "    <tr>\n",
       "      <th>3</th>\n",
       "      <td>weight</td>\n",
       "      <td>-0.842681</td>\n",
       "      <td>-0.886476</td>\n",
       "    </tr>\n",
       "    <tr>\n",
       "      <th>4</th>\n",
       "      <td>acceleration</td>\n",
       "      <td>0.419337</td>\n",
       "      <td>0.436604</td>\n",
       "    </tr>\n",
       "    <tr>\n",
       "      <th>5</th>\n",
       "      <td>model_year</td>\n",
       "      <td>0.579778</td>\n",
       "      <td>0.573842</td>\n",
       "    </tr>\n",
       "    <tr>\n",
       "      <th>6</th>\n",
       "      <td>origin_1</td>\n",
       "      <td>-0.576695</td>\n",
       "      <td>-0.581226</td>\n",
       "    </tr>\n",
       "    <tr>\n",
       "      <th>7</th>\n",
       "      <td>origin_2</td>\n",
       "      <td>0.240032</td>\n",
       "      <td>0.247670</td>\n",
       "    </tr>\n",
       "  </tbody>\n",
       "</table>\n",
       "</div>"
      ],
      "text/plain": [
       "        feature         r       rho\n",
       "0     cylinders -0.794872 -0.847094\n",
       "1  displacement -0.817887 -0.876031\n",
       "2    horsepower -0.780259 -0.854463\n",
       "3        weight -0.842681 -0.886476\n",
       "4  acceleration  0.419337  0.436604\n",
       "5    model_year  0.579778  0.573842\n",
       "6      origin_1 -0.576695 -0.581226\n",
       "7      origin_2  0.240032  0.247670"
      ]
     },
     "execution_count": 75,
     "metadata": {},
     "output_type": "execute_result"
    }
   ],
   "source": [
    "correlations(df_2, \"mpg\", [\"cylinders\", \"displacement\", \"horsepower\", \n",
    "                                    \"weight\", \"acceleration\", \"model_year\", \n",
    "                                    \"origin_1\", \"origin_2\"])"
   ]
  },
  {
   "cell_type": "markdown",
   "metadata": {},
   "source": [
    "There are some interesting results here:\n",
    "\n",
    "1. **cylinders** - negative relationship\n",
    "2. **displacement** - negative relationship\n",
    "3. **horsepower** - negative relationship\n",
    "4. **weight** - negative relationship, the strongest one.\n",
    "5. **acceleration** - There is a relationship, but may not be linear\n",
    "6. **model_year** - There is a relationship, but may not be linear\n",
    "7. **origin_1** - There is a relaitonship, but may not be linear\n",
    "8. **origin_2** - There is a relatively small relationship, may not be linear.\n",
    "\n",
    "Before estimating any linear models, let's look at the Null model (the mean):\n"
   ]
  },
  {
   "cell_type": "code",
   "execution_count": 76,
   "metadata": {},
   "outputs": [
    {
     "data": {
      "text/plain": [
       "count    385.000000\n",
       "mean      23.445455\n",
       "std        7.836911\n",
       "min        9.000000\n",
       "25%       17.000000\n",
       "50%       23.000000\n",
       "75%       29.000000\n",
       "max       46.600000\n",
       "Name: mpg, dtype: float64"
      ]
     },
     "execution_count": 76,
     "metadata": {},
     "output_type": "execute_result"
    }
   ],
   "source": [
    "df_2.mpg.describe()"
   ]
  },
  {
   "cell_type": "markdown",
   "metadata": {},
   "source": [
    "The lowest mpg is 9 and the highest is 46.6. The mean is 23.44 with a standard deviation of 7.83. \n",
    "\n",
    "7.83 is the $\\sigma$ of the Null model."
   ]
  },
  {
   "cell_type": "markdown",
   "metadata": {},
   "source": [
    "Let's fit a \"all variables in\" model:"
   ]
  },
  {
   "cell_type": "code",
   "execution_count": 77,
   "metadata": {},
   "outputs": [],
   "source": [
    "import models"
   ]
  },
  {
   "cell_type": "code",
   "execution_count": 78,
   "metadata": {},
   "outputs": [
    {
     "name": "stdout",
     "output_type": "stream",
     "text": [
      "Model: mpg ~ cylinders+ displacement+ horsepower+ weight + acceleration + model_year + origin_1 + origin_2\n",
      "------------  ---------  ------  -------  -----\n",
      "                                 95% BCI\n",
      "Coefficients             Mean    Lo       Hi\n",
      "              $\\beta_0$  -12.08  -20.19   -3.56\n",
      "cylinders     $\\beta_1$  -0.67   -1.22    0.01\n",
      "displacement  $\\beta_2$  0.02    0.01     0.04\n",
      "horsepower    $\\beta_3$  -0.01   -0.04    0.01\n",
      "weight        $\\beta_4$  -0.01   -0.01    -0.01\n",
      "acceleration  $\\beta_5$  0.01    -0.20    0.26\n",
      "model_year    $\\beta_6$  0.76    0.66     0.83\n",
      "origin_1      $\\beta_7$  -3.05   -4.10    -2.08\n",
      "origin_2      $\\beta_8$  -0.71   -1.97    0.61\n",
      "\n",
      "Metrics       Mean       Lo      Hi\n",
      "$\\sigma$      3.21       2.87    3.47\n",
      "$R^2$         0.84       0.81    0.86\n",
      "------------  ---------  ------  -------  -----\n"
     ]
    }
   ],
   "source": [
    "model = \"mpg ~ cylinders+ displacement+ horsepower+ weight + acceleration + model_year + origin_1 + origin_2\"\n",
    "result1 = models.bootstrap_linear_regression(model, data=df_2)\n",
    "print(models.describe_bootstrap_lr(result1))"
   ]
  },
  {
   "cell_type": "markdown",
   "metadata": {},
   "source": [
    "The correlation coefficient is 84% which is pretty good. The error has been cut by about 60% compared to the Null model. \n",
    "\n",
    "Taking a look at the coefficients as per our statistical expectations:"
   ]
  },
  {
   "cell_type": "code",
   "execution_count": 79,
   "metadata": {},
   "outputs": [
    {
     "name": "stdout",
     "output_type": "stream",
     "text": [
      "cylinders P(<0)=0.960 (strong)\n",
      "displacement P(<0)=0.000 (weak)\n",
      "horsepower P(<0)=0.800 (strong)\n",
      "weight P(<0)=1.000 (strong)\n",
      "acceleration P(<0)=0.450 (mixed)\n",
      "model_year P(>0)=1.000 (strong)\n",
      "origin_1 P(<0)=1.000 (strong)\n",
      "origin_2 P(>0)=0.180 (weak)\n"
     ]
    }
   ],
   "source": [
    "predictions = {\"cylinders\":\"-\",\"displacement\":\"-\",\"horsepower\":\"-\",\"weight\": \"-\",\"acceleration\": \"-\",\"model_year\": \"+\",\"origin_1\": \"-\", \"origin_2\": \"+\"}\n",
    "models.evaluate_coefficient_predictions(predictions, result1)"
   ]
  },
  {
   "cell_type": "markdown",
   "metadata": {},
   "source": [
    "Cylinders, Horsepower, Weight, Model Year and Origin_1 have the expected signs.\n",
    "\n",
    "Acceleration is giving us a mixed result.\n",
    "\n",
    "Displacement and Origin_2 are giving us weak results.\n",
    "\n",
    "It seems that we mat be having multicollinearity issues.\n",
    "\n",
    "Testing for the multicollinearity of weight vs the rest of the variables, as weight had the highest correlation to mpg as per our previous summary of correlation coefficients:"
   ]
  },
  {
   "cell_type": "code",
   "execution_count": 80,
   "metadata": {},
   "outputs": [
    {
     "data": {
      "text/html": [
       "<div>\n",
       "<style scoped>\n",
       "    .dataframe tbody tr th:only-of-type {\n",
       "        vertical-align: middle;\n",
       "    }\n",
       "\n",
       "    .dataframe tbody tr th {\n",
       "        vertical-align: top;\n",
       "    }\n",
       "\n",
       "    .dataframe thead th {\n",
       "        text-align: right;\n",
       "    }\n",
       "</style>\n",
       "<table border=\"1\" class=\"dataframe\">\n",
       "  <thead>\n",
       "    <tr style=\"text-align: right;\">\n",
       "      <th></th>\n",
       "      <th>feature</th>\n",
       "      <th>r</th>\n",
       "      <th>rho</th>\n",
       "    </tr>\n",
       "  </thead>\n",
       "  <tbody>\n",
       "    <tr>\n",
       "      <th>0</th>\n",
       "      <td>cylinders</td>\n",
       "      <td>0.900707</td>\n",
       "      <td>0.882803</td>\n",
       "    </tr>\n",
       "    <tr>\n",
       "      <th>1</th>\n",
       "      <td>horsepower</td>\n",
       "      <td>0.868906</td>\n",
       "      <td>0.888882</td>\n",
       "    </tr>\n",
       "    <tr>\n",
       "      <th>2</th>\n",
       "      <td>displacement</td>\n",
       "      <td>0.935296</td>\n",
       "      <td>0.952115</td>\n",
       "    </tr>\n",
       "    <tr>\n",
       "      <th>3</th>\n",
       "      <td>acceleration</td>\n",
       "      <td>-0.431067</td>\n",
       "      <td>-0.421683</td>\n",
       "    </tr>\n",
       "    <tr>\n",
       "      <th>4</th>\n",
       "      <td>model_year</td>\n",
       "      <td>-0.315424</td>\n",
       "      <td>-0.289386</td>\n",
       "    </tr>\n",
       "    <tr>\n",
       "      <th>5</th>\n",
       "      <td>origin_1</td>\n",
       "      <td>0.604512</td>\n",
       "      <td>0.633913</td>\n",
       "    </tr>\n",
       "    <tr>\n",
       "      <th>6</th>\n",
       "      <td>origin_2</td>\n",
       "      <td>-0.306427</td>\n",
       "      <td>-0.314061</td>\n",
       "    </tr>\n",
       "  </tbody>\n",
       "</table>\n",
       "</div>"
      ],
      "text/plain": [
       "        feature         r       rho\n",
       "0     cylinders  0.900707  0.882803\n",
       "1    horsepower  0.868906  0.888882\n",
       "2  displacement  0.935296  0.952115\n",
       "3  acceleration -0.431067 -0.421683\n",
       "4    model_year -0.315424 -0.289386\n",
       "5      origin_1  0.604512  0.633913\n",
       "6      origin_2 -0.306427 -0.314061"
      ]
     },
     "execution_count": 80,
     "metadata": {},
     "output_type": "execute_result"
    }
   ],
   "source": [
    "correlations(df_2, \"weight\", [\"cylinders\", \"horsepower\", \n",
    "                                    \"displacement\", \"acceleration\", \"model_year\", \n",
    "                                    \"origin_1\", \"origin_2\"])"
   ]
  },
  {
   "cell_type": "markdown",
   "metadata": {},
   "source": [
    "High correlations between weight and displacement.\n",
    "\n",
    "This will definitely tamper with our Beta estimates.\n",
    "\n",
    "Thereofore, displacement will be removed.\n",
    "\n",
    "What about the residuals:"
   ]
  },
  {
   "cell_type": "code",
   "execution_count": 81,
   "metadata": {},
   "outputs": [
    {
     "data": {
      "image/png": "[encoded data removed]",
      "text/plain": [
       "<Figure size 1440x432 with 5 Axes>"
      ]
     },
     "metadata": {},
     "output_type": "display_data"
    }
   ],
   "source": [
    "figure = plt.figure(figsize=(20,6))\n",
    "\n",
    "variables = [\"cylinders\",\"horsepower\",\"weight\", \"acceleration\", \"model_year\"]\n",
    "\n",
    "plots = len( variables)\n",
    "rows = (plots // 3) + 1\n",
    "\n",
    "for i, variable in enumerate( variables):\n",
    "    axes = figure.add_subplot(rows, 3, i + 1)\n",
    "\n",
    "    keyed_values = sorted( zip( df_2[ variable].values, result1[ \"residuals\"]), key=lambda x: x[ 0])\n",
    "    residuals = [x[ 1][ 0] for x in keyed_values]\n",
    "    \n",
    "    axes.plot(list(range(0, result1[ \"n\"])), residuals, '.', color=\"dimgray\", alpha=0.75)\n",
    "    axes.axhline(y=0.0, xmin=0, xmax=result1[ \"n\"], c=\"firebrick\", alpha=0.5)\n",
    "    axes.set_title( variable + \" v. residuals\")\n",
    "\n",
    "plt.show()\n",
    "plt.close()"
   ]
  },
  {
   "cell_type": "markdown",
   "metadata": {},
   "source": [
    "horsepower and weight show signs of higher errors on the lower values.\n",
    "\n",
    "cylinders plot is relatively uniform with a few extreme spikes in the 150 region.\n",
    "\n",
    "acceleration is relatively uniform.\n",
    "\n",
    "model_year relatively uniform with more extreme spikes in the higher values.\n",
    "\n",
    "Applying a logarithmic transformation to mpg, cylinders, horsepower, weight and acceleration may significantly improve our model.\n",
    "\n",
    "But first lets calculate the *adjusted* $R^2$ of our current model:"
   ]
  },
  {
   "cell_type": "code",
   "execution_count": 82,
   "metadata": {},
   "outputs": [
    {
     "data": {
      "text/plain": [
       "0.8315309516110867"
      ]
     },
     "execution_count": 82,
     "metadata": {},
     "output_type": "execute_result"
    }
   ],
   "source": [
    "models.adjusted_r_squared(result1)"
   ]
  },
  {
   "cell_type": "code",
   "execution_count": 83,
   "metadata": {},
   "outputs": [],
   "source": [
    "def log( x):\n",
    "    return np.log(float( x))\n",
    "\n",
    "for column in [\"mpg\",\"cylinders\",\"horsepower\",\"weight\", \"acceleration\"]:\n",
    "    df_2[ \"log_\" + column] = df_2[ column].apply( log)"
   ]
  },
  {
   "cell_type": "code",
   "execution_count": 84,
   "metadata": {},
   "outputs": [
    {
     "data": {
      "text/plain": [
       "count    385.000000\n",
       "mean       3.097741\n",
       "std        0.341812\n",
       "min        2.197225\n",
       "25%        2.833213\n",
       "50%        3.135494\n",
       "75%        3.367296\n",
       "max        3.841601\n",
       "Name: log_mpg, dtype: float64"
      ]
     },
     "execution_count": 84,
     "metadata": {},
     "output_type": "execute_result"
    }
   ],
   "source": [
    "df_2['log_mpg'].describe()"
   ]
  },
  {
   "cell_type": "markdown",
   "metadata": {},
   "source": [
    "Estimating our model with the new log() values:"
   ]
  },
  {
   "cell_type": "code",
   "execution_count": 85,
   "metadata": {},
   "outputs": [
    {
     "name": "stdout",
     "output_type": "stream",
     "text": [
      "Model: log_mpg ~ log_cylinders+log_horsepower+log_weight +log_acceleration+ model_year + origin_1+origin_2\n",
      "----------------  ---------  -----  -------  -----\n",
      "                                    95% BCI\n",
      "Coefficients                 Mean   Lo       Hi\n",
      "                  $\\beta_0$  7.25   6.60     7.83\n",
      "log_cylinders     $\\beta_1$  -0.15  -0.25    -0.06\n",
      "log_horsepower    $\\beta_2$  -0.26  -0.37    -0.15\n",
      "log_weight        $\\beta_3$  -0.54  -0.68    -0.41\n",
      "log_acceleration  $\\beta_4$  -0.20  -0.31    -0.10\n",
      "model_year        $\\beta_5$  0.03   0.03     0.03\n",
      "origin_1          $\\beta_6$  -0.05  -0.08    -0.02\n",
      "origin_2          $\\beta_7$  -0.02  -0.06    0.02\n",
      "\n",
      "Metrics           Mean       Lo     Hi\n",
      "$\\sigma$          0.11       0.10   0.11\n",
      "$R^2$             0.90       0.89   0.92\n",
      "----------------  ---------  -----  -------  -----\n"
     ]
    }
   ],
   "source": [
    "model =  \"log_mpg ~ log_cylinders+log_horsepower+log_weight +log_acceleration+ model_year + origin_1+origin_2\"\n",
    "result2 = models.bootstrap_linear_regression(model, data=df_2)\n",
    "print(models.describe_bootstrap_lr(result2))\n"
   ]
  },
  {
   "cell_type": "markdown",
   "metadata": {},
   "source": [
    "The $R^2$ value has significantly increased to 0.90, with a $\\sigma$ of 0.11. The $\\sigma$ is a 67% decrease from the null mode;, a definite improvement over our first model.\n",
    "\n",
    "What about the *adjusted* $R^2$:"
   ]
  },
  {
   "cell_type": "code",
   "execution_count": 86,
   "metadata": {},
   "outputs": [
    {
     "data": {
      "text/plain": [
       "0.8996573109504675"
      ]
     },
     "execution_count": 86,
     "metadata": {},
     "output_type": "execute_result"
    }
   ],
   "source": [
    "models.adjusted_r_squared(result2)"
   ]
  },
  {
   "cell_type": "markdown",
   "metadata": {},
   "source": [
    "The *adjusted* $R^2$ shows a whopping value of ~ 0.90, reconfirming the clear improvement.\n",
    "\n",
    "Performing a coefficient analysis:"
   ]
  },
  {
   "cell_type": "code",
   "execution_count": 87,
   "metadata": {},
   "outputs": [
    {
     "name": "stdout",
     "output_type": "stream",
     "text": [
      "log_cylinders P(<0)=1.000 (strong)\n",
      "log_horsepower P(<0)=1.000 (strong)\n",
      "log_weight P(<0)=1.000 (strong)\n",
      "log_acceleration P(<0)=1.000 (strong)\n",
      "model_year P(>0)=1.000 (strong)\n",
      "origin_1 P(<0)=1.000 (strong)\n",
      "origin_2 P(>0)=0.170 (weak)\n"
     ]
    }
   ],
   "source": [
    "predictions = {\"log_cylinders\":\"-\",\"log_horsepower\":\"-\",\"log_weight\": \"-\",\"log_acceleration\": \"-\",\"model_year\": \"+\",\"origin_1\": \"-\", \"origin_2\": \"+\"}\n",
    "models.evaluate_coefficient_predictions(predictions, result2)"
   ]
  },
  {
   "cell_type": "markdown",
   "metadata": {},
   "source": [
    "All return strong results except for origin_2.\n",
    "\n",
    "Rerunning the model without origin_2:"
   ]
  },
  {
   "cell_type": "code",
   "execution_count": 88,
   "metadata": {},
   "outputs": [
    {
     "name": "stdout",
     "output_type": "stream",
     "text": [
      "Model: log_mpg ~ log_cylinders+log_horsepower+log_weight +log_acceleration+ model_year + origin_1\n",
      "----------------  ---------  -----  -------  -----\n",
      "                                    95% BCI\n",
      "Coefficients                 Mean   Lo       Hi\n",
      "                  $\\beta_0$  7.27   6.60     7.93\n",
      "log_cylinders     $\\beta_1$  -0.14  -0.20    -0.05\n",
      "log_horsepower    $\\beta_2$  -0.25  -0.35    -0.14\n",
      "log_weight        $\\beta_3$  -0.56  -0.69    -0.46\n",
      "log_acceleration  $\\beta_4$  -0.20  -0.31    -0.10\n",
      "model_year        $\\beta_5$  0.03   0.03     0.03\n",
      "origin_1          $\\beta_6$  -0.04  -0.08    -0.02\n",
      "\n",
      "Metrics           Mean       Lo     Hi\n",
      "$\\sigma$          0.11       0.10   0.11\n",
      "$R^2$             0.90       0.89   0.92\n",
      "----------------  ---------  -----  -------  -----\n"
     ]
    }
   ],
   "source": [
    "model =  \"log_mpg ~ log_cylinders+log_horsepower+log_weight +log_acceleration+ model_year + origin_1\"\n",
    "result3 = models.bootstrap_linear_regression(model, data=df_2)\n",
    "print(models.describe_bootstrap_lr(result3))\n"
   ]
  },
  {
   "cell_type": "markdown",
   "metadata": {},
   "source": [
    "The $R^2$ and $\\sigma$ have remained the same, how about the *adjusted* $R^2$:"
   ]
  },
  {
   "cell_type": "code",
   "execution_count": 89,
   "metadata": {},
   "outputs": [
    {
     "data": {
      "text/plain": [
       "0.8996713204545834"
      ]
     },
     "execution_count": 89,
     "metadata": {},
     "output_type": "execute_result"
    }
   ],
   "source": [
    "models.adjusted_r_squared(result3)"
   ]
  },
  {
   "cell_type": "markdown",
   "metadata": {},
   "source": [
    "The *adjusted*  $R^2$ showed a slight improvement.\n",
    "\n",
    "We can conclude that this is our final model."
   ]
  },
  {
   "cell_type": "markdown",
   "metadata": {
    "colab_type": "text",
    "id": "VH-z_zTM5TtV"
   },
   "source": [
    "<a id=\"describe\"></a> \n",
    "## 1.4 - Describe the model"
   ]
  },
  {
   "cell_type": "markdown",
   "metadata": {},
   "source": [
    "Our final model therefore consists of the following features:\n",
    "\n",
    "- **log_cylinders**: The logarithmic value of the number of cylinders that the engine has\n",
    "- **log_horsepower**: The logarithmic value of the horsepower of the car\n",
    "- **log_weight**: The logarithmic value of the weight\n",
    "- **log_acceleration**: The logarithmic value of the acceleration of the car\n",
    "- **model_year**: The year that the car was manfactured \n",
    "- **origin_1**: a boolean binary feature indicating a value of 1 is if the car originated from the USA.\n",
    "\n",
    "The final coefficients are as follows:\n",
    "- **$\\beta_0$**:  7.27   \n",
    "- **$\\beta_1$**: -0.14 \n",
    "- **$\\beta_2$**: -0.25\n",
    "- **$\\beta_3$**: -0.56  \n",
    "- **$\\beta_4$**: -0.20  \n",
    "- **$\\beta_5$**:  0.03   \n",
    "- **$\\beta_6$**: -0.04  \n",
    "\n",
    "Overall, all the coefficients are credible, zeros are not included with their intervals and the ranges are relatively narrow.\n",
    "\n",
    "All the signs are negative except for model_year which is supported by our EDA. The higher the cylinders, horsepower, weight, and acceleration the higher the energy required for the car to move. Therefore requiring a larger mpg. \n",
    "\n",
    "model_year is positive, as shown in our EDA, manufacturers tended to produce cars with less cylinders with time, therefore resulting in a lower mpg.\n",
    "\n",
    "origin_1 is negative as American cars tended to have more cylinders.\n",
    "\n",
    "Our final model is therefore:\n",
    "\n",
    "**log_mpg = 7.27 - 0.14 $\\times$ log_cylinders - 0.25 $\\times$ log_horsepower - 0.56 $\\times$ log_weight -0.20 $\\times$ log_acceleration + 0.03 $\\times$ model_year - 0.04 $\\times$ origin_1**\n"
   ]
  },
  {
   "cell_type": "markdown",
   "metadata": {},
   "source": [
    "In order to calclate the generalization error, first we're going define some functions: \n",
    "\n",
    "\n",
    "\n",
    "Instead of MSE, I'm using standard error (the square root) :"
   ]
  },
  {
   "cell_type": "code",
   "execution_count": 90,
   "metadata": {},
   "outputs": [],
   "source": [
    "def sse(results):\n",
    "    errors = results['residuals']\n",
    "    n = len( errors)\n",
    "    squared_error = np.sum( [e**2 for e in errors])\n",
    "    return np.sqrt((1.0/n) * squared_error)"
   ]
  },
  {
   "cell_type": "markdown",
   "metadata": {},
   "source": [
    "The function \"chunks\" `xs` into `n` chunks."
   ]
  },
  {
   "cell_type": "code",
   "execution_count": 91,
   "metadata": {},
   "outputs": [],
   "source": [
    "def chunk(xs, n):\n",
    "    k, m = divmod(len(xs), n)\n",
    "    return [xs[i * k + min(i, m):(i + 1) * k + min(i + 1, m)] for i in range(n)]"
   ]
  },
  {
   "cell_type": "markdown",
   "metadata": {},
   "source": [
    "This next function does the actual cross validation:"
   ]
  },
  {
   "cell_type": "code",
   "execution_count": 92,
   "metadata": {},
   "outputs": [],
   "source": [
    "def cross_validation(algorithm, formula, data, evaluate, fold_count=10, repetitions=3):\n",
    "    indices = list(range(len( data)))\n",
    "    metrics = []\n",
    "    for _ in range(repetitions):\n",
    "        random.shuffle(indices)\n",
    "        folds = chunk(indices, fold_count)\n",
    "        for fold in folds:\n",
    "            test_data = data.iloc[fold]\n",
    "            train_indices = [idx not in fold for idx in indices]\n",
    "            train_data = data.iloc[train_indices]\n",
    "            result = algorithm(formula, data=train_data)\n",
    "            model = result[\"model\"]\n",
    "            y, X = patsy.dmatrices(formula, test_data, return_type=\"matrix\")\n",
    "            # y = np.ravel( y) # might need for logistic regression\n",
    "            results = models.summarize(formula, X, y, model)\n",
    "            metric = evaluate(results)\n",
    "            metrics.append(metric)\n",
    "    return metrics"
   ]
  },
  {
   "cell_type": "markdown",
   "metadata": {},
   "source": [
    "Let's run `cross_validation` on our model and data:"
   ]
  },
  {
   "cell_type": "code",
   "execution_count": 93,
   "metadata": {},
   "outputs": [],
   "source": [
    "import random\n",
    "import patsy"
   ]
  },
  {
   "cell_type": "code",
   "execution_count": 94,
   "metadata": {},
   "outputs": [],
   "source": [
    "formula = \"log_mpg ~ log_cylinders+log_horsepower+log_weight +log_acceleration+ model_year + origin_1\"\n",
    "result = cross_validation(models.linear_regression, formula, df_2, lambda r: (r[\"sigma\"], r[\"r_squared\"]))"
   ]
  },
  {
   "cell_type": "code",
   "execution_count": 95,
   "metadata": {},
   "outputs": [],
   "source": [
    "result_e = cross_validation(models.linear_regression, formula, df_2, sse)"
   ]
  },
  {
   "cell_type": "code",
   "execution_count": 96,
   "metadata": {},
   "outputs": [
    {
     "name": "stdout",
     "output_type": "stream",
     "text": [
      "95% CI for sigma: [0.08249075 0.14909007]\n"
     ]
    }
   ],
   "source": [
    "print(r\"95% CI for sigma:\", stats.mstats.mquantiles([r[0] for r in result], [0.025, 0.975]))"
   ]
  },
  {
   "cell_type": "code",
   "execution_count": 97,
   "metadata": {},
   "outputs": [
    {
     "name": "stdout",
     "output_type": "stream",
     "text": [
      "95% CI for R^2: [0.84618273 0.95770876]\n"
     ]
    }
   ],
   "source": [
    "print(r\"95% CI for R^2:\", stats.mstats.mquantiles([r[1] for r in result], [0.025, 0.975]))"
   ]
  },
  {
   "cell_type": "code",
   "execution_count": 98,
   "metadata": {},
   "outputs": [
    {
     "name": "stdout",
     "output_type": "stream",
     "text": [
      "95% CI for SSE: [0.07692761 0.13317283]\n"
     ]
    }
   ],
   "source": [
    "print(r\"95% CI for SSE:\", stats.mstats.mquantiles([result_e], [0.025, 0.975]))"
   ]
  },
  {
   "cell_type": "markdown",
   "metadata": {},
   "source": [
    "The *difference* between the two intervals is that the first Bootstrap results are based on a model evaluated against the data it was tested with whereas the 10 fold cross validation simulates the application of the model against data that was not used to train it.\n",
    "\n",
    "Thus, when we field this model into \"production\" (use it on new data), the 10 fold cross validation results simulate the range of results we should expect to see.\n",
    "\n",
    "Another possible interpretation of the question is that we can calculate the *mean* $\\sigma$ ,$R^2$ and SSE and calculate the 95% credible intervals for the *mean* values. This also makes sense. If we want to predict the average performance, we might want to see the credible intervals for that *average* performance (yes, we are estimating the average performance of a model that estimates mpg).\n",
    "\n",
    "Let's start by seeing what the mean values are:"
   ]
  },
  {
   "cell_type": "code",
   "execution_count": 99,
   "metadata": {},
   "outputs": [],
   "source": [
    "sigmas = [r[0] for r in result]\n",
    "r_squareds = [r[1] for r in result]"
   ]
  },
  {
   "cell_type": "code",
   "execution_count": 100,
   "metadata": {
    "scrolled": true
   },
   "outputs": [
    {
     "name": "stdout",
     "output_type": "stream",
     "text": [
      "mean sigma:  0.11749073381874722\n",
      "mean R^2:  0.8967364726985199\n"
     ]
    }
   ],
   "source": [
    "print(\"mean sigma: \", np.mean(sigmas))\n",
    "print(\"mean R^2: \", np.mean(r_squareds))"
   ]
  },
  {
   "cell_type": "code",
   "execution_count": 101,
   "metadata": {},
   "outputs": [
    {
     "name": "stdout",
     "output_type": "stream",
     "text": [
      "mean SSE:  0.10621201836284956\n"
     ]
    }
   ],
   "source": [
    "print(\"mean SSE: \", np.mean(result_e))"
   ]
  },
  {
   "cell_type": "code",
   "execution_count": 102,
   "metadata": {},
   "outputs": [],
   "source": [
    "def resample(data):\n",
    "    n = len(data)\n",
    "    return [data[ i] for i in [stats.randint.rvs(0, n - 1) for _ in range( 0, n)]]"
   ]
  },
  {
   "cell_type": "code",
   "execution_count": 103,
   "metadata": {},
   "outputs": [],
   "source": [
    "bootstrap = {}\n",
    "bootstrap[\"sigma\"] = np.array([np.mean(s) for s in [resample(sigmas) for i in range( 0, 1000)]])\n",
    "bootstrap[\"r_squared\"] = np.array([np.mean(r) for r in [resample(r_squareds) for i in range( 0, 1000)]])"
   ]
  },
  {
   "cell_type": "code",
   "execution_count": 104,
   "metadata": {},
   "outputs": [],
   "source": [
    "posterior_sse = np.array([np.mean(s) for s in [resample(result_e) for i in range( 0, 1000)]])"
   ]
  },
  {
   "cell_type": "code",
   "execution_count": 105,
   "metadata": {
    "scrolled": true
   },
   "outputs": [
    {
     "name": "stdout",
     "output_type": "stream",
     "text": [
      "95% CI for *mean* sigma: [0.11171418 0.1240771 ]\n"
     ]
    }
   ],
   "source": [
    "print(r\"95% CI for *mean* sigma:\", stats.mstats.mquantiles(bootstrap[\"sigma\"], [0.025, 0.975]))"
   ]
  },
  {
   "cell_type": "code",
   "execution_count": 106,
   "metadata": {},
   "outputs": [
    {
     "name": "stdout",
     "output_type": "stream",
     "text": [
      "95% CI for *mean* R^2: [0.88732115 0.90771034]\n"
     ]
    }
   ],
   "source": [
    "print(r\"95% CI for *mean* R^2:\", stats.mstats.mquantiles(bootstrap[\"r_squared\"], [0.025, 0.975]))"
   ]
  },
  {
   "cell_type": "code",
   "execution_count": 107,
   "metadata": {},
   "outputs": [
    {
     "name": "stdout",
     "output_type": "stream",
     "text": [
      "95% CI for *mean* SSE: [0.10208148 0.11138895]\n"
     ]
    }
   ],
   "source": [
    "print(r\"95% CI for *mean* SSE:\", stats.mstats.mquantiles(posterior_sse, [0.025, 0.975]))"
   ]
  },
  {
   "cell_type": "markdown",
   "metadata": {},
   "source": [
    "We have fairly tight bounds."
   ]
  },
  {
   "cell_type": "markdown",
   "metadata": {},
   "source": [
    "Taking $R^2$ as our metric, our generalization error is:"
   ]
  },
  {
   "cell_type": "code",
   "execution_count": 108,
   "metadata": {},
   "outputs": [
    {
     "data": {
      "text/plain": [
       "0.5572458541202173"
      ]
     },
     "execution_count": 108,
     "metadata": {},
     "output_type": "execute_result"
    }
   ],
   "source": [
    "np.abs((np.mean(r_squareds)-result3['r_squared']))*100/result3['r_squared']"
   ]
  },
  {
   "cell_type": "markdown",
   "metadata": {},
   "source": [
    "< 1%"
   ]
  },
  {
   "cell_type": "markdown",
   "metadata": {
    "colab_type": "text",
    "id": "mZt9616O5W40"
   },
   "source": [
    "<a id=\"use\"></a> \n",
    "## 1.5 - Use the model"
   ]
  },
  {
   "cell_type": "markdown",
   "metadata": {},
   "source": [
    "The mean value of log_cylinders,log_horsepower,log_weight,log_acceleration and model_year are, respectively:"
   ]
  },
  {
   "cell_type": "code",
   "execution_count": 109,
   "metadata": {},
   "outputs": [
    {
     "data": {
      "text/plain": [
       "1.659145695069636"
      ]
     },
     "execution_count": 109,
     "metadata": {},
     "output_type": "execute_result"
    }
   ],
   "source": [
    "df_2.log_cylinders.mean()"
   ]
  },
  {
   "cell_type": "code",
   "execution_count": 110,
   "metadata": {},
   "outputs": [
    {
     "data": {
      "text/plain": [
       "4.589365464103951"
      ]
     },
     "execution_count": 110,
     "metadata": {},
     "output_type": "execute_result"
    }
   ],
   "source": [
    "df_2.log_horsepower.mean()"
   ]
  },
  {
   "cell_type": "code",
   "execution_count": 111,
   "metadata": {},
   "outputs": [
    {
     "data": {
      "text/plain": [
       "7.960460522813039"
      ]
     },
     "execution_count": 111,
     "metadata": {},
     "output_type": "execute_result"
    }
   ],
   "source": [
    "df_2.log_weight.mean()"
   ]
  },
  {
   "cell_type": "code",
   "execution_count": 112,
   "metadata": {},
   "outputs": [
    {
     "data": {
      "text/plain": [
       "2.727491439382793"
      ]
     },
     "execution_count": 112,
     "metadata": {},
     "output_type": "execute_result"
    }
   ],
   "source": [
    "df_2.log_acceleration.mean()"
   ]
  },
  {
   "cell_type": "code",
   "execution_count": 113,
   "metadata": {
    "scrolled": true
   },
   "outputs": [
    {
     "data": {
      "text/plain": [
       "75.96103896103897"
      ]
     },
     "execution_count": 113,
     "metadata": {},
     "output_type": "execute_result"
    }
   ],
   "source": [
    "df_2.model_year.mean()"
   ]
  },
  {
   "cell_type": "markdown",
   "metadata": {},
   "source": [
    "Lets take the number of cylinders as 4 whcih equals to a log value of 1.38\n",
    "\n",
    "Horsepower as 98 which equals to a log value of 4.59\n",
    "\n",
    "Weight as 2860 which equals to a log value of 7.96\n",
    "\n",
    "Acceleration as 15.2 which equals to a log value of 2.72\n",
    "\n",
    "model_year as 76 \n",
    "\n",
    "origin_1 as 1\n",
    "\n",
    "Using that feature vector in the `predict` function of the `LinearRegression` model, we have the following $\\hat{log mpg}$:"
   ]
  },
  {
   "cell_type": "code",
   "execution_count": 114,
   "metadata": {},
   "outputs": [
    {
     "data": {
      "text/plain": [
       "3.1228903621176087"
      ]
     },
     "execution_count": 114,
     "metadata": {},
     "output_type": "execute_result"
    }
   ],
   "source": [
    "predicted = result3[\"model\"].predict(np.array([[1, 1.38, 4.59, 7.96, 2.72, 76, 1]]))[0][0]\n",
    "predicted"
   ]
  },
  {
   "cell_type": "markdown",
   "metadata": {},
   "source": [
    "A log_mpg value of 3.122 was predicated. This is equivalent to an mpg value of 22.69."
   ]
  },
  {
   "cell_type": "markdown",
   "metadata": {},
   "source": [
    "The predicted *average* mpg with those characteristics is about 22.7. And this is where $\\sigma$ or the error of the regression comes in. Remember that $\\sigma$ is a standard deviation. If these errors are indeed normally distributed, we expect the true value of the log_mpg to be within 1 standard deviation of the prediction 68% of the time; 2 standard deviations, 95% of the time, and 3 standard deviations, 99.7% of the time.\n",
    "\n",
    "We can do a quick estimate of the 95% bounds on our estimate is:"
   ]
  },
  {
   "cell_type": "code",
   "execution_count": 115,
   "metadata": {},
   "outputs": [
    {
     "name": "stdout",
     "output_type": "stream",
     "text": [
      "(2.91, 3.34)\n"
     ]
    }
   ],
   "source": [
    "print(\"({0:.2f}, {1:.2f})\".format(predicted - 2 * result3[\"sigma\"], predicted + 2 * result3[\"sigma\"]))"
   ]
  },
  {
   "cell_type": "markdown",
   "metadata": {},
   "source": [
    "The mean and standard deviation of log_mpg are:"
   ]
  },
  {
   "cell_type": "code",
   "execution_count": 116,
   "metadata": {},
   "outputs": [
    {
     "name": "stdout",
     "output_type": "stream",
     "text": [
      "log_mpg = 3.10 (0.34)\n"
     ]
    }
   ],
   "source": [
    "mean_log_mpg = df_2.log_mpg.mean()\n",
    "std_log_mpg = df_2.log_mpg.std()\n",
    "print(\"log_mpg = {0:.2f} ({1:.2f})\".format(mean_log_mpg, std_log_mpg))"
   ]
  },
  {
   "cell_type": "code",
   "execution_count": 117,
   "metadata": {},
   "outputs": [],
   "source": [
    "def bootstrap_prediction(result, feature_values):\n",
    "    # resampled_coefficients is a DataFrame in result.\n",
    "    # each *row* is a different bootstrap model.\n",
    "    # we use a Dict instead of Vector because the order may not be preserved.\n",
    "    # we should modify this to use the model to pick the values and possibly\n",
    "    # convert interactions terms.\n",
    "    results = []\n",
    "    for coefficients in result[\"resampled_coefficients\"].itertuples():\n",
    "        estimate = 0\n",
    "        for feature in feature_values.keys():\n",
    "            estimate += feature_values[feature] * getattr(coefficients, feature)\n",
    "        results.append(estimate)\n",
    "    return np.array(results)"
   ]
  },
  {
   "cell_type": "markdown",
   "metadata": {},
   "source": [
    "The mean of all of our predictions is:"
   ]
  },
  {
   "cell_type": "code",
   "execution_count": 118,
   "metadata": {},
   "outputs": [
    {
     "data": {
      "text/plain": [
       "3.119901072756921"
      ]
     },
     "execution_count": 118,
     "metadata": {},
     "output_type": "execute_result"
    }
   ],
   "source": [
    "feature_values = {\"intercept\": 1, \"log_cylinders\": 1.38, \"log_horsepower\": 4.59, \"log_weight\": 7.96,\n",
    "                  \"log_acceleration\":2.72,\"model_year\":76,\"origin_1\":1}\n",
    "posterior_prediction = bootstrap_prediction(result3, feature_values)\n",
    "posterior_prediction.mean()"
   ]
  },
  {
   "cell_type": "markdown",
   "metadata": {},
   "source": [
    "The distribution looks like:"
   ]
  },
  {
   "cell_type": "code",
   "execution_count": 119,
   "metadata": {},
   "outputs": [
    {
     "data": {
      "image/png": "[encoded data removed]",
      "text/plain": [
       "<Figure size 1440x432 with 1 Axes>"
      ]
     },
     "metadata": {},
     "output_type": "display_data"
    }
   ],
   "source": [
    "figure = plt.figure(figsize=(20, 6))\n",
    "\n",
    "axes = figure.add_subplot(1, 1, 1)\n",
    "axes.hist(posterior_prediction, color=\"DimGray\", density=True)\n",
    "axes.set_xlabel( \"log_mpg\")\n",
    "axes.set_ylabel( \"Density\")\n",
    "axes.set_title(\"Histogram of log_mpg Predictions for 4 cylinder, 98 hp, 2860 weight, 15.2 acceleration, 1976, american cars \")\n",
    "\n",
    "plt.show()\n",
    "plt.close()"
   ]
  },
  {
   "cell_type": "markdown",
   "metadata": {},
   "source": [
    "Our 95% credible interval (or Bayesian confidence interval) is:"
   ]
  },
  {
   "cell_type": "code",
   "execution_count": 120,
   "metadata": {},
   "outputs": [
    {
     "name": "stdout",
     "output_type": "stream",
     "text": [
      "95% BCI [3.09593433 3.14533821]\n"
     ]
    }
   ],
   "source": [
    "print(\"95% BCI\", stats.mstats.mquantiles( posterior_prediction, [0.025, 0.975]))"
   ]
  },
  {
   "cell_type": "markdown",
   "metadata": {},
   "source": [
    "Note that this bound is a lot tighter."
   ]
  },
  {
   "cell_type": "markdown",
   "metadata": {},
   "source": [
    "Equivalent to a range of mpg values of:"
   ]
  },
  {
   "cell_type": "code",
   "execution_count": 121,
   "metadata": {},
   "outputs": [
    {
     "data": {
      "text/plain": [
       "array([22.10788496, 23.22753003])"
      ]
     },
     "execution_count": 121,
     "metadata": {},
     "output_type": "execute_result"
    }
   ],
   "source": [
    "np.exp(stats.mstats.mquantiles( posterior_prediction, [0.025, 0.975]))"
   ]
  }
 ],
 "metadata": {
  "colab": {
   "collapsed_sections": [],
   "name": "Problem Set 5.ipynb",
   "provenance": [],
   "toc_visible": true
  },
  "kernelspec": {
   "display_name": "Python 3",
   "language": "python",
   "name": "python3"
  },
  "language_info": {
   "codemirror_mode": {
    "name": "ipython",
    "version": 3
   },
   "file_extension": ".py",
   "mimetype": "text/x-python",
   "name": "python",
   "nbconvert_exporter": "python",
   "pygments_lexer": "ipython3",
   "version": "3.7.5"
  },
  "toc": {
   "colors": {
    "hover_highlight": "#DAA520",
    "navigate_num": "#000000",
    "navigate_text": "#333333",
    "running_highlight": "#FF0000",
    "selected_highlight": "#FFD700",
    "sidebar_border": "#EEEEEE",
    "wrapper_background": "#FFFFFF"
   },
   "moveMenuLeft": true,
   "nav_menu": {
    "height": "66px",
    "width": "252px"
   },
   "navigate_menu": true,
   "number_sections": true,
   "sideBar": true,
   "threshold": 4,
   "toc_cell": false,
   "toc_section_display": "block",
   "toc_window_display": false,
   "widenNotebook": false
  }
 },
 "nbformat": 4,
 "nbformat_minor": 1
}
